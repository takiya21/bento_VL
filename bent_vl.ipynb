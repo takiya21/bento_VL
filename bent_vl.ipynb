{
 "cells": [
  {
   "cell_type": "code",
   "execution_count": 1,
   "metadata": {},
   "outputs": [
    {
     "name": "stderr",
     "output_type": "stream",
     "text": [
      "/home/taki/miniconda3/envs/mm-cot/lib/python3.10/site-packages/tqdm/auto.py:21: TqdmWarning: IProgress not found. Please update jupyter and ipywidgets. See https://ipywidgets.readthedocs.io/en/stable/user_install.html\n",
      "  from .autonotebook import tqdm as notebook_tqdm\n"
     ]
    }
   ],
   "source": [
    "import os\n",
    "import torch\n",
    "import torchvision\n",
    "from torch import nn\n",
    "import torch.nn.functional as F\n",
    "from torchvision import datasets, models, transforms\n",
    "from torchvision.models.resnet import ResNet18_Weights, ResNet50_Weights \n",
    "import torchinfo\n",
    "from torchvision.models.feature_extraction import get_graph_node_names,create_feature_extractor\n",
    "from torch import Tensor\n",
    "import datasets\n",
    "import transformers\n",
    "import matplotlib.pyplot as plt"
   ]
  },
  {
   "attachments": {},
   "cell_type": "markdown",
   "metadata": {},
   "source": [
    "## food101データセット(画像とラベル)"
   ]
  },
  {
   "cell_type": "code",
   "execution_count": 4,
   "metadata": {},
   "outputs": [],
   "source": [
    "food101_map = {\n",
    "    \"apple_pie\": 0,\n",
    "    \"baby_back_ribs\": 1,\n",
    "    \"baklava\": 2,\n",
    "    \"beef_carpaccio\": 3,\n",
    "    \"beef_tartare\": 4,\n",
    "    \"beet_salad\": 5,\n",
    "    \"beignets\": 6,\n",
    "    \"bibimbap\": 7,\n",
    "    \"bread_pudding\": 8,\n",
    "    \"breakfast_burrito\": 9,\n",
    "    \"bruschetta\": 10,\n",
    "    \"caesar_salad\": 11,\n",
    "    \"cannoli\": 12,\n",
    "    \"caprese_salad\": 13,\n",
    "    \"carrot_cake\": 14,\n",
    "    \"ceviche\": 15,\n",
    "    \"cheesecake\": 16,\n",
    "    \"cheese_plate\": 17,\n",
    "    \"chicken_curry\": 18,\n",
    "    \"chicken_quesadilla\": 19,\n",
    "    \"chicken_wings\": 20,\n",
    "    \"chocolate_cake\": 21,\n",
    "    \"chocolate_mousse\": 22,\n",
    "    \"churros\": 23,\n",
    "    \"clam_chowder\": 24,\n",
    "    \"club_sandwich\": 25,\n",
    "    \"crab_cakes\": 26,\n",
    "    \"creme_brulee\": 27,\n",
    "    \"croque_madame\": 28,\n",
    "    \"cup_cakes\": 29,\n",
    "    \"deviled_eggs\": 30,\n",
    "    \"donuts\": 31,\n",
    "    \"dumplings\": 32,\n",
    "    \"edamame\": 33,\n",
    "    \"eggs_benedict\": 34,\n",
    "    \"escargots\": 35,\n",
    "    \"falafel\": 36,\n",
    "    \"filet_mignon\": 37,\n",
    "    \"fish_and_chips\": 38,\n",
    "    \"foie_gras\": 39,\n",
    "    \"french_fries\": 40,\n",
    "    \"french_onion_soup\": 41,\n",
    "    \"french_toast\": 42,\n",
    "    \"fried_calamari\": 43,\n",
    "    \"fried_rice\": 44,\n",
    "    \"frozen_yogurt\": 45,\n",
    "    \"garlic_bread\": 46,\n",
    "    \"gnocchi\": 47,\n",
    "    \"greek_salad\": 48,\n",
    "    \"grilled_cheese_sandwich\": 49,\n",
    "    \"grilled_salmon\": 50,\n",
    "    \"guacamole\": 51,\n",
    "    \"gyoza\": 52,\n",
    "    \"hamburger\": 53,\n",
    "    \"hot_and_sour_soup\": 54,\n",
    "    \"hot_dog\": 55,\n",
    "    \"huevos_rancheros\": 56,\n",
    "    \"hummus\": 57,\n",
    "    \"ice_cream\": 58,\n",
    "    \"lasagna\": 59,\n",
    "    \"lobster_bisque\": 60,\n",
    "    \"lobster_roll_sandwich\": 61,\n",
    "    \"macaroni_and_cheese\": 62,\n",
    "    \"macarons\": 63,\n",
    "    \"miso_soup\": 64,\n",
    "    \"mussels\": 65,\n",
    "    \"nachos\": 66,\n",
    "    \"omelette\": 67,\n",
    "    \"onion_rings\": 68,\n",
    "    \"oysters\": 69,\n",
    "    \"pad_thai\": 70,\n",
    "    \"paella\": 71,\n",
    "    \"pancakes\": 72,\n",
    "    \"panna_cotta\": 73,\n",
    "    \"peking_duck\": 74,\n",
    "    \"pho\": 75,\n",
    "    \"pizza\": 76,\n",
    "    \"pork_chop\": 77,\n",
    "    \"poutine\": 78,\n",
    "    \"prime_rib\": 79,\n",
    "    \"pulled_pork_sandwich\": 80,\n",
    "    \"ramen\": 81,\n",
    "    \"ravioli\": 82,\n",
    "    \"red_velvet_cake\": 83,\n",
    "    \"risotto\": 84,\n",
    "    \"samosa\": 85,\n",
    "    \"sashimi\": 86,\n",
    "    \"scallops\": 87,\n",
    "    \"seaweed_salad\": 88,\n",
    "    \"shrimp_and_grits\": 89,\n",
    "    \"spaghetti_bolognese\": 90,\n",
    "    \"spaghetti_carbonara\": 91,\n",
    "    \"spring_rolls\": 92,\n",
    "    \"steak\": 93,\n",
    "    \"strawberry_shortcake\": 94,\n",
    "    \"sushi\": 95,\n",
    "    \"tacos\": 96,\n",
    "    \"takoyaki\": 97,\n",
    "    \"tiramisu\": 98,\n",
    "    \"tuna_tartare\": 99,\n",
    "    \"waffles\": 100,\n",
    "}\n"
   ]
  },
  {
   "cell_type": "code",
   "execution_count": 5,
   "metadata": {},
   "outputs": [
    {
     "name": "stdout",
     "output_type": "stream",
     "text": [
      "{0: 'apple_pie', 1: 'baby_back_ribs', 2: 'baklava', 3: 'beef_carpaccio', 4: 'beef_tartare', 5: 'beet_salad', 6: 'beignets', 7: 'bibimbap', 8: 'bread_pudding', 9: 'breakfast_burrito', 10: 'bruschetta', 11: 'caesar_salad', 12: 'cannoli', 13: 'caprese_salad', 14: 'carrot_cake', 15: 'ceviche', 16: 'cheesecake', 17: 'cheese_plate', 18: 'chicken_curry', 19: 'chicken_quesadilla', 20: 'chicken_wings', 21: 'chocolate_cake', 22: 'chocolate_mousse', 23: 'churros', 24: 'clam_chowder', 25: 'club_sandwich', 26: 'crab_cakes', 27: 'creme_brulee', 28: 'croque_madame', 29: 'cup_cakes', 30: 'deviled_eggs', 31: 'donuts', 32: 'dumplings', 33: 'edamame', 34: 'eggs_benedict', 35: 'escargots', 36: 'falafel', 37: 'filet_mignon', 38: 'fish_and_chips', 39: 'foie_gras', 40: 'french_fries', 41: 'french_onion_soup', 42: 'french_toast', 43: 'fried_calamari', 44: 'fried_rice', 45: 'frozen_yogurt', 46: 'garlic_bread', 47: 'gnocchi', 48: 'greek_salad', 49: 'grilled_cheese_sandwich', 50: 'grilled_salmon', 51: 'guacamole', 52: 'gyoza', 53: 'hamburger', 54: 'hot_and_sour_soup', 55: 'hot_dog', 56: 'huevos_rancheros', 57: 'hummus', 58: 'ice_cream', 59: 'lasagna', 60: 'lobster_bisque', 61: 'lobster_roll_sandwich', 62: 'macaroni_and_cheese', 63: 'macarons', 64: 'miso_soup', 65: 'mussels', 66: 'nachos', 67: 'omelette', 68: 'onion_rings', 69: 'oysters', 70: 'pad_thai', 71: 'paella', 72: 'pancakes', 73: 'panna_cotta', 74: 'peking_duck', 75: 'pho', 76: 'pizza', 77: 'pork_chop', 78: 'poutine', 79: 'prime_rib', 80: 'pulled_pork_sandwich', 81: 'ramen', 82: 'ravioli', 83: 'red_velvet_cake', 84: 'risotto', 85: 'samosa', 86: 'sashimi', 87: 'scallops', 88: 'seaweed_salad', 89: 'shrimp_and_grits', 90: 'spaghetti_bolognese', 91: 'spaghetti_carbonara', 92: 'spring_rolls', 93: 'steak', 94: 'strawberry_shortcake', 95: 'sushi', 96: 'tacos', 97: 'takoyaki', 98: 'tiramisu', 99: 'tuna_tartare', 100: 'waffles'}\n"
     ]
    }
   ],
   "source": [
    "food101_reverse_map = {}\n",
    "for k, v in food101_map.items():\n",
    "    food101_reverse_map[v] = k\n",
    "    \n",
    "print(food101_reverse_map)"
   ]
  },
  {
   "cell_type": "code",
   "execution_count": 6,
   "metadata": {},
   "outputs": [
    {
     "name": "stderr",
     "output_type": "stream",
     "text": [
      "Found cached dataset food101 (/home/taki/.cache/huggingface/datasets/food101/default/0.0.0/7cebe41a80fb2da3f08fcbef769c8874073a86346f7fb96dc0847d4dfc318295)\n",
      "100%|██████████| 2/2 [00:00<00:00, 265.08it/s]\n"
     ]
    },
    {
     "data": {
      "image/png": "[encoded data removed]",
      "text/plain": [
       "<Figure size 640x480 with 1 Axes>"
      ]
     },
     "metadata": {},
     "output_type": "display_data"
    },
    {
     "name": "stdout",
     "output_type": "stream",
     "text": [
      "beignets\n"
     ]
    }
   ],
   "source": [
    "index = 0\n",
    "dataset = datasets.load_dataset(\"food101\")\n",
    "train_dataset = dataset[\"train\"]\n",
    "sample = train_dataset[0]\n",
    "plt.imshow(sample[\"image\"])\n",
    "plt.show()\n",
    "print(food101_reverse_map[sample[\"label\"]])"
   ]
  },
  {
   "cell_type": "code",
   "execution_count": 5,
   "metadata": {},
   "outputs": [
    {
     "data": {
      "text/plain": [
       "{'image': <PIL.JpegImagePlugin.JpegImageFile image mode=RGB size=384x512>,\n",
       " 'label': 6}"
      ]
     },
     "execution_count": 5,
     "metadata": {},
     "output_type": "execute_result"
    }
   ],
   "source": [
    "sample"
   ]
  },
  {
   "attachments": {},
   "cell_type": "markdown",
   "metadata": {},
   "source": [
    "### モデル"
   ]
  },
  {
   "cell_type": "code",
   "execution_count": 7,
   "metadata": {},
   "outputs": [],
   "source": [
    "class BentoModel(nn.Module):\n",
    "    def __init__(self, bottle:int, out_dim:int = 7)->None:\n",
    "        super().__init__()\n",
    "\n",
    "        #self.conditional_flg = conditional_flg #属性を追加するかしないか\n",
    "        self.bottle = bottle\n",
    "        self.out_dim = out_dim\n",
    "\n",
    "        \n",
    "        #画像エンコーダー\n",
    "        resnet18 = models.resnet18(weights=ResNet18_Weights.IMAGENET1K_V1)\n",
    "        self.resnet18_feature_extractor = create_feature_extractor(\n",
    "            resnet18, \n",
    "            return_nodes={\"flatten\":\"features\"}\n",
    "        )\n",
    "        #言語エンコーダー\n",
    "        self.text_model = transformers.CLIPTextModel.from_pretrained(\"openai/clip-vit-base-patch32\")\n",
    "        \n",
    "        #結合層\n",
    "        num_visual_last_dim = 512\n",
    "        num_text_last_dim = 512\n",
    "        self.fc1 = nn.Linear(num_visual_last_dim+num_text_last_dim, self.bottle)\n",
    "        self.conditional_fc = nn.Linear(self.bottle, out_dim)\n",
    "        self.sigmoid = nn.Sigmoid()\n",
    "        \n",
    "    \n",
    "    def forward(self, img:Tensor, input_ids:Tensor, attention_mask:Tensor)->Tensor:\n",
    "        \"\"\"_summary_\n",
    "\n",
    "        Args:\n",
    "            img (Tensor): (batch_size, 3, h, w)\n",
    "            input_ids (Tensor): (batch_size, sequence_length)\n",
    "            attention_mask (Tensor): (batch_size, sequence_length)\n",
    "\n",
    "        Returns:\n",
    "            Tensor: _description_\n",
    "        \"\"\"\n",
    "\n",
    "        img_f = self.resnet18_feature_extractor(img)[\"features\"]\n",
    "        txt_f = self.text_model(input_ids,attention_mask)[\"pooler_output\"]\n",
    "        x = torch.cat((img_f,txt_f), 1)#画像言語特徴量の結合\n",
    "        x = self.fc1(x)\n",
    "        x = self.conditional_fc(x)\n",
    "        x = self.sigmoid(x)\n",
    "\n",
    "        return x"
   ]
  },
  {
   "cell_type": "code",
   "execution_count": 7,
   "metadata": {},
   "outputs": [
    {
     "data": {
      "text/plain": [
       "Linear(in_features=512, out_features=1000, bias=True)"
      ]
     },
     "execution_count": 7,
     "metadata": {},
     "output_type": "execute_result"
    }
   ],
   "source": [
    "resnet18 = models.resnet18(weights=ResNet18_Weights.IMAGENET1K_V1)\n",
    "resnet18.fc"
   ]
  },
  {
   "cell_type": "code",
   "execution_count": 9,
   "metadata": {},
   "outputs": [
    {
     "data": {
      "text/plain": [
       "Linear(in_features=512, out_features=7, bias=True)"
      ]
     },
     "execution_count": 9,
     "metadata": {},
     "output_type": "execute_result"
    }
   ],
   "source": [
    "resnet18.fc = nn.Linear(512, 7)\n",
    "resnet18.fc"
   ]
  },
  {
   "cell_type": "code",
   "execution_count": 10,
   "metadata": {},
   "outputs": [],
   "source": [
    "resnet18_feature_extractor = create_feature_extractor(\n",
    "            resnet18, \n",
    "            return_nodes={\"flatten\":\"features\"}\n",
    "        )"
   ]
  },
  {
   "cell_type": "code",
   "execution_count": 11,
   "metadata": {},
   "outputs": [
    {
     "data": {
      "text/plain": [
       "ResNet(\n",
       "  (conv1): Conv2d(3, 64, kernel_size=(7, 7), stride=(2, 2), padding=(3, 3), bias=False)\n",
       "  (bn1): BatchNorm2d(64, eps=1e-05, momentum=0.1, affine=True, track_running_stats=True)\n",
       "  (relu): ReLU(inplace=True)\n",
       "  (maxpool): MaxPool2d(kernel_size=3, stride=2, padding=1, dilation=1, ceil_mode=False)\n",
       "  (layer1): Module(\n",
       "    (0): Module(\n",
       "      (conv1): Conv2d(64, 64, kernel_size=(3, 3), stride=(1, 1), padding=(1, 1), bias=False)\n",
       "      (bn1): BatchNorm2d(64, eps=1e-05, momentum=0.1, affine=True, track_running_stats=True)\n",
       "      (relu): ReLU(inplace=True)\n",
       "      (conv2): Conv2d(64, 64, kernel_size=(3, 3), stride=(1, 1), padding=(1, 1), bias=False)\n",
       "      (bn2): BatchNorm2d(64, eps=1e-05, momentum=0.1, affine=True, track_running_stats=True)\n",
       "    )\n",
       "    (1): Module(\n",
       "      (conv1): Conv2d(64, 64, kernel_size=(3, 3), stride=(1, 1), padding=(1, 1), bias=False)\n",
       "      (bn1): BatchNorm2d(64, eps=1e-05, momentum=0.1, affine=True, track_running_stats=True)\n",
       "      (relu): ReLU(inplace=True)\n",
       "      (conv2): Conv2d(64, 64, kernel_size=(3, 3), stride=(1, 1), padding=(1, 1), bias=False)\n",
       "      (bn2): BatchNorm2d(64, eps=1e-05, momentum=0.1, affine=True, track_running_stats=True)\n",
       "    )\n",
       "  )\n",
       "  (layer2): Module(\n",
       "    (0): Module(\n",
       "      (conv1): Conv2d(64, 128, kernel_size=(3, 3), stride=(2, 2), padding=(1, 1), bias=False)\n",
       "      (bn1): BatchNorm2d(128, eps=1e-05, momentum=0.1, affine=True, track_running_stats=True)\n",
       "      (relu): ReLU(inplace=True)\n",
       "      (conv2): Conv2d(128, 128, kernel_size=(3, 3), stride=(1, 1), padding=(1, 1), bias=False)\n",
       "      (bn2): BatchNorm2d(128, eps=1e-05, momentum=0.1, affine=True, track_running_stats=True)\n",
       "      (downsample): Module(\n",
       "        (0): Conv2d(64, 128, kernel_size=(1, 1), stride=(2, 2), bias=False)\n",
       "        (1): BatchNorm2d(128, eps=1e-05, momentum=0.1, affine=True, track_running_stats=True)\n",
       "      )\n",
       "    )\n",
       "    (1): Module(\n",
       "      (conv1): Conv2d(128, 128, kernel_size=(3, 3), stride=(1, 1), padding=(1, 1), bias=False)\n",
       "      (bn1): BatchNorm2d(128, eps=1e-05, momentum=0.1, affine=True, track_running_stats=True)\n",
       "      (relu): ReLU(inplace=True)\n",
       "      (conv2): Conv2d(128, 128, kernel_size=(3, 3), stride=(1, 1), padding=(1, 1), bias=False)\n",
       "      (bn2): BatchNorm2d(128, eps=1e-05, momentum=0.1, affine=True, track_running_stats=True)\n",
       "    )\n",
       "  )\n",
       "  (layer3): Module(\n",
       "    (0): Module(\n",
       "      (conv1): Conv2d(128, 256, kernel_size=(3, 3), stride=(2, 2), padding=(1, 1), bias=False)\n",
       "      (bn1): BatchNorm2d(256, eps=1e-05, momentum=0.1, affine=True, track_running_stats=True)\n",
       "      (relu): ReLU(inplace=True)\n",
       "      (conv2): Conv2d(256, 256, kernel_size=(3, 3), stride=(1, 1), padding=(1, 1), bias=False)\n",
       "      (bn2): BatchNorm2d(256, eps=1e-05, momentum=0.1, affine=True, track_running_stats=True)\n",
       "      (downsample): Module(\n",
       "        (0): Conv2d(128, 256, kernel_size=(1, 1), stride=(2, 2), bias=False)\n",
       "        (1): BatchNorm2d(256, eps=1e-05, momentum=0.1, affine=True, track_running_stats=True)\n",
       "      )\n",
       "    )\n",
       "    (1): Module(\n",
       "      (conv1): Conv2d(256, 256, kernel_size=(3, 3), stride=(1, 1), padding=(1, 1), bias=False)\n",
       "      (bn1): BatchNorm2d(256, eps=1e-05, momentum=0.1, affine=True, track_running_stats=True)\n",
       "      (relu): ReLU(inplace=True)\n",
       "      (conv2): Conv2d(256, 256, kernel_size=(3, 3), stride=(1, 1), padding=(1, 1), bias=False)\n",
       "      (bn2): BatchNorm2d(256, eps=1e-05, momentum=0.1, affine=True, track_running_stats=True)\n",
       "    )\n",
       "  )\n",
       "  (layer4): Module(\n",
       "    (0): Module(\n",
       "      (conv1): Conv2d(256, 512, kernel_size=(3, 3), stride=(2, 2), padding=(1, 1), bias=False)\n",
       "      (bn1): BatchNorm2d(512, eps=1e-05, momentum=0.1, affine=True, track_running_stats=True)\n",
       "      (relu): ReLU(inplace=True)\n",
       "      (conv2): Conv2d(512, 512, kernel_size=(3, 3), stride=(1, 1), padding=(1, 1), bias=False)\n",
       "      (bn2): BatchNorm2d(512, eps=1e-05, momentum=0.1, affine=True, track_running_stats=True)\n",
       "      (downsample): Module(\n",
       "        (0): Conv2d(256, 512, kernel_size=(1, 1), stride=(2, 2), bias=False)\n",
       "        (1): BatchNorm2d(512, eps=1e-05, momentum=0.1, affine=True, track_running_stats=True)\n",
       "      )\n",
       "    )\n",
       "    (1): Module(\n",
       "      (conv1): Conv2d(512, 512, kernel_size=(3, 3), stride=(1, 1), padding=(1, 1), bias=False)\n",
       "      (bn1): BatchNorm2d(512, eps=1e-05, momentum=0.1, affine=True, track_running_stats=True)\n",
       "      (relu): ReLU(inplace=True)\n",
       "      (conv2): Conv2d(512, 512, kernel_size=(3, 3), stride=(1, 1), padding=(1, 1), bias=False)\n",
       "      (bn2): BatchNorm2d(512, eps=1e-05, momentum=0.1, affine=True, track_running_stats=True)\n",
       "    )\n",
       "  )\n",
       "  (avgpool): AdaptiveAvgPool2d(output_size=(1, 1))\n",
       ")"
      ]
     },
     "execution_count": 11,
     "metadata": {},
     "output_type": "execute_result"
    }
   ],
   "source": [
    "resnet18_feature_extractor"
   ]
  },
  {
   "cell_type": "code",
   "execution_count": 8,
   "metadata": {},
   "outputs": [
    {
     "name": "stdout",
     "output_type": "stream",
     "text": [
      "ImageClassification(\n",
      "    crop_size=[224]\n",
      "    resize_size=[256]\n",
      "    mean=[0.485, 0.456, 0.406]\n",
      "    std=[0.229, 0.224, 0.225]\n",
      "    interpolation=InterpolationMode.BILINEAR\n",
      ")\n",
      "CLIPTokenizerFast(name_or_path='openai/clip-vit-base-patch32', vocab_size=49408, model_max_length=77, is_fast=True, padding_side='right', truncation_side='right', special_tokens={'bos_token': AddedToken(\"<|startoftext|>\", rstrip=False, lstrip=False, single_word=False, normalized=True), 'eos_token': AddedToken(\"<|endoftext|>\", rstrip=False, lstrip=False, single_word=False, normalized=True), 'unk_token': AddedToken(\"<|endoftext|>\", rstrip=False, lstrip=False, single_word=False, normalized=True), 'pad_token': '<|endoftext|>'}, clean_up_tokenization_spaces=True)\n"
     ]
    }
   ],
   "source": [
    "img_transform = ResNet18_Weights.IMAGENET1K_V1.transforms()\n",
    "tokenizer = transformers.CLIPTokenizerFast.from_pretrained(\"openai/clip-vit-base-patch32\") #tokenizer == 言語版transform\n",
    "print(img_transform)\n",
    "print(tokenizer)"
   ]
  },
  {
   "cell_type": "code",
   "execution_count": 8,
   "metadata": {},
   "outputs": [
    {
     "ename": "NameError",
     "evalue": "name 'img_transform' is not defined",
     "output_type": "error",
     "traceback": [
      "\u001b[0;31m---------------------------------------------------------------------------\u001b[0m",
      "\u001b[0;31mNameError\u001b[0m                                 Traceback (most recent call last)",
      "Cell \u001b[0;32mIn[8], line 1\u001b[0m\n\u001b[0;32m----> 1\u001b[0m img_input \u001b[39m=\u001b[39m img_transform(sample[\u001b[39m\"\u001b[39m\u001b[39mimage\u001b[39m\u001b[39m\"\u001b[39m])\u001b[39m.\u001b[39munsqueeze(\u001b[39m0\u001b[39m)\n\u001b[1;32m      2\u001b[0m txt_input \u001b[39m=\u001b[39m tokenizer\u001b[39m.\u001b[39mbatch_encode_plus([food101_reverse_map[sample[\u001b[39m\"\u001b[39m\u001b[39mlabel\u001b[39m\u001b[39m\"\u001b[39m]]], return_tensors\u001b[39m=\u001b[39m\u001b[39m\"\u001b[39m\u001b[39mpt\u001b[39m\u001b[39m\"\u001b[39m) \u001b[39m#list[str]を入力すると、batch_encode_plusは(input_ids, attention_mask)を返す。input_idsは(batch_size,longest_length)のテンソル、attention_maskは(batch_size,longest_length)のテンソル\u001b[39;00m\n",
      "\u001b[0;31mNameError\u001b[0m: name 'img_transform' is not defined"
     ]
    }
   ],
   "source": [
    "img_input = img_transform(sample[\"image\"]).unsqueeze(0)\n",
    "txt_input = tokenizer.batch_encode_plus([food101_reverse_map[sample[\"label\"]]], return_tensors=\"pt\") #list[str]を入力すると、batch_encode_plusは(input_ids, attention_mask)を返す。input_idsは(batch_size,longest_length)のテンソル、attention_maskは(batch_size,longest_length)のテンソル"
   ]
  },
  {
   "cell_type": "code",
   "execution_count": 34,
   "metadata": {},
   "outputs": [
    {
     "data": {
      "text/plain": [
       "'beignets'"
      ]
     },
     "execution_count": 34,
     "metadata": {},
     "output_type": "execute_result"
    }
   ],
   "source": [
    "food101_reverse_map[sample[\"label\"]]"
   ]
  },
  {
   "cell_type": "code",
   "execution_count": 35,
   "metadata": {},
   "outputs": [
    {
     "data": {
      "text/plain": [
       "{'input_ids': tensor([[49406,   571,  1089,  8582, 49407]]), 'attention_mask': tensor([[1, 1, 1, 1, 1]])}"
      ]
     },
     "execution_count": 35,
     "metadata": {},
     "output_type": "execute_result"
    }
   ],
   "source": [
    "txt_input"
   ]
  },
  {
   "cell_type": "code",
   "execution_count": 36,
   "metadata": {},
   "outputs": [
    {
     "name": "stderr",
     "output_type": "stream",
     "text": [
      "Clipping input data to the valid range for imshow with RGB data ([0..1] for floats or [0..255] for integers).\n"
     ]
    },
    {
     "name": "stdout",
     "output_type": "stream",
     "text": [
      "img\n"
     ]
    },
    {
     "data": {
      "image/png": "[encoded data removed]",
      "text/plain": [
       "<Figure size 640x480 with 1 Axes>"
      ]
     },
     "metadata": {},
     "output_type": "display_data"
    },
    {
     "name": "stdout",
     "output_type": "stream",
     "text": [
      "text\n",
      "['beignets']\n",
      "attention_mask\n",
      "torch.Size([1, 5])\n"
     ]
    }
   ],
   "source": [
    "print(\"img\")\n",
    "plt.imshow(img_input.squeeze(0).permute(1, 2, 0))\n",
    "plt.show()\n",
    "print(\"text\")\n",
    "print(tokenizer.batch_decode(txt_input[\"input_ids\"],skip_special_tokens=True))\n",
    "print(\"attention_mask\")\n",
    "print(txt_input[\"attention_mask\"].shape)"
   ]
  },
  {
   "cell_type": "code",
   "execution_count": 37,
   "metadata": {},
   "outputs": [
    {
     "name": "stderr",
     "output_type": "stream",
     "text": [
      "Some weights of the model checkpoint at openai/clip-vit-base-patch32 were not used when initializing CLIPTextModel: ['vision_model.encoder.layers.9.mlp.fc2.weight', 'vision_model.encoder.layers.10.self_attn.q_proj.bias', 'vision_model.encoder.layers.1.self_attn.v_proj.weight', 'vision_model.encoder.layers.0.mlp.fc2.weight', 'vision_model.encoder.layers.5.layer_norm1.weight', 'vision_model.encoder.layers.4.self_attn.out_proj.weight', 'vision_model.encoder.layers.0.mlp.fc1.bias', 'vision_model.pre_layrnorm.weight', 'vision_model.encoder.layers.3.mlp.fc1.bias', 'vision_model.encoder.layers.8.self_attn.v_proj.bias', 'vision_model.encoder.layers.9.mlp.fc1.bias', 'vision_model.encoder.layers.5.self_attn.k_proj.bias', 'vision_model.encoder.layers.11.self_attn.k_proj.bias', 'vision_model.encoder.layers.10.self_attn.k_proj.weight', 'vision_model.encoder.layers.3.self_attn.k_proj.bias', 'vision_model.encoder.layers.4.layer_norm1.weight', 'vision_model.encoder.layers.2.mlp.fc2.bias', 'vision_model.encoder.layers.11.self_attn.v_proj.weight', 'vision_model.encoder.layers.4.self_attn.out_proj.bias', 'vision_model.embeddings.position_ids', 'vision_model.encoder.layers.2.self_attn.out_proj.weight', 'vision_model.encoder.layers.2.self_attn.q_proj.bias', 'vision_model.encoder.layers.6.self_attn.out_proj.bias', 'vision_model.encoder.layers.10.self_attn.k_proj.bias', 'vision_model.encoder.layers.9.self_attn.k_proj.bias', 'vision_model.encoder.layers.11.mlp.fc1.weight', 'vision_model.encoder.layers.1.mlp.fc2.bias', 'vision_model.encoder.layers.9.layer_norm1.weight', 'vision_model.encoder.layers.6.mlp.fc1.weight', 'vision_model.encoder.layers.10.layer_norm1.bias', 'vision_model.encoder.layers.1.layer_norm2.bias', 'vision_model.encoder.layers.11.self_attn.out_proj.weight', 'vision_model.encoder.layers.9.self_attn.v_proj.bias', 'vision_model.encoder.layers.8.layer_norm1.weight', 'vision_model.embeddings.patch_embedding.weight', 'vision_model.encoder.layers.4.layer_norm2.weight', 'vision_model.encoder.layers.8.layer_norm2.bias', 'vision_model.encoder.layers.6.mlp.fc1.bias', 'vision_model.encoder.layers.1.layer_norm2.weight', 'vision_model.encoder.layers.2.layer_norm1.bias', 'vision_model.encoder.layers.5.layer_norm2.bias', 'vision_model.encoder.layers.9.self_attn.k_proj.weight', 'vision_model.encoder.layers.9.self_attn.v_proj.weight', 'vision_model.embeddings.position_embedding.weight', 'vision_model.encoder.layers.9.layer_norm1.bias', 'vision_model.encoder.layers.1.layer_norm1.weight', 'vision_model.encoder.layers.7.layer_norm2.weight', 'vision_model.encoder.layers.4.self_attn.v_proj.bias', 'vision_model.encoder.layers.3.mlp.fc2.bias', 'vision_model.encoder.layers.4.mlp.fc1.bias', 'vision_model.encoder.layers.10.layer_norm2.weight', 'vision_model.encoder.layers.11.self_attn.k_proj.weight', 'vision_model.encoder.layers.0.self_attn.k_proj.bias', 'vision_model.encoder.layers.4.mlp.fc2.bias', 'vision_model.encoder.layers.6.layer_norm2.bias', 'vision_model.encoder.layers.4.self_attn.k_proj.bias', 'vision_model.encoder.layers.8.self_attn.q_proj.bias', 'vision_model.encoder.layers.5.mlp.fc1.weight', 'vision_model.encoder.layers.4.mlp.fc2.weight', 'vision_model.encoder.layers.2.self_attn.v_proj.weight', 'vision_model.encoder.layers.3.self_attn.q_proj.bias', 'vision_model.encoder.layers.9.self_attn.out_proj.weight', 'vision_model.encoder.layers.11.layer_norm1.weight', 'vision_model.encoder.layers.5.self_attn.v_proj.bias', 'vision_model.encoder.layers.1.mlp.fc1.weight', 'vision_model.encoder.layers.2.mlp.fc1.bias', 'vision_model.encoder.layers.3.layer_norm1.weight', 'vision_model.encoder.layers.5.layer_norm1.bias', 'vision_model.encoder.layers.0.self_attn.v_proj.weight', 'vision_model.encoder.layers.10.self_attn.v_proj.weight', 'vision_model.encoder.layers.9.self_attn.out_proj.bias', 'vision_model.encoder.layers.6.mlp.fc2.bias', 'vision_model.encoder.layers.1.self_attn.v_proj.bias', 'vision_model.encoder.layers.7.self_attn.v_proj.weight', 'vision_model.encoder.layers.3.mlp.fc2.weight', 'vision_model.encoder.layers.5.self_attn.out_proj.weight', 'vision_model.encoder.layers.1.self_attn.out_proj.bias', 'vision_model.encoder.layers.5.self_attn.q_proj.bias', 'vision_model.encoder.layers.4.self_attn.k_proj.weight', 'vision_model.encoder.layers.0.self_attn.k_proj.weight', 'vision_model.post_layernorm.weight', 'vision_model.encoder.layers.3.self_attn.k_proj.weight', 'vision_model.encoder.layers.4.self_attn.v_proj.weight', 'vision_model.encoder.layers.8.mlp.fc1.weight', 'vision_model.encoder.layers.9.self_attn.q_proj.bias', 'vision_model.encoder.layers.11.mlp.fc2.bias', 'vision_model.encoder.layers.11.layer_norm1.bias', 'vision_model.encoder.layers.7.self_attn.out_proj.bias', 'vision_model.encoder.layers.6.self_attn.v_proj.weight', 'vision_model.encoder.layers.7.layer_norm1.bias', 'vision_model.encoder.layers.8.self_attn.k_proj.weight', 'vision_model.encoder.layers.8.layer_norm2.weight', 'vision_model.encoder.layers.6.layer_norm1.weight', 'vision_model.encoder.layers.10.mlp.fc2.weight', 'vision_model.encoder.layers.5.self_attn.out_proj.bias', 'vision_model.encoder.layers.0.mlp.fc2.bias', 'vision_model.encoder.layers.8.self_attn.q_proj.weight', 'vision_model.encoder.layers.2.self_attn.k_proj.weight', 'vision_model.encoder.layers.4.layer_norm2.bias', 'vision_model.encoder.layers.9.layer_norm2.weight', 'vision_model.encoder.layers.8.mlp.fc2.bias', 'vision_model.pre_layrnorm.bias', 'vision_model.encoder.layers.2.self_attn.out_proj.bias', 'vision_model.encoder.layers.8.self_attn.out_proj.weight', 'vision_model.encoder.layers.9.self_attn.q_proj.weight', 'vision_model.encoder.layers.1.self_attn.k_proj.weight', 'vision_model.encoder.layers.0.self_attn.out_proj.bias', 'vision_model.encoder.layers.7.self_attn.v_proj.bias', 'vision_model.encoder.layers.6.self_attn.k_proj.bias', 'vision_model.encoder.layers.6.self_attn.v_proj.bias', 'vision_model.encoder.layers.1.mlp.fc2.weight', 'vision_model.encoder.layers.1.self_attn.out_proj.weight', 'vision_model.encoder.layers.5.self_attn.k_proj.weight', 'vision_model.encoder.layers.11.self_attn.q_proj.bias', 'vision_model.encoder.layers.11.mlp.fc1.bias', 'vision_model.embeddings.class_embedding', 'vision_model.encoder.layers.10.mlp.fc1.bias', 'vision_model.encoder.layers.1.mlp.fc1.bias', 'vision_model.encoder.layers.5.self_attn.q_proj.weight', 'vision_model.encoder.layers.7.layer_norm2.bias', 'vision_model.encoder.layers.3.layer_norm2.weight', 'vision_model.encoder.layers.8.self_attn.k_proj.bias', 'vision_model.encoder.layers.6.mlp.fc2.weight', 'vision_model.encoder.layers.2.self_attn.v_proj.bias', 'vision_model.encoder.layers.7.self_attn.k_proj.weight', 'vision_model.encoder.layers.8.self_attn.out_proj.bias', 'vision_model.encoder.layers.0.layer_norm2.weight', 'vision_model.encoder.layers.4.mlp.fc1.weight', 'vision_model.encoder.layers.5.mlp.fc2.bias', 'vision_model.encoder.layers.3.self_attn.v_proj.weight', 'vision_model.post_layernorm.bias', 'vision_model.encoder.layers.0.self_attn.v_proj.bias', 'vision_model.encoder.layers.7.mlp.fc1.weight', 'vision_model.encoder.layers.3.self_attn.out_proj.weight', 'text_projection.weight', 'vision_model.encoder.layers.1.layer_norm1.bias', 'vision_model.encoder.layers.4.self_attn.q_proj.bias', 'vision_model.encoder.layers.10.self_attn.v_proj.bias', 'vision_model.encoder.layers.8.layer_norm1.bias', 'vision_model.encoder.layers.0.layer_norm1.weight', 'vision_model.encoder.layers.11.self_attn.out_proj.bias', 'vision_model.encoder.layers.10.self_attn.out_proj.weight', 'vision_model.encoder.layers.0.mlp.fc1.weight', 'vision_model.encoder.layers.9.layer_norm2.bias', 'vision_model.encoder.layers.4.layer_norm1.bias', 'vision_model.encoder.layers.3.layer_norm1.bias', 'vision_model.encoder.layers.6.self_attn.q_proj.bias', 'vision_model.encoder.layers.0.layer_norm2.bias', 'vision_model.encoder.layers.6.self_attn.q_proj.weight', 'vision_model.encoder.layers.11.self_attn.q_proj.weight', 'vision_model.encoder.layers.5.mlp.fc1.bias', 'vision_model.encoder.layers.2.mlp.fc2.weight', 'vision_model.encoder.layers.7.mlp.fc2.bias', 'vision_model.encoder.layers.7.self_attn.k_proj.bias', 'vision_model.encoder.layers.11.layer_norm2.bias', 'vision_model.encoder.layers.5.mlp.fc2.weight', 'vision_model.encoder.layers.11.self_attn.v_proj.bias', 'vision_model.encoder.layers.11.mlp.fc2.weight', 'vision_model.encoder.layers.3.self_attn.q_proj.weight', 'vision_model.encoder.layers.2.self_attn.q_proj.weight', 'vision_model.encoder.layers.1.self_attn.q_proj.weight', 'vision_model.encoder.layers.7.layer_norm1.weight', 'vision_model.encoder.layers.1.self_attn.k_proj.bias', 'vision_model.encoder.layers.7.self_attn.q_proj.weight', 'vision_model.encoder.layers.0.self_attn.q_proj.weight', 'vision_model.encoder.layers.5.layer_norm2.weight', 'vision_model.encoder.layers.8.mlp.fc1.bias', 'vision_model.encoder.layers.6.self_attn.k_proj.weight', 'vision_model.encoder.layers.2.self_attn.k_proj.bias', 'vision_model.encoder.layers.9.mlp.fc2.bias', 'vision_model.encoder.layers.4.self_attn.q_proj.weight', 'vision_model.encoder.layers.10.self_attn.out_proj.bias', 'vision_model.encoder.layers.2.layer_norm2.bias', 'vision_model.encoder.layers.10.mlp.fc1.weight', 'vision_model.encoder.layers.3.self_attn.v_proj.bias', 'vision_model.encoder.layers.7.self_attn.out_proj.weight', 'vision_model.encoder.layers.5.self_attn.v_proj.weight', 'vision_model.encoder.layers.0.self_attn.out_proj.weight', 'vision_model.encoder.layers.8.mlp.fc2.weight', 'vision_model.encoder.layers.6.layer_norm1.bias', 'vision_model.encoder.layers.10.mlp.fc2.bias', 'vision_model.encoder.layers.9.mlp.fc1.weight', 'vision_model.encoder.layers.0.self_attn.q_proj.bias', 'logit_scale', 'vision_model.encoder.layers.3.mlp.fc1.weight', 'vision_model.encoder.layers.6.self_attn.out_proj.weight', 'vision_model.encoder.layers.0.layer_norm1.bias', 'vision_model.encoder.layers.2.layer_norm2.weight', 'visual_projection.weight', 'vision_model.encoder.layers.3.layer_norm2.bias', 'vision_model.encoder.layers.10.layer_norm1.weight', 'vision_model.encoder.layers.3.self_attn.out_proj.bias', 'vision_model.encoder.layers.6.layer_norm2.weight', 'vision_model.encoder.layers.10.layer_norm2.bias', 'vision_model.encoder.layers.7.mlp.fc2.weight', 'vision_model.encoder.layers.2.mlp.fc1.weight', 'vision_model.encoder.layers.11.layer_norm2.weight', 'vision_model.encoder.layers.1.self_attn.q_proj.bias', 'vision_model.encoder.layers.10.self_attn.q_proj.weight', 'vision_model.encoder.layers.8.self_attn.v_proj.weight', 'vision_model.encoder.layers.7.mlp.fc1.bias', 'vision_model.encoder.layers.2.layer_norm1.weight', 'vision_model.encoder.layers.7.self_attn.q_proj.bias']\n",
      "- This IS expected if you are initializing CLIPTextModel from the checkpoint of a model trained on another task or with another architecture (e.g. initializing a BertForSequenceClassification model from a BertForPreTraining model).\n",
      "- This IS NOT expected if you are initializing CLIPTextModel from the checkpoint of a model that you expect to be exactly identical (initializing a BertForSequenceClassification model from a BertForSequenceClassification model).\n"
     ]
    },
    {
     "data": {
      "text/plain": [
       "===================================================================================================================\n",
       "Layer (type:depth-idx)                                            Output Shape              Param #\n",
       "===================================================================================================================\n",
       "BentoModel                                                        [1, 7]                    --\n",
       "├─ResNet: 1-1                                                     [1, 512]                  --\n",
       "│    └─Conv2d: 2-1                                                [1, 64, 112, 112]         9,408\n",
       "│    └─BatchNorm2d: 2-2                                           [1, 64, 112, 112]         128\n",
       "│    └─ReLU: 2-3                                                  [1, 64, 112, 112]         --\n",
       "│    └─MaxPool2d: 2-4                                             [1, 64, 56, 56]           --\n",
       "│    └─Module: 2-5                                                --                        --\n",
       "│    │    └─Module: 3-1                                           --                        73,984\n",
       "│    │    └─Module: 3-2                                           --                        73,984\n",
       "│    └─Module: 2-6                                                --                        --\n",
       "│    │    └─Module: 3-3                                           --                        230,144\n",
       "│    │    └─Module: 3-4                                           --                        295,424\n",
       "│    └─Module: 2-7                                                --                        --\n",
       "│    │    └─Module: 3-5                                           --                        919,040\n",
       "│    │    └─Module: 3-6                                           --                        1,180,672\n",
       "│    └─Module: 2-8                                                --                        --\n",
       "│    │    └─Module: 3-7                                           --                        3,673,088\n",
       "│    │    └─Module: 3-8                                           --                        4,720,640\n",
       "│    └─AdaptiveAvgPool2d: 2-9                                     [1, 512, 1, 1]            --\n",
       "├─CLIPTextModel: 1-2                                              [1, 512]                  --\n",
       "│    └─CLIPTextTransformer: 2-10                                  [1, 512]                  --\n",
       "│    │    └─CLIPTextEmbeddings: 3-9                               [1, 5, 512]               25,336,320\n",
       "│    │    └─CLIPEncoder: 3-10                                     [1, 5, 512]               37,828,608\n",
       "│    │    └─LayerNorm: 3-11                                       [1, 5, 512]               1,024\n",
       "├─Linear: 1-3                                                     [1, 512]                  524,800\n",
       "├─Linear: 1-4                                                     [1, 7]                    3,591\n",
       "├─Sigmoid: 1-5                                                    [1, 7]                    --\n",
       "===================================================================================================================\n",
       "Total params: 86,410,823\n",
       "Trainable params: 86,410,823\n",
       "Non-trainable params: 0\n",
       "Total mult-adds (G): 1.88\n",
       "===================================================================================================================\n",
       "Input size (MB): 0.60\n",
       "Forward/backward pass size (MB): 42.51\n",
       "Params size (MB): 299.48\n",
       "Estimated Total Size (MB): 342.59\n",
       "==================================================================================================================="
      ]
     },
     "execution_count": 37,
     "metadata": {},
     "output_type": "execute_result"
    }
   ],
   "source": [
    "test_model = BentoModel(512)\n",
    "torchinfo.summary(test_model, input_data=[img_input, txt_input[\"input_ids\"], txt_input[\"attention_mask\"]])"
   ]
  },
  {
   "cell_type": "code",
   "execution_count": 12,
   "metadata": {},
   "outputs": [
    {
     "data": {
      "text/plain": [
       "{'input_ids': tensor([[49406,   571,  1089,  8582, 49407]]), 'attention_mask': tensor([[1, 1, 1, 1, 1]])}"
      ]
     },
     "execution_count": 12,
     "metadata": {},
     "output_type": "execute_result"
    }
   ],
   "source": [
    "txt_input"
   ]
  },
  {
   "cell_type": "code",
   "execution_count": 38,
   "metadata": {},
   "outputs": [
    {
     "name": "stdout",
     "output_type": "stream",
     "text": [
      "torch.Size([1, 7])\n",
      "tensor([[0.5515, 0.6664, 0.3516, 0.4540, 0.5857, 0.4562, 0.4627]],\n",
      "       grad_fn=<SigmoidBackward0>)\n"
     ]
    }
   ],
   "source": [
    "out = test_model(img_input,txt_input[\"input_ids\"],txt_input[\"attention_mask\"])\n",
    "print(out.shape )\n",
    "print(out)"
   ]
  },
  {
   "cell_type": "code",
   "execution_count": 52,
   "metadata": {},
   "outputs": [
    {
     "name": "stderr",
     "output_type": "stream",
     "text": [
      "Some weights of the model checkpoint at openai/clip-vit-base-patch32 were not used when initializing CLIPTextModel: ['vision_model.encoder.layers.9.mlp.fc2.weight', 'vision_model.encoder.layers.10.self_attn.q_proj.bias', 'vision_model.encoder.layers.1.self_attn.v_proj.weight', 'vision_model.encoder.layers.0.mlp.fc2.weight', 'vision_model.encoder.layers.5.layer_norm1.weight', 'vision_model.encoder.layers.4.self_attn.out_proj.weight', 'vision_model.encoder.layers.0.mlp.fc1.bias', 'vision_model.pre_layrnorm.weight', 'vision_model.encoder.layers.3.mlp.fc1.bias', 'vision_model.encoder.layers.8.self_attn.v_proj.bias', 'vision_model.encoder.layers.9.mlp.fc1.bias', 'vision_model.encoder.layers.5.self_attn.k_proj.bias', 'vision_model.encoder.layers.11.self_attn.k_proj.bias', 'vision_model.encoder.layers.10.self_attn.k_proj.weight', 'vision_model.encoder.layers.3.self_attn.k_proj.bias', 'vision_model.encoder.layers.4.layer_norm1.weight', 'vision_model.encoder.layers.2.mlp.fc2.bias', 'vision_model.encoder.layers.11.self_attn.v_proj.weight', 'vision_model.encoder.layers.4.self_attn.out_proj.bias', 'vision_model.embeddings.position_ids', 'vision_model.encoder.layers.2.self_attn.out_proj.weight', 'vision_model.encoder.layers.2.self_attn.q_proj.bias', 'vision_model.encoder.layers.6.self_attn.out_proj.bias', 'vision_model.encoder.layers.10.self_attn.k_proj.bias', 'vision_model.encoder.layers.9.self_attn.k_proj.bias', 'vision_model.encoder.layers.11.mlp.fc1.weight', 'vision_model.encoder.layers.1.mlp.fc2.bias', 'vision_model.encoder.layers.9.layer_norm1.weight', 'vision_model.encoder.layers.6.mlp.fc1.weight', 'vision_model.encoder.layers.10.layer_norm1.bias', 'vision_model.encoder.layers.1.layer_norm2.bias', 'vision_model.encoder.layers.11.self_attn.out_proj.weight', 'vision_model.encoder.layers.9.self_attn.v_proj.bias', 'vision_model.encoder.layers.8.layer_norm1.weight', 'vision_model.embeddings.patch_embedding.weight', 'vision_model.encoder.layers.4.layer_norm2.weight', 'vision_model.encoder.layers.8.layer_norm2.bias', 'vision_model.encoder.layers.6.mlp.fc1.bias', 'vision_model.encoder.layers.1.layer_norm2.weight', 'vision_model.encoder.layers.2.layer_norm1.bias', 'vision_model.encoder.layers.5.layer_norm2.bias', 'vision_model.encoder.layers.9.self_attn.k_proj.weight', 'vision_model.encoder.layers.9.self_attn.v_proj.weight', 'vision_model.embeddings.position_embedding.weight', 'vision_model.encoder.layers.9.layer_norm1.bias', 'vision_model.encoder.layers.1.layer_norm1.weight', 'vision_model.encoder.layers.7.layer_norm2.weight', 'vision_model.encoder.layers.4.self_attn.v_proj.bias', 'vision_model.encoder.layers.3.mlp.fc2.bias', 'vision_model.encoder.layers.4.mlp.fc1.bias', 'vision_model.encoder.layers.10.layer_norm2.weight', 'vision_model.encoder.layers.11.self_attn.k_proj.weight', 'vision_model.encoder.layers.0.self_attn.k_proj.bias', 'vision_model.encoder.layers.4.mlp.fc2.bias', 'vision_model.encoder.layers.6.layer_norm2.bias', 'vision_model.encoder.layers.4.self_attn.k_proj.bias', 'vision_model.encoder.layers.8.self_attn.q_proj.bias', 'vision_model.encoder.layers.5.mlp.fc1.weight', 'vision_model.encoder.layers.4.mlp.fc2.weight', 'vision_model.encoder.layers.2.self_attn.v_proj.weight', 'vision_model.encoder.layers.3.self_attn.q_proj.bias', 'vision_model.encoder.layers.9.self_attn.out_proj.weight', 'vision_model.encoder.layers.11.layer_norm1.weight', 'vision_model.encoder.layers.5.self_attn.v_proj.bias', 'vision_model.encoder.layers.1.mlp.fc1.weight', 'vision_model.encoder.layers.2.mlp.fc1.bias', 'vision_model.encoder.layers.3.layer_norm1.weight', 'vision_model.encoder.layers.5.layer_norm1.bias', 'vision_model.encoder.layers.0.self_attn.v_proj.weight', 'vision_model.encoder.layers.10.self_attn.v_proj.weight', 'vision_model.encoder.layers.9.self_attn.out_proj.bias', 'vision_model.encoder.layers.6.mlp.fc2.bias', 'vision_model.encoder.layers.1.self_attn.v_proj.bias', 'vision_model.encoder.layers.7.self_attn.v_proj.weight', 'vision_model.encoder.layers.3.mlp.fc2.weight', 'vision_model.encoder.layers.5.self_attn.out_proj.weight', 'vision_model.encoder.layers.1.self_attn.out_proj.bias', 'vision_model.encoder.layers.5.self_attn.q_proj.bias', 'vision_model.encoder.layers.4.self_attn.k_proj.weight', 'vision_model.encoder.layers.0.self_attn.k_proj.weight', 'vision_model.post_layernorm.weight', 'vision_model.encoder.layers.3.self_attn.k_proj.weight', 'vision_model.encoder.layers.4.self_attn.v_proj.weight', 'vision_model.encoder.layers.8.mlp.fc1.weight', 'vision_model.encoder.layers.9.self_attn.q_proj.bias', 'vision_model.encoder.layers.11.mlp.fc2.bias', 'vision_model.encoder.layers.11.layer_norm1.bias', 'vision_model.encoder.layers.7.self_attn.out_proj.bias', 'vision_model.encoder.layers.6.self_attn.v_proj.weight', 'vision_model.encoder.layers.7.layer_norm1.bias', 'vision_model.encoder.layers.8.self_attn.k_proj.weight', 'vision_model.encoder.layers.8.layer_norm2.weight', 'vision_model.encoder.layers.6.layer_norm1.weight', 'vision_model.encoder.layers.10.mlp.fc2.weight', 'vision_model.encoder.layers.5.self_attn.out_proj.bias', 'vision_model.encoder.layers.0.mlp.fc2.bias', 'vision_model.encoder.layers.8.self_attn.q_proj.weight', 'vision_model.encoder.layers.2.self_attn.k_proj.weight', 'vision_model.encoder.layers.4.layer_norm2.bias', 'vision_model.encoder.layers.9.layer_norm2.weight', 'vision_model.encoder.layers.8.mlp.fc2.bias', 'vision_model.pre_layrnorm.bias', 'vision_model.encoder.layers.2.self_attn.out_proj.bias', 'vision_model.encoder.layers.8.self_attn.out_proj.weight', 'vision_model.encoder.layers.9.self_attn.q_proj.weight', 'vision_model.encoder.layers.1.self_attn.k_proj.weight', 'vision_model.encoder.layers.0.self_attn.out_proj.bias', 'vision_model.encoder.layers.7.self_attn.v_proj.bias', 'vision_model.encoder.layers.6.self_attn.k_proj.bias', 'vision_model.encoder.layers.6.self_attn.v_proj.bias', 'vision_model.encoder.layers.1.mlp.fc2.weight', 'vision_model.encoder.layers.1.self_attn.out_proj.weight', 'vision_model.encoder.layers.5.self_attn.k_proj.weight', 'vision_model.encoder.layers.11.self_attn.q_proj.bias', 'vision_model.encoder.layers.11.mlp.fc1.bias', 'vision_model.embeddings.class_embedding', 'vision_model.encoder.layers.10.mlp.fc1.bias', 'vision_model.encoder.layers.1.mlp.fc1.bias', 'vision_model.encoder.layers.5.self_attn.q_proj.weight', 'vision_model.encoder.layers.7.layer_norm2.bias', 'vision_model.encoder.layers.3.layer_norm2.weight', 'vision_model.encoder.layers.8.self_attn.k_proj.bias', 'vision_model.encoder.layers.6.mlp.fc2.weight', 'vision_model.encoder.layers.2.self_attn.v_proj.bias', 'vision_model.encoder.layers.7.self_attn.k_proj.weight', 'vision_model.encoder.layers.8.self_attn.out_proj.bias', 'vision_model.encoder.layers.0.layer_norm2.weight', 'vision_model.encoder.layers.4.mlp.fc1.weight', 'vision_model.encoder.layers.5.mlp.fc2.bias', 'vision_model.encoder.layers.3.self_attn.v_proj.weight', 'vision_model.post_layernorm.bias', 'vision_model.encoder.layers.0.self_attn.v_proj.bias', 'vision_model.encoder.layers.7.mlp.fc1.weight', 'vision_model.encoder.layers.3.self_attn.out_proj.weight', 'text_projection.weight', 'vision_model.encoder.layers.1.layer_norm1.bias', 'vision_model.encoder.layers.4.self_attn.q_proj.bias', 'vision_model.encoder.layers.10.self_attn.v_proj.bias', 'vision_model.encoder.layers.8.layer_norm1.bias', 'vision_model.encoder.layers.0.layer_norm1.weight', 'vision_model.encoder.layers.11.self_attn.out_proj.bias', 'vision_model.encoder.layers.10.self_attn.out_proj.weight', 'vision_model.encoder.layers.0.mlp.fc1.weight', 'vision_model.encoder.layers.9.layer_norm2.bias', 'vision_model.encoder.layers.4.layer_norm1.bias', 'vision_model.encoder.layers.3.layer_norm1.bias', 'vision_model.encoder.layers.6.self_attn.q_proj.bias', 'vision_model.encoder.layers.0.layer_norm2.bias', 'vision_model.encoder.layers.6.self_attn.q_proj.weight', 'vision_model.encoder.layers.11.self_attn.q_proj.weight', 'vision_model.encoder.layers.5.mlp.fc1.bias', 'vision_model.encoder.layers.2.mlp.fc2.weight', 'vision_model.encoder.layers.7.mlp.fc2.bias', 'vision_model.encoder.layers.7.self_attn.k_proj.bias', 'vision_model.encoder.layers.11.layer_norm2.bias', 'vision_model.encoder.layers.5.mlp.fc2.weight', 'vision_model.encoder.layers.11.self_attn.v_proj.bias', 'vision_model.encoder.layers.11.mlp.fc2.weight', 'vision_model.encoder.layers.3.self_attn.q_proj.weight', 'vision_model.encoder.layers.2.self_attn.q_proj.weight', 'vision_model.encoder.layers.1.self_attn.q_proj.weight', 'vision_model.encoder.layers.7.layer_norm1.weight', 'vision_model.encoder.layers.1.self_attn.k_proj.bias', 'vision_model.encoder.layers.7.self_attn.q_proj.weight', 'vision_model.encoder.layers.0.self_attn.q_proj.weight', 'vision_model.encoder.layers.5.layer_norm2.weight', 'vision_model.encoder.layers.8.mlp.fc1.bias', 'vision_model.encoder.layers.6.self_attn.k_proj.weight', 'vision_model.encoder.layers.2.self_attn.k_proj.bias', 'vision_model.encoder.layers.9.mlp.fc2.bias', 'vision_model.encoder.layers.4.self_attn.q_proj.weight', 'vision_model.encoder.layers.10.self_attn.out_proj.bias', 'vision_model.encoder.layers.2.layer_norm2.bias', 'vision_model.encoder.layers.10.mlp.fc1.weight', 'vision_model.encoder.layers.3.self_attn.v_proj.bias', 'vision_model.encoder.layers.7.self_attn.out_proj.weight', 'vision_model.encoder.layers.5.self_attn.v_proj.weight', 'vision_model.encoder.layers.0.self_attn.out_proj.weight', 'vision_model.encoder.layers.8.mlp.fc2.weight', 'vision_model.encoder.layers.6.layer_norm1.bias', 'vision_model.encoder.layers.10.mlp.fc2.bias', 'vision_model.encoder.layers.9.mlp.fc1.weight', 'vision_model.encoder.layers.0.self_attn.q_proj.bias', 'logit_scale', 'vision_model.encoder.layers.3.mlp.fc1.weight', 'vision_model.encoder.layers.6.self_attn.out_proj.weight', 'vision_model.encoder.layers.0.layer_norm1.bias', 'vision_model.encoder.layers.2.layer_norm2.weight', 'visual_projection.weight', 'vision_model.encoder.layers.3.layer_norm2.bias', 'vision_model.encoder.layers.10.layer_norm1.weight', 'vision_model.encoder.layers.3.self_attn.out_proj.bias', 'vision_model.encoder.layers.6.layer_norm2.weight', 'vision_model.encoder.layers.10.layer_norm2.bias', 'vision_model.encoder.layers.7.mlp.fc2.weight', 'vision_model.encoder.layers.2.mlp.fc1.weight', 'vision_model.encoder.layers.11.layer_norm2.weight', 'vision_model.encoder.layers.1.self_attn.q_proj.bias', 'vision_model.encoder.layers.10.self_attn.q_proj.weight', 'vision_model.encoder.layers.8.self_attn.v_proj.weight', 'vision_model.encoder.layers.7.mlp.fc1.bias', 'vision_model.encoder.layers.2.layer_norm1.weight', 'vision_model.encoder.layers.7.self_attn.q_proj.bias']\n",
      "- This IS expected if you are initializing CLIPTextModel from the checkpoint of a model trained on another task or with another architecture (e.g. initializing a BertForSequenceClassification model from a BertForPreTraining model).\n",
      "- This IS NOT expected if you are initializing CLIPTextModel from the checkpoint of a model that you expect to be exactly identical (initializing a BertForSequenceClassification model from a BertForSequenceClassification model).\n"
     ]
    },
    {
     "data": {
      "text/plain": [
       "BaseModelOutputWithPooling(last_hidden_state=tensor([[[ 0.3393,  0.1165,  0.1020,  ...,  0.2468,  0.5906,  0.1013],\n",
       "         [ 1.6300, -0.9695,  0.0629,  ..., -0.4306,  0.0340, -1.5308],\n",
       "         [ 0.6424,  0.2703,  0.2728,  ..., -0.2786,  0.8497, -0.5473],\n",
       "         [ 0.8894, -0.5330, -0.6500,  ..., -0.6642,  1.3356, -0.9934],\n",
       "         [ 2.1954,  0.0697, -0.3347,  ...,  0.1294,  0.8494, -1.0549]]],\n",
       "       grad_fn=<NativeLayerNormBackward0>), pooler_output=tensor([[ 2.1954e+00,  6.9652e-02, -3.3467e-01,  7.0027e+00, -3.9999e+00,\n",
       "          6.7464e-01, -3.6941e-01, -1.3897e-01, -1.1792e+00, -5.3835e-01,\n",
       "          8.1531e-01,  1.5839e-01,  1.0194e+00, -6.1078e-01, -8.1226e-01,\n",
       "         -9.4547e-01, -4.3727e-01, -5.1062e-01,  7.2343e-01, -1.0584e+00,\n",
       "          5.9249e-01, -1.7788e-01, -5.7109e-01, -4.3279e-01, -2.0544e+00,\n",
       "         -6.7004e-02, -1.2296e+00, -5.9066e-01,  2.6846e-01,  2.9085e-01,\n",
       "          4.0398e-01,  9.1900e-01, -1.6098e+00,  8.7755e-01,  1.9367e+00,\n",
       "         -3.5030e-01,  1.1929e+00, -9.8409e-01,  8.9583e-01,  3.2780e+00,\n",
       "         -4.3019e-01,  2.3470e-01,  1.2021e-02, -5.7936e-01, -9.2800e-01,\n",
       "         -5.1354e-01,  1.1727e+00,  3.8345e-01,  2.2070e-01, -3.6640e-01,\n",
       "          5.6040e-02, -1.1572e-01,  3.1319e+00, -5.2750e-01,  4.5140e-01,\n",
       "          4.9505e-01, -2.6185e-01,  3.7449e-01,  2.9782e-01, -1.3506e+00,\n",
       "         -2.3976e+00, -3.8049e-01,  1.6755e-01,  1.9934e+00,  4.5176e-01,\n",
       "          4.6264e-01, -6.3223e-01,  1.6016e-01,  2.8691e-01,  1.7389e+00,\n",
       "         -1.1899e+00, -1.1621e+00, -6.4375e-01, -5.7709e-01,  3.0312e-02,\n",
       "         -3.3334e+00, -1.0383e+00,  7.1135e-02,  3.2690e-01,  9.0552e-01,\n",
       "          1.0786e+00,  2.8472e-01,  1.2556e+00, -9.4030e-01, -1.0247e+00,\n",
       "          5.8153e-01, -7.9874e-01,  1.7611e-02,  1.0838e+00,  2.4402e-01,\n",
       "         -3.8967e-01,  4.2437e-01,  4.0098e-01,  4.8835e-01, -2.5600e-01,\n",
       "         -8.1436e-01,  3.2111e+00, -8.4818e-01, -3.8617e-01, -7.1597e-01,\n",
       "         -2.0473e+00,  6.8199e-01, -8.8373e-02,  2.7837e-01,  1.0151e+00,\n",
       "          5.8791e-01, -2.9870e-01,  4.2969e-01, -3.8830e-01, -1.4906e+00,\n",
       "          6.7205e-01,  1.9721e-01, -3.0067e+00,  1.4077e+00, -7.1860e-01,\n",
       "         -1.4789e+00,  1.3086e+00,  1.0855e+00,  6.5710e-01, -3.0518e-01,\n",
       "         -2.1862e-02,  8.3836e-02, -2.8329e-01,  3.5198e-01,  6.0776e-01,\n",
       "          2.2118e-02, -9.4303e-01,  1.4410e+00,  2.5495e+00,  9.8998e-01,\n",
       "          7.7543e-02, -2.8231e-01, -3.8774e-01, -1.6622e+00,  1.6964e+00,\n",
       "         -1.4054e-01, -6.2479e-01, -4.5910e-01,  2.7957e-01, -8.9871e-01,\n",
       "          4.7499e-01,  7.0728e-01,  1.8920e+00,  6.0554e-01,  1.0620e+00,\n",
       "         -5.0581e-01, -3.6930e-01,  4.4703e-01,  6.0892e-01,  8.7624e-01,\n",
       "          4.7252e-01, -1.1443e+00,  4.2582e-01, -2.3904e-01, -1.7629e+00,\n",
       "          4.6787e-01,  2.8890e-01,  1.0692e-01,  9.1111e-01,  5.5331e-01,\n",
       "          1.7766e+00, -1.0290e+00,  4.5392e-01,  1.1363e+00, -7.8339e-01,\n",
       "         -1.6740e-01,  9.5028e-01, -1.9676e+00,  3.1696e+00, -7.7773e-02,\n",
       "         -9.1989e-01,  6.4985e-01,  9.6899e-01, -1.5545e+00,  1.3694e+00,\n",
       "         -6.4249e-01, -6.0886e-01, -4.5514e-02,  2.4537e-01,  1.2835e+00,\n",
       "          9.4094e-01,  6.1895e-02,  8.4003e-01, -7.1254e-01, -1.9305e+00,\n",
       "         -8.4578e-01,  1.3210e+00, -1.4985e+00, -1.8701e-01, -2.5565e-02,\n",
       "          7.3129e-01,  8.1766e-01, -5.1234e-01,  2.1730e+00,  1.1575e+00,\n",
       "          6.8689e-01, -4.7026e-03, -6.3085e-01, -1.6026e-01, -8.8772e-01,\n",
       "          4.2701e-01,  4.7202e-01,  1.9824e-01,  3.6018e+00,  6.5034e-01,\n",
       "         -5.2062e-01,  4.3714e-01,  1.5454e-01, -1.5166e+00,  9.9237e-01,\n",
       "         -3.1581e-01,  1.1013e+00, -4.7214e-01, -6.9036e-01,  6.6009e-02,\n",
       "          4.0876e-01,  1.1561e+00, -4.1603e-01,  2.9762e-01, -7.2443e-01,\n",
       "          8.2699e-01,  4.3281e-02, -1.6713e+00, -3.9826e-01,  7.8939e-01,\n",
       "          5.0327e-01,  1.4308e+00,  3.6886e-01,  1.7409e+00, -2.1994e-01,\n",
       "          1.6735e+00, -6.1328e-01,  8.5160e-01,  6.1786e-01, -7.8883e-01,\n",
       "          3.6126e-01, -1.2513e+00,  5.4509e-01,  2.8951e-01,  8.4152e-01,\n",
       "          6.7064e-01,  6.2976e-01,  5.7394e-01, -1.5377e+00, -9.4160e-01,\n",
       "          9.6902e-01,  9.6247e-01, -4.4536e-01,  3.8698e-02,  2.0034e+00,\n",
       "          4.1666e-01, -1.3273e+00,  1.9527e+00, -1.7726e+00,  2.0012e+00,\n",
       "         -3.3223e-01,  1.6048e+00, -7.2834e-01,  9.1615e-01, -5.6005e-01,\n",
       "          1.1765e-01, -2.4627e+00, -8.1404e-02,  4.6365e-01, -5.3454e-01,\n",
       "         -6.7405e-02, -2.1588e-01, -3.2360e-01,  1.7282e+00, -4.0631e-01,\n",
       "          2.6243e-01, -9.8434e-01,  2.4465e-01,  6.3386e-01,  7.2378e-01,\n",
       "          1.5253e+00, -3.0504e-01,  1.0546e+00, -1.1101e-01,  6.8650e-01,\n",
       "         -6.0808e-01,  3.0272e-02, -2.0768e+00, -1.9473e+00, -1.9008e+00,\n",
       "          1.3534e+00,  2.4078e-02,  5.5629e-01,  6.6285e-01,  1.1309e-01,\n",
       "         -1.4481e+00, -3.1015e-01, -9.4909e-01,  1.3623e+00, -4.5722e-01,\n",
       "          9.1164e-02,  1.6553e-01,  1.6937e+00,  2.0112e-01,  4.9322e-01,\n",
       "         -2.0241e+00,  3.8066e-01, -2.5819e-01,  2.3021e-02, -5.0162e-01,\n",
       "          8.7753e-01, -1.7317e-01,  1.1347e+00,  2.0745e+00,  6.1815e-01,\n",
       "          4.4242e-01,  6.3949e-02,  8.7340e-01,  1.6530e+00,  1.6058e-01,\n",
       "          6.3627e-01,  2.2458e-01, -3.8883e-01, -1.2406e-01,  4.7326e-01,\n",
       "          4.3282e-01, -7.2289e-01, -2.2954e+00,  1.7339e+00, -2.3078e-01,\n",
       "         -5.1420e-01, -4.9178e-02,  2.7336e-01, -3.2307e-01,  3.1128e-01,\n",
       "         -3.7463e-01,  1.1643e-01, -1.2076e+00,  1.9046e+00,  5.1510e-01,\n",
       "         -2.3071e-01, -3.5173e-01, -7.7865e-01, -1.0132e+00,  4.4193e-01,\n",
       "         -1.9217e-01, -7.8973e-01, -2.3258e-01,  5.5318e-01,  6.8135e-01,\n",
       "          8.0876e-01,  9.4311e-01, -3.0556e-01, -4.0740e-01, -1.4500e+00,\n",
       "          3.7802e-01, -1.2933e+00, -9.1186e-02,  1.5915e+00, -6.7563e-01,\n",
       "          5.1463e-01,  3.4561e-01, -1.1160e+00,  1.1910e+00,  8.1685e-01,\n",
       "          1.6277e+00, -1.1448e+00, -6.8565e-01,  1.4637e+00,  2.9093e-01,\n",
       "         -5.5964e-01, -2.8855e-01,  3.5974e-01, -1.2254e+00,  8.9463e-01,\n",
       "         -8.6607e-01,  1.2858e+00,  6.8934e-01, -2.2859e-01, -2.5364e-02,\n",
       "         -1.2128e+00, -7.6322e-01, -4.3940e-01, -6.8020e-01, -1.3660e-01,\n",
       "          5.0620e-01, -1.8791e-01, -5.4234e-01,  1.1191e+00, -2.9639e-01,\n",
       "          4.2228e-01, -7.8356e-01,  5.0160e-01,  1.5533e+00, -9.7800e-01,\n",
       "          1.1331e+00, -3.8981e-01, -5.4443e-02,  6.9013e-01,  1.8783e+00,\n",
       "          1.2556e+00,  8.5784e-01, -4.5130e-01,  6.9809e-01,  1.3029e-01,\n",
       "         -2.0168e-01, -2.0202e+00,  1.5455e-01,  7.7981e-01,  2.4048e-01,\n",
       "          6.4261e-02,  4.4387e-01,  9.8618e-01, -2.0726e-01,  1.0455e+00,\n",
       "          4.0626e-01, -1.5924e-01,  1.0394e+00, -5.1820e-01, -1.3107e+00,\n",
       "          1.6536e-01, -1.4094e+00,  1.6024e-01,  2.5242e+00,  1.7199e+00,\n",
       "          6.9943e-01,  3.8230e-01,  1.4274e-01,  2.2020e+00, -2.4645e+00,\n",
       "         -2.0997e-01, -7.6595e-01,  1.0176e-01,  6.8891e-01,  4.8210e-01,\n",
       "         -3.7950e-01, -1.1144e+00, -1.3358e+00,  8.7566e-01,  5.8783e-01,\n",
       "         -2.2711e-01, -1.2921e-01, -1.9014e-01,  1.9107e+00,  1.3867e+00,\n",
       "          3.5344e-01,  6.9792e-01,  2.1622e-01, -3.7482e-01,  8.0703e-01,\n",
       "         -1.8464e-01,  1.2410e+00, -2.5735e-01, -4.6907e-01, -2.3332e-01,\n",
       "          4.7890e-01, -2.5969e-01, -3.2494e-01,  1.3390e-01,  2.8644e-02,\n",
       "          6.7768e-01, -7.0100e-01,  3.8695e-01, -2.0291e-01,  9.6011e-01,\n",
       "         -3.0190e-01, -4.6823e-01,  9.5358e-01,  1.0817e+00, -1.5749e-01,\n",
       "         -1.0371e-01,  3.7084e-01,  1.6657e+00,  4.1036e-01, -2.9972e-01,\n",
       "         -1.8907e-01, -1.1566e+00, -3.6993e-02,  7.6471e-01,  1.5575e+00,\n",
       "          2.2084e+00,  9.3596e-01,  1.7292e+00, -9.4334e-01, -4.7959e-01,\n",
       "          1.1152e-01, -6.4297e-01,  1.3258e+00,  1.0131e+00,  1.8032e-01,\n",
       "          1.0186e-01, -9.2374e-01,  1.9129e-01, -1.3084e+00, -8.7305e-01,\n",
       "         -3.5084e-01, -3.3478e-01,  4.1338e-01, -2.1614e-01,  6.1652e-01,\n",
       "          1.0082e+00,  1.0724e+00,  2.6497e+00,  7.3358e-01,  2.3395e+00,\n",
       "         -1.0529e+00, -1.1381e+00,  4.2286e-01, -9.2121e-02, -5.5154e-01,\n",
       "         -1.0733e+00, -3.3119e-01,  2.3258e-01, -7.3062e-01,  1.2939e-01,\n",
       "          8.4942e-01, -1.0549e+00]], grad_fn=<IndexBackward0>), hidden_states=None, attentions=None)"
      ]
     },
     "execution_count": 52,
     "metadata": {},
     "output_type": "execute_result"
    }
   ],
   "source": [
    "text_model = transformers.CLIPTextModel.from_pretrained(\"openai/clip-vit-base-patch32\")\n",
    "text_model(txt_input[\"input_ids\"],txt_input[\"attention_mask\"])"
   ]
  },
  {
   "cell_type": "code",
   "execution_count": 56,
   "metadata": {},
   "outputs": [
    {
     "data": {
      "text/plain": [
       "torch.Size([1, 512])"
      ]
     },
     "execution_count": 56,
     "metadata": {},
     "output_type": "execute_result"
    }
   ],
   "source": [
    "text_model(txt_input[\"input_ids\"],txt_input[\"attention_mask\"])['pooler_output'].shape"
   ]
  },
  {
   "cell_type": "code",
   "execution_count": 57,
   "metadata": {},
   "outputs": [
    {
     "data": {
      "text/plain": [
       "torch.Size([1, 5, 512])"
      ]
     },
     "execution_count": 57,
     "metadata": {},
     "output_type": "execute_result"
    }
   ],
   "source": [
    "text_model(txt_input[\"input_ids\"],txt_input[\"attention_mask\"])['last_hidden_state'].shape"
   ]
  },
  {
   "cell_type": "code",
   "execution_count": 41,
   "metadata": {},
   "outputs": [
    {
     "data": {
      "text/plain": [
       "odict_keys(['last_hidden_state', 'pooler_output'])"
      ]
     },
     "execution_count": 41,
     "metadata": {},
     "output_type": "execute_result"
    }
   ],
   "source": [
    "text_model(txt_input[\"input_ids\"],txt_input[\"attention_mask\"]).keys()"
   ]
  },
  {
   "attachments": {},
   "cell_type": "markdown",
   "metadata": {},
   "source": [
    "# txt enc 変更"
   ]
  },
  {
   "cell_type": "code",
   "execution_count": 167,
   "metadata": {},
   "outputs": [
    {
     "name": "stderr",
     "output_type": "stream",
     "text": [
      "Some weights of the model checkpoint at openai/clip-vit-base-patch32 were not used when initializing CLIPTextModel: ['vision_model.encoder.layers.9.mlp.fc2.weight', 'vision_model.encoder.layers.10.self_attn.q_proj.bias', 'vision_model.encoder.layers.1.self_attn.v_proj.weight', 'vision_model.encoder.layers.0.mlp.fc2.weight', 'vision_model.encoder.layers.5.layer_norm1.weight', 'vision_model.encoder.layers.4.self_attn.out_proj.weight', 'vision_model.encoder.layers.0.mlp.fc1.bias', 'vision_model.pre_layrnorm.weight', 'vision_model.encoder.layers.3.mlp.fc1.bias', 'vision_model.encoder.layers.8.self_attn.v_proj.bias', 'vision_model.encoder.layers.9.mlp.fc1.bias', 'vision_model.encoder.layers.5.self_attn.k_proj.bias', 'vision_model.encoder.layers.11.self_attn.k_proj.bias', 'vision_model.encoder.layers.10.self_attn.k_proj.weight', 'vision_model.encoder.layers.3.self_attn.k_proj.bias', 'vision_model.encoder.layers.4.layer_norm1.weight', 'vision_model.encoder.layers.2.mlp.fc2.bias', 'vision_model.encoder.layers.11.self_attn.v_proj.weight', 'vision_model.encoder.layers.4.self_attn.out_proj.bias', 'vision_model.embeddings.position_ids', 'vision_model.encoder.layers.2.self_attn.out_proj.weight', 'vision_model.encoder.layers.2.self_attn.q_proj.bias', 'vision_model.encoder.layers.6.self_attn.out_proj.bias', 'vision_model.encoder.layers.10.self_attn.k_proj.bias', 'vision_model.encoder.layers.9.self_attn.k_proj.bias', 'vision_model.encoder.layers.11.mlp.fc1.weight', 'vision_model.encoder.layers.1.mlp.fc2.bias', 'vision_model.encoder.layers.9.layer_norm1.weight', 'vision_model.encoder.layers.6.mlp.fc1.weight', 'vision_model.encoder.layers.10.layer_norm1.bias', 'vision_model.encoder.layers.1.layer_norm2.bias', 'vision_model.encoder.layers.11.self_attn.out_proj.weight', 'vision_model.encoder.layers.9.self_attn.v_proj.bias', 'vision_model.encoder.layers.8.layer_norm1.weight', 'vision_model.embeddings.patch_embedding.weight', 'vision_model.encoder.layers.4.layer_norm2.weight', 'vision_model.encoder.layers.8.layer_norm2.bias', 'vision_model.encoder.layers.6.mlp.fc1.bias', 'vision_model.encoder.layers.1.layer_norm2.weight', 'vision_model.encoder.layers.2.layer_norm1.bias', 'vision_model.encoder.layers.5.layer_norm2.bias', 'vision_model.encoder.layers.9.self_attn.k_proj.weight', 'vision_model.encoder.layers.9.self_attn.v_proj.weight', 'vision_model.embeddings.position_embedding.weight', 'vision_model.encoder.layers.9.layer_norm1.bias', 'vision_model.encoder.layers.1.layer_norm1.weight', 'vision_model.encoder.layers.7.layer_norm2.weight', 'vision_model.encoder.layers.4.self_attn.v_proj.bias', 'vision_model.encoder.layers.3.mlp.fc2.bias', 'vision_model.encoder.layers.4.mlp.fc1.bias', 'vision_model.encoder.layers.10.layer_norm2.weight', 'vision_model.encoder.layers.11.self_attn.k_proj.weight', 'vision_model.encoder.layers.0.self_attn.k_proj.bias', 'vision_model.encoder.layers.4.mlp.fc2.bias', 'vision_model.encoder.layers.6.layer_norm2.bias', 'vision_model.encoder.layers.4.self_attn.k_proj.bias', 'vision_model.encoder.layers.8.self_attn.q_proj.bias', 'vision_model.encoder.layers.5.mlp.fc1.weight', 'vision_model.encoder.layers.4.mlp.fc2.weight', 'vision_model.encoder.layers.2.self_attn.v_proj.weight', 'vision_model.encoder.layers.3.self_attn.q_proj.bias', 'vision_model.encoder.layers.9.self_attn.out_proj.weight', 'vision_model.encoder.layers.11.layer_norm1.weight', 'vision_model.encoder.layers.5.self_attn.v_proj.bias', 'vision_model.encoder.layers.1.mlp.fc1.weight', 'vision_model.encoder.layers.2.mlp.fc1.bias', 'vision_model.encoder.layers.3.layer_norm1.weight', 'vision_model.encoder.layers.5.layer_norm1.bias', 'vision_model.encoder.layers.0.self_attn.v_proj.weight', 'vision_model.encoder.layers.10.self_attn.v_proj.weight', 'vision_model.encoder.layers.9.self_attn.out_proj.bias', 'vision_model.encoder.layers.6.mlp.fc2.bias', 'vision_model.encoder.layers.1.self_attn.v_proj.bias', 'vision_model.encoder.layers.7.self_attn.v_proj.weight', 'vision_model.encoder.layers.3.mlp.fc2.weight', 'vision_model.encoder.layers.5.self_attn.out_proj.weight', 'vision_model.encoder.layers.1.self_attn.out_proj.bias', 'vision_model.encoder.layers.5.self_attn.q_proj.bias', 'vision_model.encoder.layers.4.self_attn.k_proj.weight', 'vision_model.encoder.layers.0.self_attn.k_proj.weight', 'vision_model.post_layernorm.weight', 'vision_model.encoder.layers.3.self_attn.k_proj.weight', 'vision_model.encoder.layers.4.self_attn.v_proj.weight', 'vision_model.encoder.layers.8.mlp.fc1.weight', 'vision_model.encoder.layers.9.self_attn.q_proj.bias', 'vision_model.encoder.layers.11.mlp.fc2.bias', 'vision_model.encoder.layers.11.layer_norm1.bias', 'vision_model.encoder.layers.7.self_attn.out_proj.bias', 'vision_model.encoder.layers.6.self_attn.v_proj.weight', 'vision_model.encoder.layers.7.layer_norm1.bias', 'vision_model.encoder.layers.8.self_attn.k_proj.weight', 'vision_model.encoder.layers.8.layer_norm2.weight', 'vision_model.encoder.layers.6.layer_norm1.weight', 'vision_model.encoder.layers.10.mlp.fc2.weight', 'vision_model.encoder.layers.5.self_attn.out_proj.bias', 'vision_model.encoder.layers.0.mlp.fc2.bias', 'vision_model.encoder.layers.8.self_attn.q_proj.weight', 'vision_model.encoder.layers.2.self_attn.k_proj.weight', 'vision_model.encoder.layers.4.layer_norm2.bias', 'vision_model.encoder.layers.9.layer_norm2.weight', 'vision_model.encoder.layers.8.mlp.fc2.bias', 'vision_model.pre_layrnorm.bias', 'vision_model.encoder.layers.2.self_attn.out_proj.bias', 'vision_model.encoder.layers.8.self_attn.out_proj.weight', 'vision_model.encoder.layers.9.self_attn.q_proj.weight', 'vision_model.encoder.layers.1.self_attn.k_proj.weight', 'vision_model.encoder.layers.0.self_attn.out_proj.bias', 'vision_model.encoder.layers.7.self_attn.v_proj.bias', 'vision_model.encoder.layers.6.self_attn.k_proj.bias', 'vision_model.encoder.layers.6.self_attn.v_proj.bias', 'vision_model.encoder.layers.1.mlp.fc2.weight', 'vision_model.encoder.layers.1.self_attn.out_proj.weight', 'vision_model.encoder.layers.5.self_attn.k_proj.weight', 'vision_model.encoder.layers.11.self_attn.q_proj.bias', 'vision_model.encoder.layers.11.mlp.fc1.bias', 'vision_model.embeddings.class_embedding', 'vision_model.encoder.layers.10.mlp.fc1.bias', 'vision_model.encoder.layers.1.mlp.fc1.bias', 'vision_model.encoder.layers.5.self_attn.q_proj.weight', 'vision_model.encoder.layers.7.layer_norm2.bias', 'vision_model.encoder.layers.3.layer_norm2.weight', 'vision_model.encoder.layers.8.self_attn.k_proj.bias', 'vision_model.encoder.layers.6.mlp.fc2.weight', 'vision_model.encoder.layers.2.self_attn.v_proj.bias', 'vision_model.encoder.layers.7.self_attn.k_proj.weight', 'vision_model.encoder.layers.8.self_attn.out_proj.bias', 'vision_model.encoder.layers.0.layer_norm2.weight', 'vision_model.encoder.layers.4.mlp.fc1.weight', 'vision_model.encoder.layers.5.mlp.fc2.bias', 'vision_model.encoder.layers.3.self_attn.v_proj.weight', 'vision_model.post_layernorm.bias', 'vision_model.encoder.layers.0.self_attn.v_proj.bias', 'vision_model.encoder.layers.7.mlp.fc1.weight', 'vision_model.encoder.layers.3.self_attn.out_proj.weight', 'text_projection.weight', 'vision_model.encoder.layers.1.layer_norm1.bias', 'vision_model.encoder.layers.4.self_attn.q_proj.bias', 'vision_model.encoder.layers.10.self_attn.v_proj.bias', 'vision_model.encoder.layers.8.layer_norm1.bias', 'vision_model.encoder.layers.0.layer_norm1.weight', 'vision_model.encoder.layers.11.self_attn.out_proj.bias', 'vision_model.encoder.layers.10.self_attn.out_proj.weight', 'vision_model.encoder.layers.0.mlp.fc1.weight', 'vision_model.encoder.layers.9.layer_norm2.bias', 'vision_model.encoder.layers.4.layer_norm1.bias', 'vision_model.encoder.layers.3.layer_norm1.bias', 'vision_model.encoder.layers.6.self_attn.q_proj.bias', 'vision_model.encoder.layers.0.layer_norm2.bias', 'vision_model.encoder.layers.6.self_attn.q_proj.weight', 'vision_model.encoder.layers.11.self_attn.q_proj.weight', 'vision_model.encoder.layers.5.mlp.fc1.bias', 'vision_model.encoder.layers.2.mlp.fc2.weight', 'vision_model.encoder.layers.7.mlp.fc2.bias', 'vision_model.encoder.layers.7.self_attn.k_proj.bias', 'vision_model.encoder.layers.11.layer_norm2.bias', 'vision_model.encoder.layers.5.mlp.fc2.weight', 'vision_model.encoder.layers.11.self_attn.v_proj.bias', 'vision_model.encoder.layers.11.mlp.fc2.weight', 'vision_model.encoder.layers.3.self_attn.q_proj.weight', 'vision_model.encoder.layers.2.self_attn.q_proj.weight', 'vision_model.encoder.layers.1.self_attn.q_proj.weight', 'vision_model.encoder.layers.7.layer_norm1.weight', 'vision_model.encoder.layers.1.self_attn.k_proj.bias', 'vision_model.encoder.layers.7.self_attn.q_proj.weight', 'vision_model.encoder.layers.0.self_attn.q_proj.weight', 'vision_model.encoder.layers.5.layer_norm2.weight', 'vision_model.encoder.layers.8.mlp.fc1.bias', 'vision_model.encoder.layers.6.self_attn.k_proj.weight', 'vision_model.encoder.layers.2.self_attn.k_proj.bias', 'vision_model.encoder.layers.9.mlp.fc2.bias', 'vision_model.encoder.layers.4.self_attn.q_proj.weight', 'vision_model.encoder.layers.10.self_attn.out_proj.bias', 'vision_model.encoder.layers.2.layer_norm2.bias', 'vision_model.encoder.layers.10.mlp.fc1.weight', 'vision_model.encoder.layers.3.self_attn.v_proj.bias', 'vision_model.encoder.layers.7.self_attn.out_proj.weight', 'vision_model.encoder.layers.5.self_attn.v_proj.weight', 'vision_model.encoder.layers.0.self_attn.out_proj.weight', 'vision_model.encoder.layers.8.mlp.fc2.weight', 'vision_model.encoder.layers.6.layer_norm1.bias', 'vision_model.encoder.layers.10.mlp.fc2.bias', 'vision_model.encoder.layers.9.mlp.fc1.weight', 'vision_model.encoder.layers.0.self_attn.q_proj.bias', 'logit_scale', 'vision_model.encoder.layers.3.mlp.fc1.weight', 'vision_model.encoder.layers.6.self_attn.out_proj.weight', 'vision_model.encoder.layers.0.layer_norm1.bias', 'vision_model.encoder.layers.2.layer_norm2.weight', 'visual_projection.weight', 'vision_model.encoder.layers.3.layer_norm2.bias', 'vision_model.encoder.layers.10.layer_norm1.weight', 'vision_model.encoder.layers.3.self_attn.out_proj.bias', 'vision_model.encoder.layers.6.layer_norm2.weight', 'vision_model.encoder.layers.10.layer_norm2.bias', 'vision_model.encoder.layers.7.mlp.fc2.weight', 'vision_model.encoder.layers.2.mlp.fc1.weight', 'vision_model.encoder.layers.11.layer_norm2.weight', 'vision_model.encoder.layers.1.self_attn.q_proj.bias', 'vision_model.encoder.layers.10.self_attn.q_proj.weight', 'vision_model.encoder.layers.8.self_attn.v_proj.weight', 'vision_model.encoder.layers.7.mlp.fc1.bias', 'vision_model.encoder.layers.2.layer_norm1.weight', 'vision_model.encoder.layers.7.self_attn.q_proj.bias']\n",
      "- This IS expected if you are initializing CLIPTextModel from the checkpoint of a model trained on another task or with another architecture (e.g. initializing a BertForSequenceClassification model from a BertForPreTraining model).\n",
      "- This IS NOT expected if you are initializing CLIPTextModel from the checkpoint of a model that you expect to be exactly identical (initializing a BertForSequenceClassification model from a BertForSequenceClassification model).\n"
     ]
    }
   ],
   "source": [
    "clip_txt_model = transformers.CLIPTextModel.from_pretrained(\"openai/clip-vit-base-patch32\")\n",
    "clip_tokenizer = transformers.CLIPTokenizerFast.from_pretrained(\"openai/clip-vit-base-patch32\") "
   ]
  },
  {
   "cell_type": "code",
   "execution_count": 181,
   "metadata": {},
   "outputs": [
    {
     "data": {
      "text/plain": [
       "{'input_ids': tensor([[49406,  6426,   720,  1025,  8506,   682, 24661,   320,  1929,   533,\n",
       "           886,   556,   592, 49407]]), 'attention_mask': tensor([[1, 1, 1, 1, 1, 1, 1, 1, 1, 1, 1, 1, 1, 1]])}"
      ]
     },
     "execution_count": 181,
     "metadata": {},
     "output_type": "execute_result"
    }
   ],
   "source": [
    "txt_input = \"Studies have been shown that owning a dog is good for you\"\n",
    "txt_input = clip_tokenizer.batch_encode_plus([txt_input], return_tensors=\"pt\")\n",
    "txt_input"
   ]
  },
  {
   "cell_type": "code",
   "execution_count": 184,
   "metadata": {},
   "outputs": [
    {
     "data": {
      "text/plain": [
       "['studies</w>',\n",
       " 'have</w>',\n",
       " 'been</w>',\n",
       " 'shown</w>',\n",
       " 'that</w>',\n",
       " 'owning</w>',\n",
       " 'a</w>',\n",
       " 'dog</w>',\n",
       " 'is</w>',\n",
       " 'good</w>',\n",
       " 'for</w>',\n",
       " 'you</w>']"
      ]
     },
     "execution_count": 184,
     "metadata": {},
     "output_type": "execute_result"
    }
   ],
   "source": [
    "clip_tokenizer.tokenize(\"Studies have been shown that owning a dog is good for you\")"
   ]
  },
  {
   "cell_type": "code",
   "execution_count": 189,
   "metadata": {},
   "outputs": [
    {
     "data": {
      "text/plain": [
       "tensor([[[ 3.3929e-01,  1.1646e-01,  1.0195e-01,  ...,  2.4677e-01,\n",
       "           5.9064e-01,  1.0130e-01],\n",
       "         [-3.2356e-01, -1.9475e-01,  8.4122e-02,  ...,  1.1547e+00,\n",
       "           8.9105e-01, -1.8048e+00],\n",
       "         [-4.9168e-01, -5.6251e-01, -9.9165e-01,  ...,  4.8095e-01,\n",
       "           6.2915e-01, -9.8562e-01],\n",
       "         ...,\n",
       "         [ 1.1497e-03,  1.7150e-01,  7.2287e-01,  ..., -8.7701e-01,\n",
       "          -4.4782e-01, -4.2113e-01],\n",
       "         [-9.8934e-02, -9.4822e-01, -2.7503e-01,  ..., -1.4097e+00,\n",
       "           5.4656e-01, -4.2435e-01],\n",
       "         [-2.5321e-02, -1.6694e-02,  4.1979e-01,  ..., -5.3528e-01,\n",
       "           1.6378e-01, -5.0213e-01]]], grad_fn=<NativeLayerNormBackward0>)"
      ]
     },
     "execution_count": 189,
     "metadata": {},
     "output_type": "execute_result"
    }
   ],
   "source": [
    "txt_f = clip_txt_model(txt_input[\"input_ids\"],txt_input[\"attention_mask\"]).last_hidden_state\n",
    "txt_f"
   ]
  },
  {
   "cell_type": "code",
   "execution_count": 191,
   "metadata": {},
   "outputs": [
    {
     "data": {
      "text/plain": [
       "tensor([[49406,  6426,   720,  1025,  8506,   682, 24661,   320,  1929,   533,\n",
       "           886,   556,   592, 49407]])"
      ]
     },
     "execution_count": 191,
     "metadata": {},
     "output_type": "execute_result"
    }
   ],
   "source": [
    "txt_input['input_ids']"
   ]
  },
  {
   "cell_type": "code",
   "execution_count": 190,
   "metadata": {},
   "outputs": [
    {
     "data": {
      "text/plain": [
       "tensor([[-2.5321e-02, -1.6694e-02,  4.1979e-01,  7.7558e+00, -7.9777e+00,\n",
       "          1.8718e+00,  1.8089e+00,  2.0449e+00, -3.0887e-01,  1.0518e+00,\n",
       "          1.5750e-01,  5.1425e-01,  1.0993e+00, -1.0789e-01,  8.5410e-01,\n",
       "         -1.7511e+00, -1.9600e+00,  2.0817e-01, -4.1916e-01,  1.3266e-01,\n",
       "          3.6010e-01,  8.9378e-02,  9.4824e-02, -2.1869e-01, -1.6105e+00,\n",
       "         -6.6059e-01,  1.0099e+00, -5.3933e-01, -1.1723e+00, -1.3117e+00,\n",
       "          9.1806e-03, -3.3721e-01,  2.3286e-01,  8.1502e-01, -7.3185e-01,\n",
       "         -1.6624e-02,  7.6099e-01,  8.7783e-01,  1.2524e+00,  9.2571e-01,\n",
       "          9.7377e-01, -1.8671e+00, -1.5371e-01, -5.6437e-01, -4.5029e-01,\n",
       "         -5.0667e-01,  1.1460e+00, -3.4767e-01,  1.0969e+00, -2.2091e-01,\n",
       "         -9.4311e-01,  9.4691e-01,  1.4136e+00,  8.3611e-01,  2.9633e-01,\n",
       "         -2.2275e-01,  2.2275e-01, -5.1886e-01, -3.9025e-01,  4.8927e-01,\n",
       "         -4.3844e-01, -6.6060e-01,  1.8384e+00,  3.1465e+00, -1.8161e+00,\n",
       "         -7.7493e-01,  3.1131e-01, -5.0800e-01, -3.4284e-01,  1.3212e+00,\n",
       "          4.5566e-02,  6.5410e-01, -7.2124e-01, -9.1349e-01, -1.6485e+00,\n",
       "          1.2637e+00,  6.0527e-01, -1.3523e+00, -9.7376e-02,  3.7156e-01,\n",
       "          9.7375e-01, -3.0282e-01, -9.4034e-02,  1.1724e+00, -2.9576e-01,\n",
       "          1.5048e-01,  3.5347e-01,  1.9360e+00,  8.3835e-01,  2.0172e+00,\n",
       "         -8.0226e-01,  2.3380e+00, -3.7313e-01, -2.5925e-01, -2.8332e-01,\n",
       "         -1.3572e+00,  2.2378e+00,  1.9448e-01, -2.6350e-01,  7.0806e-01,\n",
       "         -3.0839e-03, -7.8118e-01,  1.0761e+00, -2.8201e-01,  1.3318e+00,\n",
       "         -6.0910e-01,  1.2430e-01,  5.7339e-01,  1.3662e-01,  2.9992e-02,\n",
       "          7.5636e-01,  5.8695e-01, -4.4792e+00,  3.5122e-01, -1.0478e+00,\n",
       "          5.7436e-01,  1.4300e+00, -6.1847e-01,  1.2435e+00,  3.7162e-01,\n",
       "          5.3529e-01,  5.0524e-01, -2.4300e-01,  1.1892e+00,  6.5059e-01,\n",
       "         -4.7049e-01,  7.3685e-02,  1.8378e-01, -8.8621e-01, -7.7663e-01,\n",
       "          1.0925e+00,  7.1353e-01,  1.1298e+00, -4.1695e-01,  1.5220e+00,\n",
       "         -5.8869e-01,  1.0117e+00, -2.4603e-01, -1.4046e-01, -1.5938e-01,\n",
       "          1.1526e+00, -9.5005e-01,  1.2029e+00, -4.7890e-01,  7.9831e-01,\n",
       "          1.3466e-01, -9.1632e-01, -2.4412e-01,  5.9116e-01, -5.6023e-01,\n",
       "         -5.3002e-02, -8.7938e-01,  8.3744e-01,  6.9158e-01, -1.0453e+00,\n",
       "          1.1854e+00, -3.3657e-02,  2.5828e-01,  9.4920e-01, -3.7084e-01,\n",
       "         -1.7537e+00,  9.0124e-01, -1.1328e+00, -1.4057e+00, -2.9894e-01,\n",
       "          2.0761e-01,  1.4118e-01, -7.5183e-01,  1.4181e-01,  4.8260e-02,\n",
       "         -1.8423e-01, -7.3867e-01,  2.8914e-01,  7.2631e-01,  1.3377e-01,\n",
       "         -1.0283e-01,  6.1518e-01,  6.7914e-01,  1.4768e+00, -2.5787e-01,\n",
       "         -4.7297e-01,  7.8658e-01,  5.1150e-01,  6.4531e-01, -9.2120e-01,\n",
       "          2.7450e-01, -1.0720e+00,  1.9876e-01,  3.6186e-01, -3.2579e-01,\n",
       "         -1.8415e-01, -5.4873e-01,  2.4629e-01,  3.4604e-01,  9.5784e-01,\n",
       "          2.1763e-01, -2.9235e-01, -3.3650e-01,  1.8259e-02, -7.6326e-01,\n",
       "         -1.0109e+00,  1.8280e-01, -8.4851e-03,  2.1921e+00,  1.8618e-01,\n",
       "          1.0702e-01, -8.0457e-01, -1.1199e-01, -5.5032e-01, -5.0207e-01,\n",
       "          9.1411e-01,  1.8658e+00, -8.8452e-01,  6.8010e-02, -3.6819e-01,\n",
       "          3.2345e-01,  1.1065e+00, -5.9644e-01,  7.7177e-01, -8.4317e-01,\n",
       "         -8.1980e-01,  8.8279e-01,  5.5161e-01,  4.7638e-01,  1.2696e+00,\n",
       "         -4.5979e-03,  1.8415e-01, -7.5565e-01,  6.4627e-01,  9.3407e-01,\n",
       "          5.4181e-01,  6.3955e-02, -1.2324e+00,  6.1104e-01, -1.1640e-01,\n",
       "         -9.2320e-01,  1.0651e-01,  4.3012e-02, -1.2186e+00,  3.1741e+00,\n",
       "          1.1454e-01,  1.5634e+00,  6.0775e-02, -1.1093e+00,  1.3049e+00,\n",
       "         -7.2815e-01,  1.3252e+00, -4.1004e-01, -1.2521e+00,  1.0712e+00,\n",
       "          5.1249e-01,  4.5077e-01,  3.8210e-01,  5.6363e-01, -1.9304e-01,\n",
       "         -1.2726e+00,  7.4017e-01, -1.7013e-01,  1.2294e+00, -8.9568e-01,\n",
       "          3.9854e-02, -2.0267e-01,  5.5816e-02,  7.3148e-01, -6.3438e-01,\n",
       "          7.5013e-01,  4.5372e-01,  1.2847e+00,  5.0396e-01,  5.0597e-01,\n",
       "          1.0123e+00,  1.9214e+00, -1.0007e+00, -7.4616e-01,  1.2553e+00,\n",
       "          1.7733e+00, -3.2246e-01,  1.1495e+00,  6.1368e-01, -1.0178e+00,\n",
       "          2.5411e-02,  9.0285e-01, -2.2008e-02,  8.3747e-02, -9.0013e-01,\n",
       "         -4.6288e-01,  1.5479e+00,  1.5096e-02, -5.6587e-01, -2.3859e-01,\n",
       "         -7.7104e-02,  1.2767e+00, -7.0134e-01, -1.1317e-01,  5.9753e-01,\n",
       "          3.6140e-01,  3.0283e-01, -5.4891e-01,  1.1956e+00,  1.6545e-02,\n",
       "          5.6629e-01,  1.0435e+00, -7.3454e-01, -1.6325e-02,  3.3675e-01,\n",
       "          4.9717e-01, -2.5660e-01,  1.6621e-01,  1.0072e+00,  2.5351e+00,\n",
       "          1.2593e+00,  1.1832e+00,  5.1319e-01,  7.1089e-01, -9.5915e-01,\n",
       "          2.6956e-01, -4.3722e-02,  1.2820e-01, -1.1238e-01, -1.6315e-01,\n",
       "         -2.3216e-01, -3.2511e-03,  3.2191e-01,  1.2831e+00,  1.4935e+00,\n",
       "         -5.0484e-01,  3.7694e-01,  1.7733e+00,  5.1815e-01,  1.1881e+00,\n",
       "         -1.5245e+00, -4.5693e-01, -6.2060e-01, -3.1681e-01,  5.4769e-01,\n",
       "          4.5723e-01,  1.0829e+00, -1.7902e+00, -4.0523e-01,  4.6578e-01,\n",
       "          4.2854e-01,  7.3809e-01,  9.6568e-01, -1.7721e-01,  1.7494e-01,\n",
       "          3.0482e-01,  4.7298e-01,  1.6013e+00, -3.1979e-01,  2.0579e+00,\n",
       "          5.6005e-01, -5.4072e-01, -8.1069e-01, -1.9189e+00, -8.1580e-01,\n",
       "         -3.5960e-01,  8.0864e-01,  1.7105e-01, -6.2001e-01, -8.4799e-01,\n",
       "         -5.6991e-02,  4.5201e-01, -1.7410e+00, -2.5815e-01,  1.1844e+00,\n",
       "          3.9205e-01, -1.7048e+00, -4.4696e-01, -4.0367e-01, -4.1693e-01,\n",
       "         -3.1501e-01,  2.0215e+00, -9.7082e-01, -1.1343e+00, -1.1309e+00,\n",
       "         -2.0925e+00,  7.2327e-01,  1.2243e+00,  9.2952e-02,  5.5299e-01,\n",
       "         -2.2987e+00,  5.0195e-01, -2.5106e-01,  1.1089e+00,  2.4461e-01,\n",
       "          4.7150e-02, -1.1525e-01,  4.3511e-01,  9.8924e-02, -2.5943e-01,\n",
       "          1.8033e+00, -3.7771e-03, -2.1276e-01, -2.6284e-01,  2.2886e-01,\n",
       "         -3.5576e-01, -7.1954e-01, -7.5272e-01,  4.2039e-01, -5.1047e-01,\n",
       "         -3.5085e-02,  1.4138e-02,  4.7159e-01,  1.2706e+00,  5.2732e-02,\n",
       "          1.4744e+00,  6.9294e-01,  7.5347e-01,  6.2266e-01,  3.1400e+00,\n",
       "         -1.4957e-01, -1.3657e+00, -3.9811e-02,  2.0442e-01,  2.2217e+00,\n",
       "          1.4076e+00, -1.3298e+00,  1.6158e+00, -1.2411e+00, -1.5095e+00,\n",
       "          9.7358e-01, -2.1754e+00,  1.4102e+00,  8.3416e-01, -2.1306e+00,\n",
       "          1.7263e-02, -3.0078e+00, -2.2084e-01, -6.0720e-02, -1.3325e+00,\n",
       "         -5.2256e-02, -3.1188e+00, -3.7920e-01,  2.2617e+00,  1.1274e+00,\n",
       "          2.7855e-01,  6.1618e-01,  7.4323e-01,  1.1266e+00,  1.4339e+00,\n",
       "         -1.5232e+00,  2.6751e-01,  3.1176e-01, -1.0654e-02,  1.0764e+00,\n",
       "          1.3450e-01,  2.6729e+00,  5.3592e-01, -2.8170e-01, -1.7303e+00,\n",
       "          1.9872e+00,  5.9811e-01, -7.1614e-01, -9.8530e-01,  6.3809e-01,\n",
       "         -3.7247e-01, -7.5587e-01, -5.6950e-01, -1.8617e+00, -4.4462e-01,\n",
       "         -5.5201e-01, -8.2941e-01, -1.2429e+00,  1.0962e+00, -1.5499e-01,\n",
       "         -6.8402e-01,  7.6945e-01,  3.4452e-01,  9.2890e-01,  1.3860e+00,\n",
       "         -4.6699e-01, -1.1168e+00,  2.5020e-01,  9.5406e-01,  2.4578e-01,\n",
       "          1.6483e+00,  3.2753e-01, -3.0968e-01,  1.8158e-01,  5.4764e-01,\n",
       "         -1.5807e-02, -1.5295e+00, -9.3390e-01, -6.4932e-01,  2.1878e+00,\n",
       "         -1.2009e-01,  1.3994e+00, -1.2179e+00,  2.1697e-01,  5.2119e-01,\n",
       "          1.0957e+00, -1.0647e-01, -3.6127e-01,  6.0455e-01, -1.4791e-01,\n",
       "         -7.9078e-01,  1.8438e+00,  4.1492e-01, -1.6428e+00,  7.1239e-01,\n",
       "         -4.8376e-01, -1.3733e+00, -4.5155e-01,  4.2478e-01, -1.6728e-02,\n",
       "         -8.3908e-01, -3.8320e-01,  1.1703e+00,  7.7766e-02, -5.3528e-01,\n",
       "          1.6378e-01, -5.0213e-01]], grad_fn=<IndexBackward0>)"
      ]
     },
     "execution_count": 190,
     "metadata": {},
     "output_type": "execute_result"
    }
   ],
   "source": [
    "txt_f = txt_f[torch.arange(txt_f.shape[0]), txt_input['input_ids'].argmax(dim=-1)]\n",
    "txt_f"
   ]
  },
  {
   "cell_type": "code",
   "execution_count": 175,
   "metadata": {},
   "outputs": [
    {
     "data": {
      "text/plain": [
       "{'input_ids': tensor([[49406,  1559, 49407],\n",
       "        [49406,  2368, 49407],\n",
       "        [49406,  1929, 49407]]), 'attention_mask': tensor([[1, 1, 1],\n",
       "        [1, 1, 1],\n",
       "        [1, 1, 1]])}"
      ]
     },
     "execution_count": 175,
     "metadata": {},
     "output_type": "execute_result"
    }
   ],
   "source": [
    "txt_input"
   ]
  },
  {
   "attachments": {},
   "cell_type": "markdown",
   "metadata": {},
   "source": [
    "# T5"
   ]
  },
  {
   "cell_type": "code",
   "execution_count": 9,
   "metadata": {},
   "outputs": [],
   "source": [
    "#画像エンコーダー\n",
    "resnet18 = models.resnet18(weights=ResNet18_Weights.IMAGENET1K_V1)\n",
    "resnet18_feature_extractor = create_feature_extractor(\n",
    "    resnet18, \n",
    "    return_nodes={\"flatten\":\"features\"}\n",
    ")"
   ]
  },
  {
   "cell_type": "code",
   "execution_count": 10,
   "metadata": {},
   "outputs": [
    {
     "data": {
      "text/plain": [
       "ResNet(\n",
       "  (conv1): Conv2d(3, 64, kernel_size=(7, 7), stride=(2, 2), padding=(3, 3), bias=False)\n",
       "  (bn1): BatchNorm2d(64, eps=1e-05, momentum=0.1, affine=True, track_running_stats=True)\n",
       "  (relu): ReLU(inplace=True)\n",
       "  (maxpool): MaxPool2d(kernel_size=3, stride=2, padding=1, dilation=1, ceil_mode=False)\n",
       "  (layer1): Module(\n",
       "    (0): Module(\n",
       "      (conv1): Conv2d(64, 64, kernel_size=(3, 3), stride=(1, 1), padding=(1, 1), bias=False)\n",
       "      (bn1): BatchNorm2d(64, eps=1e-05, momentum=0.1, affine=True, track_running_stats=True)\n",
       "      (relu): ReLU(inplace=True)\n",
       "      (conv2): Conv2d(64, 64, kernel_size=(3, 3), stride=(1, 1), padding=(1, 1), bias=False)\n",
       "      (bn2): BatchNorm2d(64, eps=1e-05, momentum=0.1, affine=True, track_running_stats=True)\n",
       "    )\n",
       "    (1): Module(\n",
       "      (conv1): Conv2d(64, 64, kernel_size=(3, 3), stride=(1, 1), padding=(1, 1), bias=False)\n",
       "      (bn1): BatchNorm2d(64, eps=1e-05, momentum=0.1, affine=True, track_running_stats=True)\n",
       "      (relu): ReLU(inplace=True)\n",
       "      (conv2): Conv2d(64, 64, kernel_size=(3, 3), stride=(1, 1), padding=(1, 1), bias=False)\n",
       "      (bn2): BatchNorm2d(64, eps=1e-05, momentum=0.1, affine=True, track_running_stats=True)\n",
       "    )\n",
       "  )\n",
       "  (layer2): Module(\n",
       "    (0): Module(\n",
       "      (conv1): Conv2d(64, 128, kernel_size=(3, 3), stride=(2, 2), padding=(1, 1), bias=False)\n",
       "      (bn1): BatchNorm2d(128, eps=1e-05, momentum=0.1, affine=True, track_running_stats=True)\n",
       "      (relu): ReLU(inplace=True)\n",
       "      (conv2): Conv2d(128, 128, kernel_size=(3, 3), stride=(1, 1), padding=(1, 1), bias=False)\n",
       "      (bn2): BatchNorm2d(128, eps=1e-05, momentum=0.1, affine=True, track_running_stats=True)\n",
       "      (downsample): Module(\n",
       "        (0): Conv2d(64, 128, kernel_size=(1, 1), stride=(2, 2), bias=False)\n",
       "        (1): BatchNorm2d(128, eps=1e-05, momentum=0.1, affine=True, track_running_stats=True)\n",
       "      )\n",
       "    )\n",
       "    (1): Module(\n",
       "      (conv1): Conv2d(128, 128, kernel_size=(3, 3), stride=(1, 1), padding=(1, 1), bias=False)\n",
       "      (bn1): BatchNorm2d(128, eps=1e-05, momentum=0.1, affine=True, track_running_stats=True)\n",
       "      (relu): ReLU(inplace=True)\n",
       "      (conv2): Conv2d(128, 128, kernel_size=(3, 3), stride=(1, 1), padding=(1, 1), bias=False)\n",
       "      (bn2): BatchNorm2d(128, eps=1e-05, momentum=0.1, affine=True, track_running_stats=True)\n",
       "    )\n",
       "  )\n",
       "  (layer3): Module(\n",
       "    (0): Module(\n",
       "      (conv1): Conv2d(128, 256, kernel_size=(3, 3), stride=(2, 2), padding=(1, 1), bias=False)\n",
       "      (bn1): BatchNorm2d(256, eps=1e-05, momentum=0.1, affine=True, track_running_stats=True)\n",
       "      (relu): ReLU(inplace=True)\n",
       "      (conv2): Conv2d(256, 256, kernel_size=(3, 3), stride=(1, 1), padding=(1, 1), bias=False)\n",
       "      (bn2): BatchNorm2d(256, eps=1e-05, momentum=0.1, affine=True, track_running_stats=True)\n",
       "      (downsample): Module(\n",
       "        (0): Conv2d(128, 256, kernel_size=(1, 1), stride=(2, 2), bias=False)\n",
       "        (1): BatchNorm2d(256, eps=1e-05, momentum=0.1, affine=True, track_running_stats=True)\n",
       "      )\n",
       "    )\n",
       "    (1): Module(\n",
       "      (conv1): Conv2d(256, 256, kernel_size=(3, 3), stride=(1, 1), padding=(1, 1), bias=False)\n",
       "      (bn1): BatchNorm2d(256, eps=1e-05, momentum=0.1, affine=True, track_running_stats=True)\n",
       "      (relu): ReLU(inplace=True)\n",
       "      (conv2): Conv2d(256, 256, kernel_size=(3, 3), stride=(1, 1), padding=(1, 1), bias=False)\n",
       "      (bn2): BatchNorm2d(256, eps=1e-05, momentum=0.1, affine=True, track_running_stats=True)\n",
       "    )\n",
       "  )\n",
       "  (layer4): Module(\n",
       "    (0): Module(\n",
       "      (conv1): Conv2d(256, 512, kernel_size=(3, 3), stride=(2, 2), padding=(1, 1), bias=False)\n",
       "      (bn1): BatchNorm2d(512, eps=1e-05, momentum=0.1, affine=True, track_running_stats=True)\n",
       "      (relu): ReLU(inplace=True)\n",
       "      (conv2): Conv2d(512, 512, kernel_size=(3, 3), stride=(1, 1), padding=(1, 1), bias=False)\n",
       "      (bn2): BatchNorm2d(512, eps=1e-05, momentum=0.1, affine=True, track_running_stats=True)\n",
       "      (downsample): Module(\n",
       "        (0): Conv2d(256, 512, kernel_size=(1, 1), stride=(2, 2), bias=False)\n",
       "        (1): BatchNorm2d(512, eps=1e-05, momentum=0.1, affine=True, track_running_stats=True)\n",
       "      )\n",
       "    )\n",
       "    (1): Module(\n",
       "      (conv1): Conv2d(512, 512, kernel_size=(3, 3), stride=(1, 1), padding=(1, 1), bias=False)\n",
       "      (bn1): BatchNorm2d(512, eps=1e-05, momentum=0.1, affine=True, track_running_stats=True)\n",
       "      (relu): ReLU(inplace=True)\n",
       "      (conv2): Conv2d(512, 512, kernel_size=(3, 3), stride=(1, 1), padding=(1, 1), bias=False)\n",
       "      (bn2): BatchNorm2d(512, eps=1e-05, momentum=0.1, affine=True, track_running_stats=True)\n",
       "    )\n",
       "  )\n",
       "  (avgpool): AdaptiveAvgPool2d(output_size=(1, 1))\n",
       ")"
      ]
     },
     "execution_count": 10,
     "metadata": {},
     "output_type": "execute_result"
    }
   ],
   "source": [
    "resnet18_feature_extractor"
   ]
  },
  {
   "cell_type": "code",
   "execution_count": 11,
   "metadata": {},
   "outputs": [
    {
     "data": {
      "text/plain": [
       "ResNet(\n",
       "  (conv1): Conv2d(3, 64, kernel_size=(7, 7), stride=(2, 2), padding=(3, 3), bias=False)\n",
       "  (bn1): BatchNorm2d(64, eps=1e-05, momentum=0.1, affine=True, track_running_stats=True)\n",
       "  (relu): ReLU(inplace=True)\n",
       "  (maxpool): MaxPool2d(kernel_size=3, stride=2, padding=1, dilation=1, ceil_mode=False)\n",
       "  (layer1): Sequential(\n",
       "    (0): BasicBlock(\n",
       "      (conv1): Conv2d(64, 64, kernel_size=(3, 3), stride=(1, 1), padding=(1, 1), bias=False)\n",
       "      (bn1): BatchNorm2d(64, eps=1e-05, momentum=0.1, affine=True, track_running_stats=True)\n",
       "      (relu): ReLU(inplace=True)\n",
       "      (conv2): Conv2d(64, 64, kernel_size=(3, 3), stride=(1, 1), padding=(1, 1), bias=False)\n",
       "      (bn2): BatchNorm2d(64, eps=1e-05, momentum=0.1, affine=True, track_running_stats=True)\n",
       "    )\n",
       "    (1): BasicBlock(\n",
       "      (conv1): Conv2d(64, 64, kernel_size=(3, 3), stride=(1, 1), padding=(1, 1), bias=False)\n",
       "      (bn1): BatchNorm2d(64, eps=1e-05, momentum=0.1, affine=True, track_running_stats=True)\n",
       "      (relu): ReLU(inplace=True)\n",
       "      (conv2): Conv2d(64, 64, kernel_size=(3, 3), stride=(1, 1), padding=(1, 1), bias=False)\n",
       "      (bn2): BatchNorm2d(64, eps=1e-05, momentum=0.1, affine=True, track_running_stats=True)\n",
       "    )\n",
       "  )\n",
       "  (layer2): Sequential(\n",
       "    (0): BasicBlock(\n",
       "      (conv1): Conv2d(64, 128, kernel_size=(3, 3), stride=(2, 2), padding=(1, 1), bias=False)\n",
       "      (bn1): BatchNorm2d(128, eps=1e-05, momentum=0.1, affine=True, track_running_stats=True)\n",
       "      (relu): ReLU(inplace=True)\n",
       "      (conv2): Conv2d(128, 128, kernel_size=(3, 3), stride=(1, 1), padding=(1, 1), bias=False)\n",
       "      (bn2): BatchNorm2d(128, eps=1e-05, momentum=0.1, affine=True, track_running_stats=True)\n",
       "      (downsample): Sequential(\n",
       "        (0): Conv2d(64, 128, kernel_size=(1, 1), stride=(2, 2), bias=False)\n",
       "        (1): BatchNorm2d(128, eps=1e-05, momentum=0.1, affine=True, track_running_stats=True)\n",
       "      )\n",
       "    )\n",
       "    (1): BasicBlock(\n",
       "      (conv1): Conv2d(128, 128, kernel_size=(3, 3), stride=(1, 1), padding=(1, 1), bias=False)\n",
       "      (bn1): BatchNorm2d(128, eps=1e-05, momentum=0.1, affine=True, track_running_stats=True)\n",
       "      (relu): ReLU(inplace=True)\n",
       "      (conv2): Conv2d(128, 128, kernel_size=(3, 3), stride=(1, 1), padding=(1, 1), bias=False)\n",
       "      (bn2): BatchNorm2d(128, eps=1e-05, momentum=0.1, affine=True, track_running_stats=True)\n",
       "    )\n",
       "  )\n",
       "  (layer3): Sequential(\n",
       "    (0): BasicBlock(\n",
       "      (conv1): Conv2d(128, 256, kernel_size=(3, 3), stride=(2, 2), padding=(1, 1), bias=False)\n",
       "      (bn1): BatchNorm2d(256, eps=1e-05, momentum=0.1, affine=True, track_running_stats=True)\n",
       "      (relu): ReLU(inplace=True)\n",
       "      (conv2): Conv2d(256, 256, kernel_size=(3, 3), stride=(1, 1), padding=(1, 1), bias=False)\n",
       "      (bn2): BatchNorm2d(256, eps=1e-05, momentum=0.1, affine=True, track_running_stats=True)\n",
       "      (downsample): Sequential(\n",
       "        (0): Conv2d(128, 256, kernel_size=(1, 1), stride=(2, 2), bias=False)\n",
       "        (1): BatchNorm2d(256, eps=1e-05, momentum=0.1, affine=True, track_running_stats=True)\n",
       "      )\n",
       "    )\n",
       "    (1): BasicBlock(\n",
       "      (conv1): Conv2d(256, 256, kernel_size=(3, 3), stride=(1, 1), padding=(1, 1), bias=False)\n",
       "      (bn1): BatchNorm2d(256, eps=1e-05, momentum=0.1, affine=True, track_running_stats=True)\n",
       "      (relu): ReLU(inplace=True)\n",
       "      (conv2): Conv2d(256, 256, kernel_size=(3, 3), stride=(1, 1), padding=(1, 1), bias=False)\n",
       "      (bn2): BatchNorm2d(256, eps=1e-05, momentum=0.1, affine=True, track_running_stats=True)\n",
       "    )\n",
       "  )\n",
       "  (layer4): Sequential(\n",
       "    (0): BasicBlock(\n",
       "      (conv1): Conv2d(256, 512, kernel_size=(3, 3), stride=(2, 2), padding=(1, 1), bias=False)\n",
       "      (bn1): BatchNorm2d(512, eps=1e-05, momentum=0.1, affine=True, track_running_stats=True)\n",
       "      (relu): ReLU(inplace=True)\n",
       "      (conv2): Conv2d(512, 512, kernel_size=(3, 3), stride=(1, 1), padding=(1, 1), bias=False)\n",
       "      (bn2): BatchNorm2d(512, eps=1e-05, momentum=0.1, affine=True, track_running_stats=True)\n",
       "      (downsample): Sequential(\n",
       "        (0): Conv2d(256, 512, kernel_size=(1, 1), stride=(2, 2), bias=False)\n",
       "        (1): BatchNorm2d(512, eps=1e-05, momentum=0.1, affine=True, track_running_stats=True)\n",
       "      )\n",
       "    )\n",
       "    (1): BasicBlock(\n",
       "      (conv1): Conv2d(512, 512, kernel_size=(3, 3), stride=(1, 1), padding=(1, 1), bias=False)\n",
       "      (bn1): BatchNorm2d(512, eps=1e-05, momentum=0.1, affine=True, track_running_stats=True)\n",
       "      (relu): ReLU(inplace=True)\n",
       "      (conv2): Conv2d(512, 512, kernel_size=(3, 3), stride=(1, 1), padding=(1, 1), bias=False)\n",
       "      (bn2): BatchNorm2d(512, eps=1e-05, momentum=0.1, affine=True, track_running_stats=True)\n",
       "    )\n",
       "  )\n",
       "  (avgpool): AdaptiveAvgPool2d(output_size=(1, 1))\n",
       "  (fc): Linear(in_features=512, out_features=1000, bias=True)\n",
       ")"
      ]
     },
     "execution_count": 11,
     "metadata": {},
     "output_type": "execute_result"
    }
   ],
   "source": [
    "resnet18"
   ]
  },
  {
   "cell_type": "code",
   "execution_count": 17,
   "metadata": {},
   "outputs": [],
   "source": [
    "img_input = img_transform(sample[\"image\"]).unsqueeze(0)\n",
    "txt_input = \"Studies have been shown that \"#owning a dog is good for you\""
   ]
  },
  {
   "cell_type": "code",
   "execution_count": 18,
   "metadata": {},
   "outputs": [],
   "source": [
    "# average poolingの後を持ってくる\n",
    "resnet18_feature_extractor = create_feature_extractor(\n",
    "    resnet18, \n",
    "    return_nodes={\"layer4\":\"features\"}\n",
    ")"
   ]
  },
  {
   "cell_type": "code",
   "execution_count": 19,
   "metadata": {},
   "outputs": [],
   "source": [
    "from transformers import T5Tokenizer, T5EncoderModel\n",
    "tokenizer = T5Tokenizer.from_pretrained('t5-small')\n",
    "model = T5EncoderModel.from_pretrained('t5-small')\n",
    "input_ids = tokenizer(txt_input, return_tensors=\"pt\").input_ids  # Batch size 1\n",
    "txt_f = model(input_ids=input_ids).last_hidden_state\n",
    "img_f = resnet18_feature_extractor(img_input)[\"features\"]\n",
    "fc = nn.Linear(model.config.d_model, 512)"
   ]
  },
  {
   "cell_type": "code",
   "execution_count": 23,
   "metadata": {},
   "outputs": [
    {
     "data": {
      "text/plain": [
       "torch.Size([6, 512])"
      ]
     },
     "execution_count": 23,
     "metadata": {},
     "output_type": "execute_result"
    }
   ],
   "source": [
    "txt_f[0].shape"
   ]
  },
  {
   "cell_type": "code",
   "execution_count": 15,
   "metadata": {},
   "outputs": [
    {
     "data": {
      "text/plain": [
       "tensor([[[[2.5983, 5.1292, 2.4913,  ..., 2.5609, 2.2499, 1.2210],\n",
       "          [0.8734, 3.1706, 2.9090,  ..., 3.1479, 1.7540, 1.1767],\n",
       "          [1.4377, 0.6484, 1.8665,  ..., 1.2652, 0.8945, 0.9872],\n",
       "          ...,\n",
       "          [0.0000, 0.0000, 0.0000,  ..., 0.0000, 0.3132, 1.2035],\n",
       "          [0.0000, 0.0000, 0.0000,  ..., 0.0000, 0.0000, 0.0000],\n",
       "          [0.0000, 0.2822, 0.0000,  ..., 0.0000, 0.0000, 0.0000]],\n",
       "\n",
       "         [[0.0000, 0.0000, 0.2299,  ..., 0.8756, 2.7587, 3.7003],\n",
       "          [0.0000, 0.0000, 0.0449,  ..., 1.2859, 2.9791, 4.0388],\n",
       "          [0.0000, 0.0000, 0.0000,  ..., 0.0000, 1.4525, 2.4562],\n",
       "          ...,\n",
       "          [0.0000, 0.0000, 0.0000,  ..., 0.4471, 1.3891, 1.3818],\n",
       "          [0.0000, 1.7317, 2.3434,  ..., 1.4186, 0.0367, 0.0000],\n",
       "          [0.0000, 1.3841, 2.8319,  ..., 2.0533, 0.0000, 0.0000]],\n",
       "\n",
       "         [[0.0000, 0.0000, 0.0370,  ..., 3.1666, 4.0890, 3.9464],\n",
       "          [0.0000, 0.0000, 0.0000,  ..., 2.2155, 3.1167, 3.3469],\n",
       "          [0.0000, 0.0000, 0.3528,  ..., 2.2065, 0.0000, 1.3557],\n",
       "          ...,\n",
       "          [0.0000, 0.0000, 0.0773,  ..., 0.6093, 0.0000, 1.2626],\n",
       "          [0.0000, 0.0000, 0.6517,  ..., 3.2288, 2.9039, 2.2594],\n",
       "          [0.0000, 0.0000, 0.2235,  ..., 1.6878, 1.7031, 0.6716]],\n",
       "\n",
       "         ...,\n",
       "\n",
       "         [[0.0000, 0.0000, 0.0000,  ..., 4.4132, 3.4324, 1.3371],\n",
       "          [0.0000, 0.0000, 0.0000,  ..., 3.7141, 2.2052, 0.4095],\n",
       "          [0.0000, 0.0000, 1.6224,  ..., 2.6982, 1.1139, 1.0817],\n",
       "          ...,\n",
       "          [0.0373, 0.6607, 2.2123,  ..., 0.0000, 0.0000, 0.0000],\n",
       "          [0.5603, 1.4180, 1.5832,  ..., 0.0639, 0.3184, 0.1456],\n",
       "          [0.6691, 1.4636, 1.7203,  ..., 0.6286, 0.8235, 0.4500]],\n",
       "\n",
       "         [[0.8450, 1.6400, 0.0000,  ..., 0.0000, 0.0000, 0.0000],\n",
       "          [3.4715, 3.8902, 1.5659,  ..., 0.5638, 1.9474, 1.7914],\n",
       "          [2.8141, 2.5782, 0.7247,  ..., 3.5744, 5.1649, 3.6235],\n",
       "          ...,\n",
       "          [0.0000, 0.0000, 0.6589,  ..., 2.2937, 2.4241, 0.9728],\n",
       "          [0.0000, 0.0000, 0.0000,  ..., 0.0000, 0.0000, 0.0000],\n",
       "          [0.0000, 0.0000, 0.0000,  ..., 0.0000, 0.0000, 0.0000]],\n",
       "\n",
       "         [[5.6023, 4.9295, 1.1095,  ..., 0.0000, 3.6012, 2.2087],\n",
       "          [3.8584, 1.7223, 0.0000,  ..., 0.0000, 5.1772, 3.1600],\n",
       "          [3.0881, 0.7534, 0.0000,  ..., 0.0000, 1.7660, 2.5757],\n",
       "          ...,\n",
       "          [0.4186, 0.4298, 0.1104,  ..., 0.0000, 0.6302, 0.0000],\n",
       "          [0.0000, 0.0000, 0.0000,  ..., 0.0000, 0.0000, 0.0000],\n",
       "          [0.0000, 0.0000, 0.0000,  ..., 0.0000, 0.0000, 1.1398]]]],\n",
       "       grad_fn=<ReluBackward0>)"
      ]
     },
     "execution_count": 15,
     "metadata": {},
     "output_type": "execute_result"
    }
   ],
   "source": [
    "resnet18_feature_extractor(img_input)[\"features\"]"
   ]
  },
  {
   "cell_type": "code",
   "execution_count": 81,
   "metadata": {},
   "outputs": [
    {
     "data": {
      "text/plain": [
       "torch.Size([1, 512])"
      ]
     },
     "execution_count": 81,
     "metadata": {},
     "output_type": "execute_result"
    }
   ],
   "source": [
    "img_f = resnet18_feature_extractor(img_input)[\"features\"]\n",
    "ap =  nn.AdaptiveAvgPool2d((1, 1))\n",
    "img_f = ap(img_f)\n",
    "img_f = img_f.view(img_f.size(0), -1)\n",
    "img_f.shape"
   ]
  },
  {
   "cell_type": "code",
   "execution_count": 88,
   "metadata": {},
   "outputs": [
    {
     "data": {
      "text/plain": [
       "torch.Size([1, 512, 7, 7])"
      ]
     },
     "execution_count": 88,
     "metadata": {},
     "output_type": "execute_result"
    }
   ],
   "source": [
    "resnet18_feature_extractor(img_input)[\"features\"].shape"
   ]
  },
  {
   "cell_type": "code",
   "execution_count": 123,
   "metadata": {},
   "outputs": [
    {
     "data": {
      "text/plain": [
       "{'input_ids': tensor([[6536,   43,  118, 2008,   24,  293,   53,    3,    9, 1782,   19,  207,\n",
       "           21,   25,    1]]), 'attention_mask': tensor([[1, 1, 1, 1, 1, 1, 1, 1, 1, 1, 1, 1, 1, 1, 1]])}"
      ]
     },
     "execution_count": 123,
     "metadata": {},
     "output_type": "execute_result"
    }
   ],
   "source": [
    "tokenizer(txt_input,  padding=True, return_tensors=\"pt\")"
   ]
  },
  {
   "cell_type": "code",
   "execution_count": 83,
   "metadata": {},
   "outputs": [
    {
     "data": {
      "text/plain": [
       "tensor(0.9468, grad_fn=<SelectBackward0>)"
      ]
     },
     "execution_count": 83,
     "metadata": {},
     "output_type": "execute_result"
    }
   ],
   "source": [
    "img_f[0][0]"
   ]
  },
  {
   "cell_type": "code",
   "execution_count": 74,
   "metadata": {},
   "outputs": [
    {
     "data": {
      "text/plain": [
       "torch.Size([1, 512, 7, 7])"
      ]
     },
     "execution_count": 74,
     "metadata": {},
     "output_type": "execute_result"
    }
   ],
   "source": [
    "img_f.shape"
   ]
  },
  {
   "cell_type": "code",
   "execution_count": 92,
   "metadata": {},
   "outputs": [
    {
     "data": {
      "text/plain": [
       "torch.Size([1, 15, 512])"
      ]
     },
     "execution_count": 92,
     "metadata": {},
     "output_type": "execute_result"
    }
   ],
   "source": [
    "txt_f.shape"
   ]
  },
  {
   "cell_type": "code",
   "execution_count": 33,
   "metadata": {},
   "outputs": [
    {
     "data": {
      "text/plain": [
       "tensor([[[ 0.2255,  0.0652,  0.1506,  ..., -0.1901,  0.0758, -0.0370],\n",
       "         [ 0.1475,  0.0523, -0.1781,  ...,  0.1769,  0.0440,  0.1491],\n",
       "         [ 0.0141, -0.0928, -0.1884,  ...,  0.1242,  0.0901,  0.3038],\n",
       "         [-0.1803,  0.1246, -0.0498,  ...,  0.1303, -0.0259,  0.1555],\n",
       "         [-0.0028,  0.1073, -0.0575,  ..., -0.0055, -0.0822, -0.0795],\n",
       "         [ 0.0062,  0.0867,  0.0399,  ...,  0.0892,  0.0639,  0.1200]]],\n",
       "       grad_fn=<MulBackward0>)"
      ]
     },
     "execution_count": 33,
     "metadata": {},
     "output_type": "execute_result"
    }
   ],
   "source": [
    "txt_f"
   ]
  },
  {
   "cell_type": "code",
   "execution_count": 36,
   "metadata": {},
   "outputs": [
    {
     "data": {
      "text/plain": [
       "tensor([[ 9.6575e-03,  9.6575e-03,  9.8174e-03,  9.9773e-03,  9.9773e-03,\n",
       "          7.9529e-03,  7.9529e-03,  3.9466e-03, -5.9759e-05, -5.9759e-05,\n",
       "         -8.1935e-04, -8.1935e-04, -3.5958e-03, -6.3722e-03, -6.3722e-03]],\n",
       "       grad_fn=<ViewBackward0>)"
      ]
     },
     "execution_count": 36,
     "metadata": {},
     "output_type": "execute_result"
    }
   ],
   "source": [
    "ap =  nn.AdaptiveAvgPool2d((15,1))\n",
    "out = ap(txt_f)\n",
    "#out.squeeze(1)\n",
    "out.view(out.size(0), -1)"
   ]
  },
  {
   "cell_type": "code",
   "execution_count": 87,
   "metadata": {},
   "outputs": [
    {
     "data": {
      "text/plain": [
       "torch.Size([1, 15, 512])"
      ]
     },
     "execution_count": 87,
     "metadata": {},
     "output_type": "execute_result"
    }
   ],
   "source": [
    "txt_f.shape"
   ]
  },
  {
   "cell_type": "code",
   "execution_count": 20,
   "metadata": {},
   "outputs": [
    {
     "data": {
      "text/plain": [
       "MultiheadAttention(\n",
       "  (out_proj): NonDynamicallyQuantizableLinear(in_features=512, out_features=512, bias=True)\n",
       ")"
      ]
     },
     "execution_count": 20,
     "metadata": {},
     "output_type": "execute_result"
    }
   ],
   "source": [
    "mha_layer = torch.nn.MultiheadAttention(embed_dim=512, kdim=512, vdim=512, num_heads=1, batch_first=True)\n",
    "mha_layer"
   ]
  },
  {
   "cell_type": "code",
   "execution_count": 65,
   "metadata": {},
   "outputs": [
    {
     "ename": "AssertionError",
     "evalue": "For unbatched (2-D) `query`, expected `key` and `value` to be 2-D but found 3-D and 3-D tensors respectively",
     "output_type": "error",
     "traceback": [
      "\u001b[0;31m---------------------------------------------------------------------------\u001b[0m",
      "\u001b[0;31mAssertionError\u001b[0m                            Traceback (most recent call last)",
      "Cell \u001b[0;32mIn[65], line 1\u001b[0m\n\u001b[0;32m----> 1\u001b[0m mha_layer(txt_f[\u001b[39m0\u001b[39;49m], img_f[\u001b[39m0\u001b[39;49m], img_f[\u001b[39m0\u001b[39;49m])[\u001b[39m0\u001b[39m]\u001b[39m.\u001b[39mshape\n",
      "File \u001b[0;32m~/miniconda3/envs/mm-cot/lib/python3.10/site-packages/torch/nn/modules/module.py:1501\u001b[0m, in \u001b[0;36mModule._call_impl\u001b[0;34m(self, *args, **kwargs)\u001b[0m\n\u001b[1;32m   1496\u001b[0m \u001b[39m# If we don't have any hooks, we want to skip the rest of the logic in\u001b[39;00m\n\u001b[1;32m   1497\u001b[0m \u001b[39m# this function, and just call forward.\u001b[39;00m\n\u001b[1;32m   1498\u001b[0m \u001b[39mif\u001b[39;00m \u001b[39mnot\u001b[39;00m (\u001b[39mself\u001b[39m\u001b[39m.\u001b[39m_backward_hooks \u001b[39mor\u001b[39;00m \u001b[39mself\u001b[39m\u001b[39m.\u001b[39m_backward_pre_hooks \u001b[39mor\u001b[39;00m \u001b[39mself\u001b[39m\u001b[39m.\u001b[39m_forward_hooks \u001b[39mor\u001b[39;00m \u001b[39mself\u001b[39m\u001b[39m.\u001b[39m_forward_pre_hooks\n\u001b[1;32m   1499\u001b[0m         \u001b[39mor\u001b[39;00m _global_backward_pre_hooks \u001b[39mor\u001b[39;00m _global_backward_hooks\n\u001b[1;32m   1500\u001b[0m         \u001b[39mor\u001b[39;00m _global_forward_hooks \u001b[39mor\u001b[39;00m _global_forward_pre_hooks):\n\u001b[0;32m-> 1501\u001b[0m     \u001b[39mreturn\u001b[39;00m forward_call(\u001b[39m*\u001b[39;49margs, \u001b[39m*\u001b[39;49m\u001b[39m*\u001b[39;49mkwargs)\n\u001b[1;32m   1502\u001b[0m \u001b[39m# Do not call functions when jit is used\u001b[39;00m\n\u001b[1;32m   1503\u001b[0m full_backward_hooks, non_full_backward_hooks \u001b[39m=\u001b[39m [], []\n",
      "File \u001b[0;32m~/miniconda3/envs/mm-cot/lib/python3.10/site-packages/torch/nn/modules/activation.py:1205\u001b[0m, in \u001b[0;36mMultiheadAttention.forward\u001b[0;34m(self, query, key, value, key_padding_mask, need_weights, attn_mask, average_attn_weights, is_causal)\u001b[0m\n\u001b[1;32m   1191\u001b[0m     attn_output, attn_output_weights \u001b[39m=\u001b[39m F\u001b[39m.\u001b[39mmulti_head_attention_forward(\n\u001b[1;32m   1192\u001b[0m         query, key, value, \u001b[39mself\u001b[39m\u001b[39m.\u001b[39membed_dim, \u001b[39mself\u001b[39m\u001b[39m.\u001b[39mnum_heads,\n\u001b[1;32m   1193\u001b[0m         \u001b[39mself\u001b[39m\u001b[39m.\u001b[39min_proj_weight, \u001b[39mself\u001b[39m\u001b[39m.\u001b[39min_proj_bias,\n\u001b[0;32m   (...)\u001b[0m\n\u001b[1;32m   1202\u001b[0m         average_attn_weights\u001b[39m=\u001b[39maverage_attn_weights,\n\u001b[1;32m   1203\u001b[0m         is_causal\u001b[39m=\u001b[39mis_causal)\n\u001b[1;32m   1204\u001b[0m \u001b[39melse\u001b[39;00m:\n\u001b[0;32m-> 1205\u001b[0m     attn_output, attn_output_weights \u001b[39m=\u001b[39m F\u001b[39m.\u001b[39;49mmulti_head_attention_forward(\n\u001b[1;32m   1206\u001b[0m         query, key, value, \u001b[39mself\u001b[39;49m\u001b[39m.\u001b[39;49membed_dim, \u001b[39mself\u001b[39;49m\u001b[39m.\u001b[39;49mnum_heads,\n\u001b[1;32m   1207\u001b[0m         \u001b[39mself\u001b[39;49m\u001b[39m.\u001b[39;49min_proj_weight, \u001b[39mself\u001b[39;49m\u001b[39m.\u001b[39;49min_proj_bias,\n\u001b[1;32m   1208\u001b[0m         \u001b[39mself\u001b[39;49m\u001b[39m.\u001b[39;49mbias_k, \u001b[39mself\u001b[39;49m\u001b[39m.\u001b[39;49mbias_v, \u001b[39mself\u001b[39;49m\u001b[39m.\u001b[39;49madd_zero_attn,\n\u001b[1;32m   1209\u001b[0m         \u001b[39mself\u001b[39;49m\u001b[39m.\u001b[39;49mdropout, \u001b[39mself\u001b[39;49m\u001b[39m.\u001b[39;49mout_proj\u001b[39m.\u001b[39;49mweight, \u001b[39mself\u001b[39;49m\u001b[39m.\u001b[39;49mout_proj\u001b[39m.\u001b[39;49mbias,\n\u001b[1;32m   1210\u001b[0m         training\u001b[39m=\u001b[39;49m\u001b[39mself\u001b[39;49m\u001b[39m.\u001b[39;49mtraining,\n\u001b[1;32m   1211\u001b[0m         key_padding_mask\u001b[39m=\u001b[39;49mkey_padding_mask,\n\u001b[1;32m   1212\u001b[0m         need_weights\u001b[39m=\u001b[39;49mneed_weights,\n\u001b[1;32m   1213\u001b[0m         attn_mask\u001b[39m=\u001b[39;49mattn_mask,\n\u001b[1;32m   1214\u001b[0m         average_attn_weights\u001b[39m=\u001b[39;49maverage_attn_weights,\n\u001b[1;32m   1215\u001b[0m         is_causal\u001b[39m=\u001b[39;49mis_causal)\n\u001b[1;32m   1216\u001b[0m \u001b[39mif\u001b[39;00m \u001b[39mself\u001b[39m\u001b[39m.\u001b[39mbatch_first \u001b[39mand\u001b[39;00m is_batched:\n\u001b[1;32m   1217\u001b[0m     \u001b[39mreturn\u001b[39;00m attn_output\u001b[39m.\u001b[39mtranspose(\u001b[39m1\u001b[39m, \u001b[39m0\u001b[39m), attn_output_weights\n",
      "File \u001b[0;32m~/miniconda3/envs/mm-cot/lib/python3.10/site-packages/torch/nn/functional.py:5150\u001b[0m, in \u001b[0;36mmulti_head_attention_forward\u001b[0;34m(query, key, value, embed_dim_to_check, num_heads, in_proj_weight, in_proj_bias, bias_k, bias_v, add_zero_attn, dropout_p, out_proj_weight, out_proj_bias, training, key_padding_mask, need_weights, attn_mask, use_separate_proj_weight, q_proj_weight, k_proj_weight, v_proj_weight, static_k, static_v, average_attn_weights, is_causal)\u001b[0m\n\u001b[1;32m   5119\u001b[0m \u001b[39mif\u001b[39;00m has_torch_function(tens_ops):\n\u001b[1;32m   5120\u001b[0m     \u001b[39mreturn\u001b[39;00m handle_torch_function(\n\u001b[1;32m   5121\u001b[0m         multi_head_attention_forward,\n\u001b[1;32m   5122\u001b[0m         tens_ops,\n\u001b[0;32m   (...)\u001b[0m\n\u001b[1;32m   5147\u001b[0m         average_attn_weights\u001b[39m=\u001b[39maverage_attn_weights,\n\u001b[1;32m   5148\u001b[0m     )\n\u001b[0;32m-> 5150\u001b[0m is_batched \u001b[39m=\u001b[39m _mha_shape_check(query, key, value, key_padding_mask, attn_mask, num_heads)\n\u001b[1;32m   5152\u001b[0m \u001b[39m# For unbatched input, we unsqueeze at the expected batch-dim to pretend that the input\u001b[39;00m\n\u001b[1;32m   5153\u001b[0m \u001b[39m# is batched, run the computation and before returning squeeze the\u001b[39;00m\n\u001b[1;32m   5154\u001b[0m \u001b[39m# batch dimension so that the output doesn't carry this temporary batch dimension.\u001b[39;00m\n\u001b[1;32m   5155\u001b[0m \u001b[39mif\u001b[39;00m \u001b[39mnot\u001b[39;00m is_batched:\n\u001b[1;32m   5156\u001b[0m     \u001b[39m# unsqueeze if the input is unbatched\u001b[39;00m\n",
      "File \u001b[0;32m~/miniconda3/envs/mm-cot/lib/python3.10/site-packages/torch/nn/functional.py:4959\u001b[0m, in \u001b[0;36m_mha_shape_check\u001b[0;34m(query, key, value, key_padding_mask, attn_mask, num_heads)\u001b[0m\n\u001b[1;32m   4956\u001b[0m \u001b[39melif\u001b[39;00m query\u001b[39m.\u001b[39mdim() \u001b[39m==\u001b[39m \u001b[39m2\u001b[39m:\n\u001b[1;32m   4957\u001b[0m     \u001b[39m# Unbatched Inputs\u001b[39;00m\n\u001b[1;32m   4958\u001b[0m     is_batched \u001b[39m=\u001b[39m \u001b[39mFalse\u001b[39;00m\n\u001b[0;32m-> 4959\u001b[0m     \u001b[39massert\u001b[39;00m key\u001b[39m.\u001b[39mdim() \u001b[39m==\u001b[39m \u001b[39m2\u001b[39m \u001b[39mand\u001b[39;00m value\u001b[39m.\u001b[39mdim() \u001b[39m==\u001b[39m \u001b[39m2\u001b[39m, \\\n\u001b[1;32m   4960\u001b[0m         (\u001b[39m\"\u001b[39m\u001b[39mFor unbatched (2-D) `query`, expected `key` and `value` to be 2-D\u001b[39m\u001b[39m\"\u001b[39m\n\u001b[1;32m   4961\u001b[0m          \u001b[39mf\u001b[39m\u001b[39m\"\u001b[39m\u001b[39m but found \u001b[39m\u001b[39m{\u001b[39;00mkey\u001b[39m.\u001b[39mdim()\u001b[39m}\u001b[39;00m\u001b[39m-D and \u001b[39m\u001b[39m{\u001b[39;00mvalue\u001b[39m.\u001b[39mdim()\u001b[39m}\u001b[39;00m\u001b[39m-D tensors respectively\u001b[39m\u001b[39m\"\u001b[39m)\n\u001b[1;32m   4963\u001b[0m     \u001b[39mif\u001b[39;00m key_padding_mask \u001b[39mis\u001b[39;00m \u001b[39mnot\u001b[39;00m \u001b[39mNone\u001b[39;00m:\n\u001b[1;32m   4964\u001b[0m         \u001b[39massert\u001b[39;00m key_padding_mask\u001b[39m.\u001b[39mdim() \u001b[39m==\u001b[39m \u001b[39m1\u001b[39m, \\\n\u001b[1;32m   4965\u001b[0m             (\u001b[39m\"\u001b[39m\u001b[39mFor unbatched (2-D) `query`, expected `key_padding_mask` to be `None` or 1-D\u001b[39m\u001b[39m\"\u001b[39m\n\u001b[1;32m   4966\u001b[0m              \u001b[39mf\u001b[39m\u001b[39m\"\u001b[39m\u001b[39m but found \u001b[39m\u001b[39m{\u001b[39;00mkey_padding_mask\u001b[39m.\u001b[39mdim()\u001b[39m}\u001b[39;00m\u001b[39m-D tensor instead\u001b[39m\u001b[39m\"\u001b[39m)\n",
      "\u001b[0;31mAssertionError\u001b[0m: For unbatched (2-D) `query`, expected `key` and `value` to be 2-D but found 3-D and 3-D tensors respectively"
     ]
    }
   ],
   "source": [
    "mha_layer(txt_f, img_f[0], img_f[0])[0].shape"
   ]
  },
  {
   "cell_type": "code",
   "execution_count": 34,
   "metadata": {},
   "outputs": [
    {
     "data": {
      "text/plain": [
       "tensor([[ 0.2828,  0.0979,  0.1090,  ..., -0.2794,  0.2154,  0.0370],\n",
       "        [ 0.1593,  0.0956, -0.0922,  ...,  0.1854,  0.0993,  0.1548],\n",
       "        [ 0.0076,  0.0090, -0.0092,  ...,  0.0050,  0.0019,  0.0076],\n",
       "        ...,\n",
       "        [-0.0119, -0.1228, -0.0638,  ..., -0.0602, -0.1791, -0.0499],\n",
       "        [-0.0342, -0.0511, -0.1488,  ...,  0.3007, -0.2612, -0.1452],\n",
       "        [ 0.0670,  0.1300, -0.0356,  ..., -0.0100,  0.0690, -0.0531]],\n",
       "       grad_fn=<SelectBackward0>)"
      ]
     },
     "execution_count": 34,
     "metadata": {},
     "output_type": "execute_result"
    }
   ],
   "source": [
    "txt_f[0]"
   ]
  },
  {
   "cell_type": "code",
   "execution_count": 48,
   "metadata": {},
   "outputs": [
    {
     "data": {
      "text/plain": [
       "tensor([[[[0.9468]],\n",
       "\n",
       "         [[0.9852]],\n",
       "\n",
       "         [[0.9406]],\n",
       "\n",
       "         [[1.0701]],\n",
       "\n",
       "         [[0.9411]],\n",
       "\n",
       "         [[0.8921]],\n",
       "\n",
       "         [[0.9035]],\n",
       "\n",
       "         [[1.1344]],\n",
       "\n",
       "         [[0.9856]],\n",
       "\n",
       "         [[0.9036]],\n",
       "\n",
       "         [[0.9532]],\n",
       "\n",
       "         [[0.8886]],\n",
       "\n",
       "         [[0.9423]],\n",
       "\n",
       "         [[0.8917]],\n",
       "\n",
       "         [[0.9379]],\n",
       "\n",
       "         [[0.8813]],\n",
       "\n",
       "         [[0.9250]],\n",
       "\n",
       "         [[1.3573]],\n",
       "\n",
       "         [[0.8902]],\n",
       "\n",
       "         [[0.8618]],\n",
       "\n",
       "         [[0.8848]],\n",
       "\n",
       "         [[1.0986]],\n",
       "\n",
       "         [[0.9600]],\n",
       "\n",
       "         [[1.0011]],\n",
       "\n",
       "         [[0.9570]],\n",
       "\n",
       "         [[0.9523]],\n",
       "\n",
       "         [[0.9507]],\n",
       "\n",
       "         [[1.0058]],\n",
       "\n",
       "         [[0.8336]],\n",
       "\n",
       "         [[0.8517]],\n",
       "\n",
       "         [[0.9002]],\n",
       "\n",
       "         [[0.8090]],\n",
       "\n",
       "         [[0.8568]],\n",
       "\n",
       "         [[0.8888]],\n",
       "\n",
       "         [[0.8820]],\n",
       "\n",
       "         [[0.8262]],\n",
       "\n",
       "         [[0.9753]],\n",
       "\n",
       "         [[0.8944]],\n",
       "\n",
       "         [[0.8922]],\n",
       "\n",
       "         [[0.9346]],\n",
       "\n",
       "         [[0.9222]],\n",
       "\n",
       "         [[0.8337]],\n",
       "\n",
       "         [[0.8195]],\n",
       "\n",
       "         [[0.9401]],\n",
       "\n",
       "         [[0.8373]],\n",
       "\n",
       "         [[0.8863]],\n",
       "\n",
       "         [[0.9676]],\n",
       "\n",
       "         [[1.2915]],\n",
       "\n",
       "         [[0.9784]],\n",
       "\n",
       "         [[0.9165]],\n",
       "\n",
       "         [[0.9580]],\n",
       "\n",
       "         [[0.8797]],\n",
       "\n",
       "         [[0.9343]],\n",
       "\n",
       "         [[0.8186]],\n",
       "\n",
       "         [[0.9314]],\n",
       "\n",
       "         [[0.9280]],\n",
       "\n",
       "         [[1.0505]],\n",
       "\n",
       "         [[0.9709]],\n",
       "\n",
       "         [[0.9459]],\n",
       "\n",
       "         [[0.9678]],\n",
       "\n",
       "         [[0.9249]],\n",
       "\n",
       "         [[0.9466]],\n",
       "\n",
       "         [[0.9501]],\n",
       "\n",
       "         [[0.8430]],\n",
       "\n",
       "         [[0.8923]],\n",
       "\n",
       "         [[1.0638]],\n",
       "\n",
       "         [[0.8546]],\n",
       "\n",
       "         [[0.9197]],\n",
       "\n",
       "         [[0.9772]],\n",
       "\n",
       "         [[0.8329]],\n",
       "\n",
       "         [[0.9432]],\n",
       "\n",
       "         [[0.9083]],\n",
       "\n",
       "         [[0.9136]],\n",
       "\n",
       "         [[0.9081]],\n",
       "\n",
       "         [[0.9252]],\n",
       "\n",
       "         [[0.8644]],\n",
       "\n",
       "         [[0.8792]],\n",
       "\n",
       "         [[0.9043]],\n",
       "\n",
       "         [[0.8752]],\n",
       "\n",
       "         [[0.8392]],\n",
       "\n",
       "         [[0.9412]],\n",
       "\n",
       "         [[0.9814]],\n",
       "\n",
       "         [[0.9461]],\n",
       "\n",
       "         [[1.2162]],\n",
       "\n",
       "         [[0.8560]],\n",
       "\n",
       "         [[0.7833]],\n",
       "\n",
       "         [[0.8578]],\n",
       "\n",
       "         [[0.8609]],\n",
       "\n",
       "         [[0.9431]],\n",
       "\n",
       "         [[0.8859]],\n",
       "\n",
       "         [[0.8361]],\n",
       "\n",
       "         [[0.9805]],\n",
       "\n",
       "         [[0.8506]],\n",
       "\n",
       "         [[0.9188]],\n",
       "\n",
       "         [[0.8637]],\n",
       "\n",
       "         [[0.8523]],\n",
       "\n",
       "         [[0.9588]],\n",
       "\n",
       "         [[0.9226]],\n",
       "\n",
       "         [[0.8354]],\n",
       "\n",
       "         [[0.9170]],\n",
       "\n",
       "         [[0.9521]],\n",
       "\n",
       "         [[0.9718]],\n",
       "\n",
       "         [[0.9836]],\n",
       "\n",
       "         [[0.9763]],\n",
       "\n",
       "         [[0.9002]],\n",
       "\n",
       "         [[0.8528]],\n",
       "\n",
       "         [[0.8589]],\n",
       "\n",
       "         [[0.8718]],\n",
       "\n",
       "         [[0.8255]],\n",
       "\n",
       "         [[1.0330]],\n",
       "\n",
       "         [[0.9532]],\n",
       "\n",
       "         [[0.9204]],\n",
       "\n",
       "         [[0.9254]],\n",
       "\n",
       "         [[0.8539]],\n",
       "\n",
       "         [[0.9573]],\n",
       "\n",
       "         [[0.9930]],\n",
       "\n",
       "         [[0.8718]],\n",
       "\n",
       "         [[0.9822]],\n",
       "\n",
       "         [[0.9988]],\n",
       "\n",
       "         [[0.9457]],\n",
       "\n",
       "         [[0.9947]],\n",
       "\n",
       "         [[0.9482]],\n",
       "\n",
       "         [[0.8825]],\n",
       "\n",
       "         [[0.8971]],\n",
       "\n",
       "         [[0.9402]],\n",
       "\n",
       "         [[0.8728]],\n",
       "\n",
       "         [[0.8423]],\n",
       "\n",
       "         [[0.9591]],\n",
       "\n",
       "         [[0.9117]],\n",
       "\n",
       "         [[0.9833]],\n",
       "\n",
       "         [[0.8936]],\n",
       "\n",
       "         [[0.9042]],\n",
       "\n",
       "         [[0.8185]],\n",
       "\n",
       "         [[0.8848]],\n",
       "\n",
       "         [[1.0018]],\n",
       "\n",
       "         [[1.0866]],\n",
       "\n",
       "         [[0.8396]],\n",
       "\n",
       "         [[0.9869]],\n",
       "\n",
       "         [[0.9472]],\n",
       "\n",
       "         [[0.8522]],\n",
       "\n",
       "         [[0.8906]],\n",
       "\n",
       "         [[0.8610]],\n",
       "\n",
       "         [[0.9723]],\n",
       "\n",
       "         [[0.9994]],\n",
       "\n",
       "         [[0.9140]],\n",
       "\n",
       "         [[0.8411]],\n",
       "\n",
       "         [[0.8758]],\n",
       "\n",
       "         [[1.0179]],\n",
       "\n",
       "         [[0.8614]],\n",
       "\n",
       "         [[1.0631]],\n",
       "\n",
       "         [[0.8757]],\n",
       "\n",
       "         [[0.8338]],\n",
       "\n",
       "         [[0.7994]],\n",
       "\n",
       "         [[0.9159]],\n",
       "\n",
       "         [[0.8687]],\n",
       "\n",
       "         [[0.9086]],\n",
       "\n",
       "         [[0.9023]],\n",
       "\n",
       "         [[0.9564]],\n",
       "\n",
       "         [[0.8940]],\n",
       "\n",
       "         [[0.8966]],\n",
       "\n",
       "         [[0.9015]],\n",
       "\n",
       "         [[1.1825]],\n",
       "\n",
       "         [[0.9168]],\n",
       "\n",
       "         [[1.3729]],\n",
       "\n",
       "         [[1.0047]],\n",
       "\n",
       "         [[0.9193]],\n",
       "\n",
       "         [[0.9834]],\n",
       "\n",
       "         [[0.9530]],\n",
       "\n",
       "         [[0.9184]],\n",
       "\n",
       "         [[0.9429]],\n",
       "\n",
       "         [[0.9137]],\n",
       "\n",
       "         [[0.8883]],\n",
       "\n",
       "         [[0.8719]],\n",
       "\n",
       "         [[0.8788]],\n",
       "\n",
       "         [[0.9082]],\n",
       "\n",
       "         [[0.9948]],\n",
       "\n",
       "         [[0.9274]],\n",
       "\n",
       "         [[0.8820]],\n",
       "\n",
       "         [[1.0528]],\n",
       "\n",
       "         [[0.8389]],\n",
       "\n",
       "         [[0.8985]],\n",
       "\n",
       "         [[0.9138]],\n",
       "\n",
       "         [[1.3354]],\n",
       "\n",
       "         [[0.9058]],\n",
       "\n",
       "         [[0.9738]],\n",
       "\n",
       "         [[0.9850]],\n",
       "\n",
       "         [[0.8889]],\n",
       "\n",
       "         [[1.0256]],\n",
       "\n",
       "         [[0.9161]],\n",
       "\n",
       "         [[1.0063]],\n",
       "\n",
       "         [[0.9015]],\n",
       "\n",
       "         [[0.9199]],\n",
       "\n",
       "         [[0.9255]],\n",
       "\n",
       "         [[1.0608]],\n",
       "\n",
       "         [[0.9193]],\n",
       "\n",
       "         [[0.8996]],\n",
       "\n",
       "         [[0.9338]],\n",
       "\n",
       "         [[0.7878]],\n",
       "\n",
       "         [[0.9803]],\n",
       "\n",
       "         [[0.8448]],\n",
       "\n",
       "         [[0.8910]],\n",
       "\n",
       "         [[0.9345]],\n",
       "\n",
       "         [[1.0626]],\n",
       "\n",
       "         [[0.8277]],\n",
       "\n",
       "         [[1.0249]],\n",
       "\n",
       "         [[0.9833]],\n",
       "\n",
       "         [[0.8953]],\n",
       "\n",
       "         [[0.7829]],\n",
       "\n",
       "         [[0.9808]],\n",
       "\n",
       "         [[1.0525]],\n",
       "\n",
       "         [[0.8870]],\n",
       "\n",
       "         [[0.8626]],\n",
       "\n",
       "         [[0.8662]],\n",
       "\n",
       "         [[0.9637]],\n",
       "\n",
       "         [[0.9669]],\n",
       "\n",
       "         [[0.8508]],\n",
       "\n",
       "         [[0.9674]],\n",
       "\n",
       "         [[0.9087]],\n",
       "\n",
       "         [[0.9056]],\n",
       "\n",
       "         [[0.9989]],\n",
       "\n",
       "         [[0.9349]],\n",
       "\n",
       "         [[0.9860]],\n",
       "\n",
       "         [[0.8641]],\n",
       "\n",
       "         [[0.7944]],\n",
       "\n",
       "         [[0.9158]],\n",
       "\n",
       "         [[0.7478]],\n",
       "\n",
       "         [[1.0337]],\n",
       "\n",
       "         [[0.9347]],\n",
       "\n",
       "         [[1.0283]],\n",
       "\n",
       "         [[0.9946]],\n",
       "\n",
       "         [[0.9161]],\n",
       "\n",
       "         [[0.9260]],\n",
       "\n",
       "         [[0.8226]],\n",
       "\n",
       "         [[0.9881]],\n",
       "\n",
       "         [[0.8109]],\n",
       "\n",
       "         [[0.9791]],\n",
       "\n",
       "         [[0.9265]],\n",
       "\n",
       "         [[0.9366]],\n",
       "\n",
       "         [[0.9158]],\n",
       "\n",
       "         [[0.9682]],\n",
       "\n",
       "         [[0.8994]],\n",
       "\n",
       "         [[0.9514]],\n",
       "\n",
       "         [[1.0488]],\n",
       "\n",
       "         [[0.8221]],\n",
       "\n",
       "         [[0.8403]],\n",
       "\n",
       "         [[0.9386]],\n",
       "\n",
       "         [[0.9664]],\n",
       "\n",
       "         [[0.9027]],\n",
       "\n",
       "         [[0.9065]],\n",
       "\n",
       "         [[1.0234]],\n",
       "\n",
       "         [[1.1034]],\n",
       "\n",
       "         [[0.9046]],\n",
       "\n",
       "         [[0.9621]],\n",
       "\n",
       "         [[0.9788]],\n",
       "\n",
       "         [[0.9861]],\n",
       "\n",
       "         [[1.2099]],\n",
       "\n",
       "         [[0.8729]],\n",
       "\n",
       "         [[1.0674]],\n",
       "\n",
       "         [[0.9533]],\n",
       "\n",
       "         [[0.9930]],\n",
       "\n",
       "         [[0.9402]],\n",
       "\n",
       "         [[0.9117]],\n",
       "\n",
       "         [[0.9293]],\n",
       "\n",
       "         [[0.9437]],\n",
       "\n",
       "         [[0.9223]],\n",
       "\n",
       "         [[0.9564]],\n",
       "\n",
       "         [[0.9351]],\n",
       "\n",
       "         [[0.8925]],\n",
       "\n",
       "         [[0.8879]],\n",
       "\n",
       "         [[0.9618]],\n",
       "\n",
       "         [[0.8901]],\n",
       "\n",
       "         [[0.8907]],\n",
       "\n",
       "         [[0.9661]],\n",
       "\n",
       "         [[0.8974]],\n",
       "\n",
       "         [[0.8912]],\n",
       "\n",
       "         [[0.9120]],\n",
       "\n",
       "         [[0.9604]],\n",
       "\n",
       "         [[0.9585]],\n",
       "\n",
       "         [[0.9730]],\n",
       "\n",
       "         [[0.8884]],\n",
       "\n",
       "         [[1.2626]],\n",
       "\n",
       "         [[0.8986]],\n",
       "\n",
       "         [[0.8833]],\n",
       "\n",
       "         [[0.9728]],\n",
       "\n",
       "         [[0.9464]],\n",
       "\n",
       "         [[0.8317]],\n",
       "\n",
       "         [[0.8735]],\n",
       "\n",
       "         [[0.8742]],\n",
       "\n",
       "         [[0.9280]],\n",
       "\n",
       "         [[0.8593]],\n",
       "\n",
       "         [[0.9123]],\n",
       "\n",
       "         [[0.9372]],\n",
       "\n",
       "         [[0.8905]],\n",
       "\n",
       "         [[0.9153]],\n",
       "\n",
       "         [[0.9379]],\n",
       "\n",
       "         [[0.8922]],\n",
       "\n",
       "         [[0.9063]],\n",
       "\n",
       "         [[1.1380]],\n",
       "\n",
       "         [[0.8599]],\n",
       "\n",
       "         [[0.8841]],\n",
       "\n",
       "         [[0.8475]],\n",
       "\n",
       "         [[0.9051]],\n",
       "\n",
       "         [[0.8828]],\n",
       "\n",
       "         [[0.8924]],\n",
       "\n",
       "         [[1.0969]],\n",
       "\n",
       "         [[0.9135]],\n",
       "\n",
       "         [[0.9252]],\n",
       "\n",
       "         [[0.9229]],\n",
       "\n",
       "         [[0.8559]],\n",
       "\n",
       "         [[0.9383]],\n",
       "\n",
       "         [[1.0599]],\n",
       "\n",
       "         [[0.9634]],\n",
       "\n",
       "         [[1.1239]],\n",
       "\n",
       "         [[0.8806]],\n",
       "\n",
       "         [[0.8625]],\n",
       "\n",
       "         [[0.9329]],\n",
       "\n",
       "         [[0.9599]],\n",
       "\n",
       "         [[0.9117]],\n",
       "\n",
       "         [[1.0461]],\n",
       "\n",
       "         [[0.9403]],\n",
       "\n",
       "         [[0.8452]],\n",
       "\n",
       "         [[0.9928]],\n",
       "\n",
       "         [[0.9416]],\n",
       "\n",
       "         [[0.8849]],\n",
       "\n",
       "         [[0.9245]],\n",
       "\n",
       "         [[0.8975]],\n",
       "\n",
       "         [[0.9402]],\n",
       "\n",
       "         [[0.8750]],\n",
       "\n",
       "         [[0.8897]],\n",
       "\n",
       "         [[0.8275]],\n",
       "\n",
       "         [[0.9514]],\n",
       "\n",
       "         [[1.0180]],\n",
       "\n",
       "         [[1.0350]],\n",
       "\n",
       "         [[0.9226]],\n",
       "\n",
       "         [[0.8698]],\n",
       "\n",
       "         [[0.9083]],\n",
       "\n",
       "         [[1.0373]],\n",
       "\n",
       "         [[0.9462]],\n",
       "\n",
       "         [[1.0450]],\n",
       "\n",
       "         [[0.9224]],\n",
       "\n",
       "         [[0.8133]],\n",
       "\n",
       "         [[0.9397]],\n",
       "\n",
       "         [[0.9206]],\n",
       "\n",
       "         [[1.0653]],\n",
       "\n",
       "         [[0.8828]],\n",
       "\n",
       "         [[0.9147]],\n",
       "\n",
       "         [[0.9275]],\n",
       "\n",
       "         [[0.8838]],\n",
       "\n",
       "         [[0.8673]],\n",
       "\n",
       "         [[0.9595]],\n",
       "\n",
       "         [[0.9209]],\n",
       "\n",
       "         [[0.9310]],\n",
       "\n",
       "         [[0.8570]],\n",
       "\n",
       "         [[0.8709]],\n",
       "\n",
       "         [[0.9149]],\n",
       "\n",
       "         [[0.8224]],\n",
       "\n",
       "         [[0.9127]],\n",
       "\n",
       "         [[0.9843]],\n",
       "\n",
       "         [[0.8483]],\n",
       "\n",
       "         [[0.8280]],\n",
       "\n",
       "         [[0.9306]],\n",
       "\n",
       "         [[0.8900]],\n",
       "\n",
       "         [[0.9268]],\n",
       "\n",
       "         [[0.8939]],\n",
       "\n",
       "         [[1.1007]],\n",
       "\n",
       "         [[0.8904]],\n",
       "\n",
       "         [[1.0246]],\n",
       "\n",
       "         [[0.9461]],\n",
       "\n",
       "         [[0.9988]],\n",
       "\n",
       "         [[0.8740]],\n",
       "\n",
       "         [[1.0373]],\n",
       "\n",
       "         [[0.8110]],\n",
       "\n",
       "         [[0.8805]],\n",
       "\n",
       "         [[0.9136]],\n",
       "\n",
       "         [[0.9254]],\n",
       "\n",
       "         [[0.9897]],\n",
       "\n",
       "         [[0.9208]],\n",
       "\n",
       "         [[0.9520]],\n",
       "\n",
       "         [[1.0391]],\n",
       "\n",
       "         [[0.9028]],\n",
       "\n",
       "         [[1.0403]],\n",
       "\n",
       "         [[0.8906]],\n",
       "\n",
       "         [[1.0686]],\n",
       "\n",
       "         [[0.8767]],\n",
       "\n",
       "         [[1.0048]],\n",
       "\n",
       "         [[0.9213]],\n",
       "\n",
       "         [[0.8863]],\n",
       "\n",
       "         [[1.0019]],\n",
       "\n",
       "         [[0.8921]],\n",
       "\n",
       "         [[0.9969]],\n",
       "\n",
       "         [[0.9318]],\n",
       "\n",
       "         [[0.9638]],\n",
       "\n",
       "         [[0.8104]],\n",
       "\n",
       "         [[0.9124]],\n",
       "\n",
       "         [[1.0317]],\n",
       "\n",
       "         [[0.9537]],\n",
       "\n",
       "         [[0.8113]],\n",
       "\n",
       "         [[0.8930]],\n",
       "\n",
       "         [[0.8167]],\n",
       "\n",
       "         [[0.9813]],\n",
       "\n",
       "         [[1.0705]],\n",
       "\n",
       "         [[1.0719]],\n",
       "\n",
       "         [[0.8100]],\n",
       "\n",
       "         [[0.8825]],\n",
       "\n",
       "         [[1.0508]],\n",
       "\n",
       "         [[0.8831]],\n",
       "\n",
       "         [[0.8721]],\n",
       "\n",
       "         [[0.8832]],\n",
       "\n",
       "         [[0.9023]],\n",
       "\n",
       "         [[0.8809]],\n",
       "\n",
       "         [[0.9539]],\n",
       "\n",
       "         [[0.9656]],\n",
       "\n",
       "         [[0.9067]],\n",
       "\n",
       "         [[0.8757]],\n",
       "\n",
       "         [[0.9384]],\n",
       "\n",
       "         [[1.0354]],\n",
       "\n",
       "         [[0.8924]],\n",
       "\n",
       "         [[0.9201]],\n",
       "\n",
       "         [[0.8345]],\n",
       "\n",
       "         [[0.9122]],\n",
       "\n",
       "         [[0.8366]],\n",
       "\n",
       "         [[0.9495]],\n",
       "\n",
       "         [[1.0292]],\n",
       "\n",
       "         [[0.8824]],\n",
       "\n",
       "         [[1.0354]],\n",
       "\n",
       "         [[0.9943]],\n",
       "\n",
       "         [[1.0170]],\n",
       "\n",
       "         [[1.0732]],\n",
       "\n",
       "         [[0.9215]],\n",
       "\n",
       "         [[0.9556]],\n",
       "\n",
       "         [[0.8921]],\n",
       "\n",
       "         [[0.9492]],\n",
       "\n",
       "         [[0.8340]],\n",
       "\n",
       "         [[0.9069]],\n",
       "\n",
       "         [[0.9476]],\n",
       "\n",
       "         [[1.1899]],\n",
       "\n",
       "         [[0.9557]],\n",
       "\n",
       "         [[0.9999]],\n",
       "\n",
       "         [[0.8668]],\n",
       "\n",
       "         [[0.7625]],\n",
       "\n",
       "         [[0.8853]],\n",
       "\n",
       "         [[0.7951]],\n",
       "\n",
       "         [[0.8598]],\n",
       "\n",
       "         [[0.9420]],\n",
       "\n",
       "         [[1.0244]],\n",
       "\n",
       "         [[0.9285]],\n",
       "\n",
       "         [[0.9481]],\n",
       "\n",
       "         [[0.9466]],\n",
       "\n",
       "         [[0.9883]],\n",
       "\n",
       "         [[0.9368]],\n",
       "\n",
       "         [[0.9360]],\n",
       "\n",
       "         [[0.9499]],\n",
       "\n",
       "         [[1.0212]],\n",
       "\n",
       "         [[0.9192]],\n",
       "\n",
       "         [[0.8606]],\n",
       "\n",
       "         [[0.7895]],\n",
       "\n",
       "         [[0.9601]],\n",
       "\n",
       "         [[0.9973]],\n",
       "\n",
       "         [[1.0022]],\n",
       "\n",
       "         [[0.8937]],\n",
       "\n",
       "         [[1.1352]],\n",
       "\n",
       "         [[0.9630]],\n",
       "\n",
       "         [[0.9550]],\n",
       "\n",
       "         [[0.8366]],\n",
       "\n",
       "         [[0.9493]],\n",
       "\n",
       "         [[0.8971]],\n",
       "\n",
       "         [[0.9270]],\n",
       "\n",
       "         [[0.8703]],\n",
       "\n",
       "         [[1.0167]],\n",
       "\n",
       "         [[0.9509]],\n",
       "\n",
       "         [[0.9629]],\n",
       "\n",
       "         [[0.9533]],\n",
       "\n",
       "         [[0.9646]],\n",
       "\n",
       "         [[0.8647]],\n",
       "\n",
       "         [[0.9078]],\n",
       "\n",
       "         [[0.8631]],\n",
       "\n",
       "         [[0.9400]],\n",
       "\n",
       "         [[0.8584]],\n",
       "\n",
       "         [[0.9093]],\n",
       "\n",
       "         [[0.8824]],\n",
       "\n",
       "         [[0.9194]],\n",
       "\n",
       "         [[0.9463]],\n",
       "\n",
       "         [[0.8437]],\n",
       "\n",
       "         [[0.8685]],\n",
       "\n",
       "         [[1.0933]],\n",
       "\n",
       "         [[0.9924]],\n",
       "\n",
       "         [[0.9689]],\n",
       "\n",
       "         [[0.9869]],\n",
       "\n",
       "         [[1.1365]],\n",
       "\n",
       "         [[0.8558]],\n",
       "\n",
       "         [[0.9756]],\n",
       "\n",
       "         [[0.9995]],\n",
       "\n",
       "         [[0.9803]],\n",
       "\n",
       "         [[0.8289]],\n",
       "\n",
       "         [[0.8350]],\n",
       "\n",
       "         [[0.8871]],\n",
       "\n",
       "         [[0.8995]],\n",
       "\n",
       "         [[0.9112]],\n",
       "\n",
       "         [[0.9309]],\n",
       "\n",
       "         [[0.9140]],\n",
       "\n",
       "         [[0.9478]],\n",
       "\n",
       "         [[0.8460]],\n",
       "\n",
       "         [[0.8701]],\n",
       "\n",
       "         [[0.8689]],\n",
       "\n",
       "         [[0.8557]],\n",
       "\n",
       "         [[0.8453]],\n",
       "\n",
       "         [[1.1456]],\n",
       "\n",
       "         [[1.0272]],\n",
       "\n",
       "         [[0.9279]],\n",
       "\n",
       "         [[0.9045]],\n",
       "\n",
       "         [[1.0873]],\n",
       "\n",
       "         [[0.9379]]]], grad_fn=<MeanBackward1>)"
      ]
     },
     "execution_count": 48,
     "metadata": {},
     "output_type": "execute_result"
    }
   ],
   "source": [
    "img_f"
   ]
  },
  {
   "cell_type": "code",
   "execution_count": 160,
   "metadata": {},
   "outputs": [
    {
     "data": {
      "text/plain": [
       "tensor([[6536,   43,  118, 2008,   24,  293,   53,    3,    9, 1782,   19,  207,\n",
       "           21,   25,    1]])"
      ]
     },
     "execution_count": 160,
     "metadata": {},
     "output_type": "execute_result"
    }
   ],
   "source": [
    "input_ids"
   ]
  },
  {
   "cell_type": "code",
   "execution_count": 161,
   "metadata": {},
   "outputs": [
    {
     "data": {
      "text/plain": [
       "tensor([0])"
      ]
     },
     "execution_count": 161,
     "metadata": {},
     "output_type": "execute_result"
    }
   ],
   "source": [
    "\n",
    "input_ids.argmax(dim=-1)"
   ]
  },
  {
   "cell_type": "code",
   "execution_count": 162,
   "metadata": {},
   "outputs": [
    {
     "data": {
      "text/plain": [
       "tensor([0])"
      ]
     },
     "execution_count": 162,
     "metadata": {},
     "output_type": "execute_result"
    }
   ],
   "source": [
    "torch.arange(txt_f.shape[0])"
   ]
  },
  {
   "cell_type": "code",
   "execution_count": 16,
   "metadata": {},
   "outputs": [
    {
     "data": {
      "text/plain": [
       "torch.Size([1, 15, 512])"
      ]
     },
     "execution_count": 16,
     "metadata": {},
     "output_type": "execute_result"
    }
   ],
   "source": [
    "txt_f.shape"
   ]
  },
  {
   "cell_type": "code",
   "execution_count": 125,
   "metadata": {},
   "outputs": [
    {
     "data": {
      "text/plain": [
       "tensor([[ 2.8280e-01,  9.7876e-02,  1.0901e-01, -2.0035e-01,  1.1355e-01,\n",
       "         -8.9617e-02,  1.0226e-01, -2.5871e-01, -4.3727e-02, -2.5107e-02,\n",
       "         -3.2771e-01, -2.9573e-02, -2.6875e-01, -4.6916e-01, -3.3881e-01,\n",
       "         -3.1448e-01, -2.8099e-02,  9.9633e-02,  1.7431e-01, -2.1637e-01,\n",
       "         -1.9579e-01, -5.1583e-02,  6.3871e-02, -1.3357e-01,  5.3117e-01,\n",
       "          2.2738e-01, -8.4225e-02, -6.7732e-03,  2.8944e-01, -1.3994e-01,\n",
       "          2.8164e-01, -8.4062e-02,  1.9829e-02,  2.3901e-01, -2.7515e-01,\n",
       "          1.3922e-03, -2.0870e-01,  7.4198e-02, -1.5404e-01, -4.6564e-02,\n",
       "         -1.1982e-01,  2.2070e-01,  2.9698e-01, -1.0742e-01,  1.2926e-02,\n",
       "          1.0556e-02, -6.9579e-03,  4.8357e-02, -6.1886e-02,  9.5232e-03,\n",
       "          5.4959e-02,  1.5862e-02, -2.5529e-02, -1.1814e-01, -3.4588e-03,\n",
       "          1.0061e-03, -1.4248e-01, -1.4090e-01, -1.8485e-01,  2.2253e-02,\n",
       "          1.5754e-02,  7.5149e-02,  4.1756e-01,  2.3029e-01, -2.3220e-01,\n",
       "         -1.0767e-02, -2.5632e-02,  4.6343e-02, -3.0759e-01,  1.9394e-01,\n",
       "          6.8665e-02, -9.0473e-02, -5.4590e-02, -3.9998e-02,  3.3323e-01,\n",
       "         -4.4536e-02,  5.1923e-02,  4.8088e-02,  2.0015e-01, -1.2987e-01,\n",
       "         -3.8725e-02, -7.6281e-03,  2.0984e-01,  3.7039e-01,  3.0151e-01,\n",
       "         -1.1055e-02, -1.1352e-01, -9.9163e-02, -6.4002e-02, -2.5510e-01,\n",
       "          3.1578e-01,  1.6193e-01,  1.2056e-01, -1.0952e-01,  4.1931e-02,\n",
       "          3.1275e-02,  1.3508e-01, -2.2278e-02, -1.9311e-01, -1.7519e-01,\n",
       "          1.0361e-01, -1.2226e-01, -2.7647e-01,  1.8455e-02,  1.4244e-01,\n",
       "          3.9277e-01, -1.7398e-02, -1.5448e-01,  1.2164e-01,  7.2692e-02,\n",
       "         -5.8847e-01,  4.7591e-04, -3.0205e-02,  1.5806e-01, -3.3748e-01,\n",
       "         -1.7116e-01, -3.1161e-01, -1.3036e-01,  1.6838e-01, -2.2817e-01,\n",
       "         -1.0790e-01,  1.3727e-01, -1.6971e-01,  1.8670e-01,  7.4614e-02,\n",
       "         -4.4532e-01,  1.3160e-01,  1.6621e-01,  1.2315e-01, -1.4034e-01,\n",
       "         -3.9245e-03, -1.7236e-02,  4.9008e-02,  2.6086e-02,  4.1904e-03,\n",
       "          1.9817e-01, -7.7308e-02,  9.2499e-02, -3.8693e-01,  1.0090e-01,\n",
       "          8.7203e-02, -4.3090e-01,  2.9647e-03,  1.0289e-01,  2.0639e-01,\n",
       "         -1.3888e-01, -6.3734e-02,  7.7838e-02,  7.1101e-02, -4.4794e-02,\n",
       "          4.3296e-02, -3.0668e-02,  9.8724e-02, -1.1453e-01, -9.6436e-03,\n",
       "          7.6388e-02, -1.3711e-01, -6.7526e-04,  1.5021e-01, -1.6434e-02,\n",
       "          3.3142e-02, -1.4153e-01,  1.4227e-01, -2.2863e-02,  1.3259e-01,\n",
       "         -2.5469e-02, -3.6314e-01,  1.5629e-01,  6.0184e-02,  9.6002e-02,\n",
       "          1.0909e-01, -1.7676e-01,  2.8135e-01,  3.4916e-02,  6.6984e-02,\n",
       "          1.8135e-01, -2.7096e-01,  2.8251e-01, -1.9531e-01, -3.3000e-01,\n",
       "         -2.2860e-02,  3.9120e-02, -1.0547e-01,  8.4270e-03,  8.7163e-02,\n",
       "         -9.6956e-02,  3.3044e-01,  7.6890e-02,  2.2145e-01, -3.3916e-02,\n",
       "          1.0637e-01,  2.5817e-02,  1.9822e-01, -2.5121e-01, -1.3153e-01,\n",
       "         -1.3459e-01, -1.7702e-01,  8.6782e-02,  2.0137e-01, -2.1364e-01,\n",
       "          2.2553e-01, -1.7181e-01,  1.1493e-01,  1.3798e-01, -1.3973e-01,\n",
       "          3.4852e-01,  5.6520e-02,  4.2543e-01, -2.2125e-02,  6.1619e-02,\n",
       "         -3.0733e-01, -9.1575e-02, -1.0060e-01,  8.2780e-02,  1.6114e-01,\n",
       "         -1.1757e-01, -2.6191e-02, -1.8001e-01,  1.4302e-01, -4.7656e-02,\n",
       "         -9.6844e-02, -8.7691e-02,  3.4404e-02, -4.4901e-01, -1.4206e-01,\n",
       "          9.6732e-02, -2.6056e-02,  3.1358e-01,  5.5426e-02, -4.7578e-02,\n",
       "         -2.7177e-01,  3.3049e-01,  1.8122e-01,  1.0801e-01,  1.6893e-03,\n",
       "          1.3083e-02,  9.5411e-02, -2.4670e-01, -2.1990e-01, -1.7580e-01,\n",
       "         -1.4510e-01,  1.4233e-01,  2.2634e-02, -1.3596e-01, -9.2048e-02,\n",
       "         -1.1306e-01, -1.8341e-01,  3.6131e-01,  1.3148e-01,  1.2242e-01,\n",
       "         -1.3377e-01,  1.5999e-01,  1.2203e-01, -1.8014e-01, -2.0709e-01,\n",
       "          9.6841e-02, -3.7202e-01, -1.3190e-01, -2.3716e-02,  1.1339e-01,\n",
       "         -1.4065e-01,  3.1093e-01, -5.0090e-03,  2.1627e-01,  6.0436e-02,\n",
       "          3.2031e-01, -3.4055e-01, -3.1707e-02, -2.0578e-02, -1.0083e-02,\n",
       "          5.3002e-03, -3.1644e-01,  2.8105e-01, -2.2629e-01,  6.6247e-02,\n",
       "         -3.7513e-02,  5.6616e-02,  3.0057e-01,  7.8425e-02,  1.4338e-01,\n",
       "         -1.6564e-01,  8.8006e-02,  6.1672e-03,  2.8819e-01, -2.1185e-01,\n",
       "         -9.8762e-02,  2.0988e-01, -5.8705e-02, -1.6706e-01,  1.7454e-01,\n",
       "         -1.7705e-01, -2.7055e-01, -2.9178e-01, -1.1237e-01,  6.0204e-02,\n",
       "          5.9576e-02, -8.2649e-02,  2.2211e-02,  1.1067e-01,  6.6401e-02,\n",
       "         -7.0768e-03, -2.2666e-01,  1.4529e-01,  8.6722e-02, -2.2740e-01,\n",
       "         -1.2785e-01, -2.4651e-02,  6.0898e-02, -6.0607e-02, -4.3833e-02,\n",
       "         -1.6418e-01, -8.1843e-02, -9.1157e-02,  1.8275e-01,  1.1624e-01,\n",
       "          4.2540e-01,  3.6207e-02,  2.5576e-01,  1.6510e-01,  3.0325e-01,\n",
       "         -7.3579e-02,  3.9675e-02,  9.0888e-02, -2.0451e-01, -1.0012e-01,\n",
       "          1.0187e-01,  1.7935e-01,  8.1501e-02,  2.2344e-01,  5.8850e-02,\n",
       "         -1.3389e-01, -1.0765e-01, -2.2849e-01,  2.5065e-01, -7.0028e-02,\n",
       "          5.6643e-02,  5.9615e-02, -2.4821e-01,  3.2016e-01,  2.0241e-01,\n",
       "         -4.1280e-02, -2.6974e-01, -5.3227e-02,  1.7371e-01,  8.7277e-02,\n",
       "          6.0706e-02, -2.2240e-01, -2.4994e-01,  1.1782e-01, -2.0476e-01,\n",
       "          5.1982e-02,  1.1986e-01,  1.5549e-01,  1.8399e-02, -1.1816e-02,\n",
       "          1.3357e-01,  2.0291e-01,  2.6764e-01,  2.7474e-01, -8.5593e-03,\n",
       "          2.1861e-01,  6.0269e-02,  1.7115e-01,  1.3873e-01, -5.4977e-01,\n",
       "          7.7842e-02, -8.7381e-02, -8.8670e-02, -3.3963e-01, -7.2426e-02,\n",
       "          4.1749e-01, -1.9188e-01, -3.1121e-03, -3.6009e-02, -1.8593e-01,\n",
       "         -1.0640e-02,  9.1040e-02, -1.6671e-01,  6.7764e-02,  1.7299e-01,\n",
       "          2.9154e-01,  2.1437e-01,  1.8874e-02,  4.3185e-01,  2.4460e-03,\n",
       "          3.0142e-01, -2.1009e-01, -1.4992e-01, -4.0160e-01, -7.6728e-02,\n",
       "          1.1051e-01,  1.8108e-01, -1.4644e-01,  2.9415e-01,  3.8828e-01,\n",
       "          5.9926e-02, -7.2608e-02, -8.0954e-02,  8.5038e-02, -1.3786e-01,\n",
       "         -2.2338e-01,  2.3366e-02, -9.8343e-03,  7.0585e-03, -2.5800e-02,\n",
       "          1.6310e-01,  1.1149e-01,  1.9464e-01,  3.8279e-01,  2.1210e-01,\n",
       "          8.9406e-02,  6.1853e-02,  7.8799e-02,  2.5072e-01, -2.9596e-01,\n",
       "         -1.2189e-04, -2.0117e-01,  5.4749e-02,  3.0013e-01, -1.9572e-01,\n",
       "          1.2777e-01,  1.6936e-01, -3.3858e-02, -1.3522e-01,  9.8315e-02,\n",
       "         -3.2745e-02,  2.0146e-01, -1.5213e-01,  1.1451e-01,  4.0178e-02,\n",
       "          4.3248e-02, -2.9368e-01,  7.0874e-02,  1.5464e-01, -1.0259e-01,\n",
       "          1.9816e-01, -6.5139e-02, -1.0453e-01,  7.7479e-03,  1.3001e-01,\n",
       "         -3.3425e-01, -1.9215e-01,  2.0671e-02,  1.9053e-01,  5.5060e-02,\n",
       "         -8.0176e-02,  1.9869e-01, -3.8837e-02, -1.3483e-01,  2.1533e-01,\n",
       "          1.4628e-01,  2.1659e-01,  5.6362e-02,  1.5123e-01,  4.0978e-02,\n",
       "         -7.3834e-02,  1.5618e-01,  2.7393e-01,  2.1208e-01,  3.1767e-02,\n",
       "          2.6639e-01, -2.4379e-01, -1.5248e-01, -9.0362e-03,  2.8871e-01,\n",
       "         -3.0583e-01, -1.9492e-02, -6.7443e-02, -2.4285e-01, -3.0352e-01,\n",
       "         -1.6360e-01, -1.6952e-02,  9.2695e-02, -5.0454e-02, -4.8351e-03,\n",
       "         -2.4832e-02, -1.2807e-01, -1.3174e-01, -6.2654e-02, -4.2866e-01,\n",
       "         -2.9417e-01, -1.3458e-01, -4.1640e-02,  1.1307e-01,  1.6757e-01,\n",
       "          3.5127e-01,  6.8730e-02, -2.2151e-01,  1.8509e-01,  1.8373e-02,\n",
       "         -6.5841e-04, -2.1869e-01,  2.7477e-01, -3.4774e-01,  3.3590e-02,\n",
       "          1.3142e-01,  1.8735e-01,  2.1523e-01, -1.8780e-01,  1.1514e-01,\n",
       "          6.3968e-02,  3.7770e-02,  8.0536e-02,  2.7078e-01,  1.7863e-01,\n",
       "         -1.6936e-01, -1.2804e-02, -1.1310e-01,  1.1134e-01, -2.7937e-01,\n",
       "          2.1542e-01,  3.6991e-02]], grad_fn=<IndexBackward0>)"
      ]
     },
     "execution_count": 125,
     "metadata": {},
     "output_type": "execute_result"
    }
   ],
   "source": [
    "txt_f[torch.arange(txt_f.shape[0]), input_ids.argmax(dim=-1)]"
   ]
  },
  {
   "cell_type": "code",
   "execution_count": 124,
   "metadata": {},
   "outputs": [
    {
     "data": {
      "text/plain": [
       "tensor([0])"
      ]
     },
     "execution_count": 124,
     "metadata": {},
     "output_type": "execute_result"
    }
   ],
   "source": [
    "input_ids.argmax(dim=-1)"
   ]
  },
  {
   "cell_type": "code",
   "execution_count": 92,
   "metadata": {},
   "outputs": [
    {
     "ename": "RuntimeError",
     "evalue": "Tensors must have same number of dimensions: got 2 and 3",
     "output_type": "error",
     "traceback": [
      "\u001b[0;31m---------------------------------------------------------------------------\u001b[0m",
      "\u001b[0;31mRuntimeError\u001b[0m                              Traceback (most recent call last)",
      "Cell \u001b[0;32mIn[92], line 1\u001b[0m\n\u001b[0;32m----> 1\u001b[0m torch\u001b[39m.\u001b[39;49mcat((img_f,txt_f), \u001b[39m1\u001b[39;49m)\n",
      "\u001b[0;31mRuntimeError\u001b[0m: Tensors must have same number of dimensions: got 2 and 3"
     ]
    }
   ],
   "source": [
    "torch.cat((img_f,txt_f), 1)"
   ]
  },
  {
   "cell_type": "code",
   "execution_count": 4,
   "metadata": {},
   "outputs": [
    {
     "name": "stdout",
     "output_type": "stream",
     "text": [
      "T5_only\n"
     ]
    }
   ],
   "source": [
    "# txtの中に\"clip\"が含まれていたらプリントし、含まれていなかったらプリントしない\n",
    "txt = \"T5_only\"\n",
    "if \"T5\" in txt:\n",
    "    print(txt)\n"
   ]
  },
  {
   "attachments": {},
   "cell_type": "markdown",
   "metadata": {},
   "source": [
    "## dataloader\n",
    "※テキストトークンは可変長なのでそのままだとdataloaderでエラーが出る<br>\n",
    "dataloaderのcollate fnを変更し、テキストバッチlist[str]をtokenizer.batch_encode_plusで(batch_size,longest_length)のTensorに変換する<br>\n",
    "https://qiita.com/tomp/items/f220bd6ffec006dabaa5\n"
   ]
  },
  {
   "attachments": {},
   "cell_type": "markdown",
   "metadata": {},
   "source": [
    "##"
   ]
  },
  {
   "attachments": {},
   "cell_type": "markdown",
   "metadata": {},
   "source": []
  },
  {
   "cell_type": "code",
   "execution_count": null,
   "metadata": {},
   "outputs": [],
   "source": []
  },
  {
   "attachments": {},
   "cell_type": "markdown",
   "metadata": {},
   "source": [
    "# dataset確認"
   ]
  },
  {
   "attachments": {},
   "cell_type": "markdown",
   "metadata": {},
   "source": [
    "## 滝"
   ]
  },
  {
   "cell_type": "code",
   "execution_count": null,
   "metadata": {},
   "outputs": [],
   "source": []
  },
  {
   "cell_type": "code",
   "execution_count": 13,
   "metadata": {},
   "outputs": [],
   "source": [
    "# json fileの読み込み\n",
    "import json\n",
    "import os\n",
    "\n",
    "data_dir = \"/home/taki/bento_VL/data/bento-json/taki/\"\n",
    "\n",
    "# data_dir内のファイル名を全て取得\n",
    "files = os.listdir(data_dir)\n",
    "\n",
    "# 全てのjsonファイルを抽出\n",
    "json_files = [f for f in files if os.path.isfile(os.path.join(data_dir, f)) and f.endswith(\".json\")]\n",
    "\n",
    "# jsonファイルを並び変え\n",
    "json_files.sort()\n",
    "\n",
    "# jsonファイルを読み込み\n",
    "json_data_list = []\n",
    "for j in json_files:\n",
    "    with open(os.path.join(data_dir, j), \"r\") as f:\n",
    "        json_data = json.load(f)\n",
    "        json_data_list.append(json_data)\n",
    "\n",
    "\n",
    "\n"
   ]
  },
  {
   "cell_type": "code",
   "execution_count": 98,
   "metadata": {},
   "outputs": [
    {
     "data": {
      "text/plain": [
       "dict_keys(['version', 'flags', 'shapes', 'imagePath', 'imageData', 'imageHeight', 'imageWidth'])"
      ]
     },
     "execution_count": 98,
     "metadata": {},
     "output_type": "execute_result"
    }
   ],
   "source": [
    "json_data_list[0].keys()"
   ]
  },
  {
   "cell_type": "code",
   "execution_count": 99,
   "metadata": {},
   "outputs": [
    {
     "data": {
      "text/plain": [
       "{'label': 'わかめと梅のふりかけご飯',\n",
       " 'points': [[459.47368421052636, 302.89473684210526]],\n",
       " 'group_id': 1,\n",
       " 'shape_type': 'point',\n",
       " 'flags': {}}"
      ]
     },
     "execution_count": 99,
     "metadata": {},
     "output_type": "execute_result"
    }
   ],
   "source": [
    "json_data_list[0][\"shapes\"][0]"
   ]
  },
  {
   "cell_type": "code",
   "execution_count": 100,
   "metadata": {},
   "outputs": [],
   "source": [
    "# 日本語のラベルと英語のラベルが同じか確認\n",
    "check_data_list = []\n",
    "\n",
    "for i in range(len(json_data_list)):\n",
    "\n",
    "    id_0 = 0\n",
    "    id_1 = 0\n",
    "        \n",
    "    for data in json_data_list[i][\"shapes\"]:\n",
    "        \n",
    "        if data[\"group_id\"] == 0:\n",
    "            id_0 = id_0 + 1 \n",
    "        elif data[\"group_id\"] == 1:\n",
    "            id_1 = id_1 + 1\n",
    "\n",
    "    if id_0 != id_1:\n",
    "        check_data_list.append(json_data_list[i]['imagePath'])"
   ]
  },
  {
   "cell_type": "code",
   "execution_count": 101,
   "metadata": {},
   "outputs": [
    {
     "data": {
      "text/plain": [
       "0"
      ]
     },
     "execution_count": 101,
     "metadata": {},
     "output_type": "execute_result"
    }
   ],
   "source": [
    "len(check_data_list)"
   ]
  },
  {
   "cell_type": "code",
   "execution_count": 102,
   "metadata": {},
   "outputs": [
    {
     "data": {
      "text/plain": [
       "[]"
      ]
     },
     "execution_count": 102,
     "metadata": {},
     "output_type": "execute_result"
    }
   ],
   "source": [
    "check_data_list"
   ]
  },
  {
   "cell_type": "code",
   "execution_count": 133,
   "metadata": {},
   "outputs": [],
   "source": [
    "import re\n",
    "# carot を　carrotに変換\n",
    "check_data_list = []\n",
    "pattrn = r'carot'\n",
    "for i in range(len(json_data_list)):\n",
    "    for data in json_data_list[i][\"shapes\"]:\n",
    "        if re.search(pattrn, data[\"label\"]):\n",
    "            #data[\"label\"] = \"carrot\"\n",
    "            print(data[\"label\"])\n",
    "\n",
    "            check_data_list.append(json_data_list[i]['imagePath'])"
   ]
  },
  {
   "cell_type": "code",
   "execution_count": 134,
   "metadata": {},
   "outputs": [
    {
     "data": {
      "text/plain": [
       "0"
      ]
     },
     "execution_count": 134,
     "metadata": {},
     "output_type": "execute_result"
    }
   ],
   "source": [
    "len(check_data_list)"
   ]
  },
  {
   "cell_type": "code",
   "execution_count": 135,
   "metadata": {},
   "outputs": [
    {
     "data": {
      "text/plain": [
       "[]"
      ]
     },
     "execution_count": 135,
     "metadata": {},
     "output_type": "execute_result"
    }
   ],
   "source": [
    "check_data_list"
   ]
  },
  {
   "cell_type": "code",
   "execution_count": 138,
   "metadata": {},
   "outputs": [
    {
     "name": "stdout",
     "output_type": "stream",
     "text": [
      "39\n"
     ]
    }
   ],
   "source": [
    "# 不明リスト抽出\n",
    "check_data_list = []\n",
    "\n",
    "for i in range(len(json_data_list)):\n",
    "        \n",
    "    for data in json_data_list[i][\"shapes\"]:\n",
    "        \n",
    "        if data[\"group_id\"] == 2:\n",
    "            check_data_list.append(json_data_list[i]['imagePath'])\n",
    "        \n",
    "print(len(check_data_list))"
   ]
  },
  {
   "cell_type": "code",
   "execution_count": 137,
   "metadata": {},
   "outputs": [
    {
     "data": {
      "text/plain": [
       "['cookgram  (186).jpg',\n",
       " 'cookgram  (202).jpg',\n",
       " 'cookgram  (32).jpg',\n",
       " 'hayaben_tarou (13).jpg',\n",
       " 'hayaben_tarou (16).jpg',\n",
       " 'hayaben_tarou (7).jpg',\n",
       " 'hikameshi (20).jpg',\n",
       " 'hikameshi (26).jpg',\n",
       " 'hitorigohan (120).jpg',\n",
       " 'hitorigohan (127).jpg',\n",
       " 'hitorigohan (156).jpg',\n",
       " 'hitorigohan (165).jpg',\n",
       " 'hitorigohan (172).jpg',\n",
       " 'hitorigohan (176).jpg',\n",
       " 'hitorigohan (180).jpg',\n",
       " 'hitorigohan (181).jpg',\n",
       " 'hitorigohan (184).jpg',\n",
       " 'hitorigohan (185).jpg',\n",
       " 'hitorigohan (195).jpg',\n",
       " 'hitorigohan (209).jpg',\n",
       " 'hitorigohan (216).jpg',\n",
       " 'hitorigohan (218).jpg',\n",
       " 'hitorigohan (219).jpg',\n",
       " 'hitorigohan (60).jpg',\n",
       " 'hitorigohan (73).jpg',\n",
       " 'hitorigohan (97).jpg',\n",
       " 'm_bookcook (12).jpg',\n",
       " 'm_bookcook (145).jpg',\n",
       " 'm_bookcook (150).jpg',\n",
       " 'm_bookcook (5).jpg',\n",
       " 'm_bookcook (60).jpg',\n",
       " 'makiwappa  (14).jpg',\n",
       " 'makiwappa  (33).jpg',\n",
       " 'makiwappa  (35).jpg',\n",
       " 'makiwappa  (8).jpg',\n",
       " 'meme (7).jpg',\n",
       " 'miiko (18).jpg',\n",
       " 'nagae_bento (100).jpg',\n",
       " 'nagae_bento (112).jpg']"
      ]
     },
     "execution_count": 137,
     "metadata": {},
     "output_type": "execute_result"
    }
   ],
   "source": [
    "check_data_list"
   ]
  },
  {
   "attachments": {},
   "cell_type": "markdown",
   "metadata": {},
   "source": [
    "# 吉田君"
   ]
  },
  {
   "cell_type": "code",
   "execution_count": 139,
   "metadata": {},
   "outputs": [],
   "source": [
    "# json fileの読み込み\n",
    "import json\n",
    "import os\n",
    "\n",
    "data_dir = \"/home/taki/bento_VL/data/bento-json/yoshida/\"\n",
    "\n",
    "# data_dir内のファイル名を全て取得\n",
    "files = os.listdir(data_dir)\n",
    "\n",
    "# 全てのjsonファイルを抽出\n",
    "json_files = [f for f in files if os.path.isfile(os.path.join(data_dir, f)) and f.endswith(\".json\")]\n",
    "\n",
    "# jsonファイルを並び変え\n",
    "json_files.sort()\n",
    "\n",
    "# jsonファイルを読み込み\n",
    "json_data_list = []\n",
    "for j in json_files:\n",
    "    with open(os.path.join(data_dir, j), \"r\") as f:\n",
    "        json_data = json.load(f)\n",
    "        json_data_list.append(json_data)\n",
    "\n"
   ]
  },
  {
   "cell_type": "code",
   "execution_count": 62,
   "metadata": {},
   "outputs": [],
   "source": [
    "check_data_list = []\n",
    "\n",
    "for i in range(len(json_data_list)):\n",
    "\n",
    "    id_0 = 0\n",
    "    id_1 = 0\n",
    "        \n",
    "    for data in json_data_list[i][\"shapes\"]:\n",
    "        \n",
    "        if data[\"group_id\"] == 0:\n",
    "            id_0 = id_0 + 1 \n",
    "        elif data[\"group_id\"] == 1:\n",
    "            id_1 = id_1 + 1\n",
    "\n",
    "    if id_0 != id_1:\n",
    "        check_data_list.append(json_data_list[i]['imagePath'])"
   ]
  },
  {
   "cell_type": "code",
   "execution_count": 63,
   "metadata": {},
   "outputs": [
    {
     "data": {
      "text/plain": [
       "26"
      ]
     },
     "execution_count": 63,
     "metadata": {},
     "output_type": "execute_result"
    }
   ],
   "source": [
    "len(check_data_list)"
   ]
  },
  {
   "cell_type": "code",
   "execution_count": 64,
   "metadata": {},
   "outputs": [
    {
     "data": {
      "text/plain": [
       "['onaka__suita (110).jpg',\n",
       " 'onaka__suita (92).jpg',\n",
       " 'rikioku (18).jpg',\n",
       " 'rikioku (37).jpg',\n",
       " 'rikioku (68).jpg',\n",
       " 'rumi (10).jpg',\n",
       " 'rumi (20).jpg',\n",
       " 'sapooo (7).jpg',\n",
       " 'sora (24).jpg',\n",
       " 'sora (38).jpg',\n",
       " 'sora (56).jpg',\n",
       " 'sora (76).jpg',\n",
       " 'toco (19).jpg',\n",
       " 'toco (37).jpg',\n",
       " 'toco (4).jpg',\n",
       " 'toco (48).jpg',\n",
       " 'toco (62).jpg',\n",
       " 'toco (79).jpg',\n",
       " 'toco (83).jpg',\n",
       " 'tomoko (107).jpg',\n",
       " 'tomoko (148).jpg',\n",
       " 'uco (38).jpg',\n",
       " 'user_nakami  (77).jpg',\n",
       " 'wappakun (13).jpg',\n",
       " 'yk (28).jpg',\n",
       " 'yumben (5).jpg']"
      ]
     },
     "execution_count": 64,
     "metadata": {},
     "output_type": "execute_result"
    }
   ],
   "source": [
    "check_data_list"
   ]
  },
  {
   "cell_type": "code",
   "execution_count": 131,
   "metadata": {},
   "outputs": [
    {
     "name": "stdout",
     "output_type": "stream",
     "text": [
      "multigrain rice\n",
      "multigrain rice\n",
      "multigrain rice\n",
      "multigrain rice\n",
      "multigrain rice\n",
      "multigrain rice\n",
      "multigrain rice\n",
      "multigrain rice\n",
      "multigrain rice\n",
      "multigrain rice\n",
      "multigrain rice\n",
      "multigrain rice\n"
     ]
    }
   ],
   "source": [
    "import re\n",
    "# carot を　carrotに変換\n",
    "check_data_list = []\n",
    "pattrn = r'multigrain'\n",
    "for i in range(len(json_data_list)):\n",
    "    for data in json_data_list[i][\"shapes\"]:\n",
    "        if re.search(pattrn, data[\"label\"]):\n",
    "            #data[\"label\"] = \"carrot\"\n",
    "            print(data[\"label\"])\n",
    "\n",
    "            check_data_list.append(json_data_list[i]['imagePath'])"
   ]
  },
  {
   "cell_type": "code",
   "execution_count": 120,
   "metadata": {},
   "outputs": [
    {
     "data": {
      "text/plain": [
       "[]"
      ]
     },
     "execution_count": 120,
     "metadata": {},
     "output_type": "execute_result"
    }
   ],
   "source": [
    "check_data_list"
   ]
  },
  {
   "cell_type": "code",
   "execution_count": 140,
   "metadata": {},
   "outputs": [
    {
     "name": "stdout",
     "output_type": "stream",
     "text": [
      "8\n"
     ]
    }
   ],
   "source": [
    "# 不明リスト抽出\n",
    "check_data_list = []\n",
    "\n",
    "for i in range(len(json_data_list)):\n",
    "        \n",
    "    for data in json_data_list[i][\"shapes\"]:\n",
    "        \n",
    "        if data[\"group_id\"] == 2:\n",
    "            check_data_list.append(json_data_list[i]['imagePath'])\n",
    "        \n",
    "print(len(check_data_list))"
   ]
  },
  {
   "cell_type": "code",
   "execution_count": 141,
   "metadata": {},
   "outputs": [
    {
     "data": {
      "text/plain": [
       "['naoben (12).jpg',\n",
       " 'sora (41).jpg',\n",
       " 'sora (76).jpg',\n",
       " 'toco (51).jpg',\n",
       " 'tomoko (5).jpg',\n",
       " 'user_nakami  (29).jpg',\n",
       " 'yk (28).jpg',\n",
       " 'yk (73).jpg']"
      ]
     },
     "execution_count": 141,
     "metadata": {},
     "output_type": "execute_result"
    }
   ],
   "source": [
    "check_data_list"
   ]
  },
  {
   "attachments": {},
   "cell_type": "markdown",
   "metadata": {},
   "source": [
    "# データセット読み込みの確認"
   ]
  },
  {
   "cell_type": "code",
   "execution_count": 58,
   "metadata": {},
   "outputs": [
    {
     "data": {
      "text/html": [
       "<div>\n",
       "<style scoped>\n",
       "    .dataframe tbody tr th:only-of-type {\n",
       "        vertical-align: middle;\n",
       "    }\n",
       "\n",
       "    .dataframe tbody tr th {\n",
       "        vertical-align: top;\n",
       "    }\n",
       "\n",
       "    .dataframe thead th {\n",
       "        text-align: right;\n",
       "    }\n",
       "</style>\n",
       "<table border=\"1\" class=\"dataframe\">\n",
       "  <thead>\n",
       "    <tr style=\"text-align: right;\">\n",
       "      <th></th>\n",
       "      <th>path</th>\n",
       "      <th>factor1</th>\n",
       "      <th>factor2</th>\n",
       "      <th>factor3</th>\n",
       "      <th>factor4</th>\n",
       "      <th>factor5</th>\n",
       "      <th>factor6</th>\n",
       "      <th>factor7</th>\n",
       "    </tr>\n",
       "  </thead>\n",
       "  <tbody>\n",
       "    <tr>\n",
       "      <th>0</th>\n",
       "      <td>11n24y (10).jpg</td>\n",
       "      <td>0.626011</td>\n",
       "      <td>0.512187</td>\n",
       "      <td>0.667759</td>\n",
       "      <td>0.278341</td>\n",
       "      <td>0.679017</td>\n",
       "      <td>0.644536</td>\n",
       "      <td>0.385473</td>\n",
       "    </tr>\n",
       "    <tr>\n",
       "      <th>1</th>\n",
       "      <td>11n24y (15).jpg</td>\n",
       "      <td>0.418966</td>\n",
       "      <td>0.577724</td>\n",
       "      <td>0.472596</td>\n",
       "      <td>0.154524</td>\n",
       "      <td>0.519459</td>\n",
       "      <td>0.653625</td>\n",
       "      <td>0.461815</td>\n",
       "    </tr>\n",
       "    <tr>\n",
       "      <th>2</th>\n",
       "      <td>11n24y (20).jpg</td>\n",
       "      <td>0.544230</td>\n",
       "      <td>0.482227</td>\n",
       "      <td>0.734638</td>\n",
       "      <td>0.268911</td>\n",
       "      <td>0.674837</td>\n",
       "      <td>0.755683</td>\n",
       "      <td>0.368004</td>\n",
       "    </tr>\n",
       "    <tr>\n",
       "      <th>3</th>\n",
       "      <td>11n24y (22).jpg</td>\n",
       "      <td>0.434133</td>\n",
       "      <td>0.684328</td>\n",
       "      <td>0.324193</td>\n",
       "      <td>0.268570</td>\n",
       "      <td>0.467308</td>\n",
       "      <td>0.839506</td>\n",
       "      <td>0.470191</td>\n",
       "    </tr>\n",
       "    <tr>\n",
       "      <th>4</th>\n",
       "      <td>11n24y (24).jpg</td>\n",
       "      <td>0.478149</td>\n",
       "      <td>0.539188</td>\n",
       "      <td>0.227575</td>\n",
       "      <td>0.338072</td>\n",
       "      <td>0.437760</td>\n",
       "      <td>0.667763</td>\n",
       "      <td>0.355663</td>\n",
       "    </tr>\n",
       "    <tr>\n",
       "      <th>...</th>\n",
       "      <td>...</td>\n",
       "      <td>...</td>\n",
       "      <td>...</td>\n",
       "      <td>...</td>\n",
       "      <td>...</td>\n",
       "      <td>...</td>\n",
       "      <td>...</td>\n",
       "      <td>...</td>\n",
       "    </tr>\n",
       "    <tr>\n",
       "      <th>994</th>\n",
       "      <td>yumben (57).jpg</td>\n",
       "      <td>0.649259</td>\n",
       "      <td>0.649115</td>\n",
       "      <td>0.638141</td>\n",
       "      <td>0.379576</td>\n",
       "      <td>0.643529</td>\n",
       "      <td>0.731639</td>\n",
       "      <td>0.363457</td>\n",
       "    </tr>\n",
       "    <tr>\n",
       "      <th>995</th>\n",
       "      <td>yumben (58).jpg</td>\n",
       "      <td>0.405739</td>\n",
       "      <td>0.364467</td>\n",
       "      <td>0.716503</td>\n",
       "      <td>0.342739</td>\n",
       "      <td>0.554483</td>\n",
       "      <td>0.523175</td>\n",
       "      <td>0.407680</td>\n",
       "    </tr>\n",
       "    <tr>\n",
       "      <th>996</th>\n",
       "      <td>yumben (59).jpg</td>\n",
       "      <td>0.453467</td>\n",
       "      <td>0.285186</td>\n",
       "      <td>0.835852</td>\n",
       "      <td>0.285848</td>\n",
       "      <td>0.391417</td>\n",
       "      <td>0.458061</td>\n",
       "      <td>0.253789</td>\n",
       "    </tr>\n",
       "    <tr>\n",
       "      <th>997</th>\n",
       "      <td>yumben (60).jpg</td>\n",
       "      <td>0.717414</td>\n",
       "      <td>0.582687</td>\n",
       "      <td>0.548351</td>\n",
       "      <td>0.454048</td>\n",
       "      <td>0.435609</td>\n",
       "      <td>0.778868</td>\n",
       "      <td>0.589075</td>\n",
       "    </tr>\n",
       "    <tr>\n",
       "      <th>998</th>\n",
       "      <td>yumben (9).jpg</td>\n",
       "      <td>0.560285</td>\n",
       "      <td>0.621916</td>\n",
       "      <td>0.514575</td>\n",
       "      <td>0.475604</td>\n",
       "      <td>0.588288</td>\n",
       "      <td>0.713600</td>\n",
       "      <td>0.247430</td>\n",
       "    </tr>\n",
       "  </tbody>\n",
       "</table>\n",
       "<p>999 rows × 8 columns</p>\n",
       "</div>"
      ],
      "text/plain": [
       "                path   factor1   factor2   factor3   factor4   factor5  \\\n",
       "0    11n24y (10).jpg  0.626011  0.512187  0.667759  0.278341  0.679017   \n",
       "1    11n24y (15).jpg  0.418966  0.577724  0.472596  0.154524  0.519459   \n",
       "2    11n24y (20).jpg  0.544230  0.482227  0.734638  0.268911  0.674837   \n",
       "3    11n24y (22).jpg  0.434133  0.684328  0.324193  0.268570  0.467308   \n",
       "4    11n24y (24).jpg  0.478149  0.539188  0.227575  0.338072  0.437760   \n",
       "..               ...       ...       ...       ...       ...       ...   \n",
       "994  yumben (57).jpg  0.649259  0.649115  0.638141  0.379576  0.643529   \n",
       "995  yumben (58).jpg  0.405739  0.364467  0.716503  0.342739  0.554483   \n",
       "996  yumben (59).jpg  0.453467  0.285186  0.835852  0.285848  0.391417   \n",
       "997  yumben (60).jpg  0.717414  0.582687  0.548351  0.454048  0.435609   \n",
       "998   yumben (9).jpg  0.560285  0.621916  0.514575  0.475604  0.588288   \n",
       "\n",
       "      factor6   factor7  \n",
       "0    0.644536  0.385473  \n",
       "1    0.653625  0.461815  \n",
       "2    0.755683  0.368004  \n",
       "3    0.839506  0.470191  \n",
       "4    0.667763  0.355663  \n",
       "..        ...       ...  \n",
       "994  0.731639  0.363457  \n",
       "995  0.523175  0.407680  \n",
       "996  0.458061  0.253789  \n",
       "997  0.778868  0.589075  \n",
       "998  0.713600  0.247430  \n",
       "\n",
       "[999 rows x 8 columns]"
      ]
     },
     "execution_count": 58,
     "metadata": {},
     "output_type": "execute_result"
    }
   ],
   "source": [
    "import pandas as pd\n",
    "df = pd.read_csv(\"./score_ml_promax_7_update.csv\")\n",
    "df"
   ]
  },
  {
   "cell_type": "code",
   "execution_count": 68,
   "metadata": {},
   "outputs": [
    {
     "data": {
      "text/plain": [
       "0      11n24y (10).jpg\n",
       "1      11n24y (15).jpg\n",
       "2      11n24y (20).jpg\n",
       "3      11n24y (22).jpg\n",
       "4      11n24y (24).jpg\n",
       "            ...       \n",
       "994    yumben (57).jpg\n",
       "995    yumben (58).jpg\n",
       "996    yumben (59).jpg\n",
       "997    yumben (60).jpg\n",
       "998     yumben (9).jpg\n",
       "Name: path, Length: 999, dtype: object"
      ]
     },
     "execution_count": 68,
     "metadata": {},
     "output_type": "execute_result"
    }
   ],
   "source": [
    "image_paths = df['path']\n",
    "image_paths"
   ]
  },
  {
   "cell_type": "code",
   "execution_count": 69,
   "metadata": {},
   "outputs": [
    {
     "name": "stderr",
     "output_type": "stream",
     "text": [
      "/tmp/ipykernel_553583/451363196.py:2: FutureWarning: The default value of regex will change from True to False in a future version.\n",
      "  json_paths = image_paths.str.replace(\".jpg\", \".json\")\n"
     ]
    },
    {
     "data": {
      "text/plain": [
       "0      11n24y (10).json\n",
       "1      11n24y (15).json\n",
       "2      11n24y (20).json\n",
       "3      11n24y (22).json\n",
       "4      11n24y (24).json\n",
       "             ...       \n",
       "994    yumben (57).json\n",
       "995    yumben (58).json\n",
       "996    yumben (59).json\n",
       "997    yumben (60).json\n",
       "998     yumben (9).json\n",
       "Name: path, Length: 999, dtype: object"
      ]
     },
     "execution_count": 69,
     "metadata": {},
     "output_type": "execute_result"
    }
   ],
   "source": [
    "# image_pathsの文字列 \".jpg\"を\".json\"に置換\n",
    "json_paths = image_paths.str.replace(\".jpg\", \".json\")\n",
    "json_paths"
   ]
  },
  {
   "cell_type": "code",
   "execution_count": 63,
   "metadata": {},
   "outputs": [],
   "source": [
    "# json fileの読み込み\n",
    "import json\n",
    "import os\n",
    "\n",
    "data_dir = \"/home/taki/bento_VL/data/bento-json/\"\n",
    "\n",
    "\n",
    "# jsonファイルを読み込み\n",
    "json_data_list = {}\n",
    "for j in json_paths:\n",
    "    with open(os.path.join(data_dir, j), \"r\") as f:\n",
    "        json_data = json.load(f)\n",
    "        json_data_list[j] = json_data\n",
    "\n",
    "\n",
    "\n"
   ]
  },
  {
   "cell_type": "code",
   "execution_count": 71,
   "metadata": {},
   "outputs": [
    {
     "data": {
      "text/plain": [
       "'aimibento (5).jpg'"
      ]
     },
     "execution_count": 71,
     "metadata": {},
     "output_type": "execute_result"
    }
   ],
   "source": [
    "image_paths[33]"
   ]
  },
  {
   "cell_type": "code",
   "execution_count": 70,
   "metadata": {},
   "outputs": [
    {
     "data": {
      "text/plain": [
       "{'version': '5.1.1',\n",
       " 'flags': {},\n",
       " 'shapes': [{'label': 'stir-fried mushrooms, carrots and cabbage',\n",
       "   'points': [[242.3684210526316, 198.2894736842105],\n",
       "    [529.8684210526316, 423.2894736842105]],\n",
       "   'group_id': 0,\n",
       "   'shape_type': 'rectangle',\n",
       "   'flags': {}},\n",
       "  {'label': 'tomato',\n",
       "   'points': [[236.44736842105263, 348.2894736842105],\n",
       "    [322.63157894736844, 431.8421052631579]],\n",
       "   'group_id': 0,\n",
       "   'shape_type': 'rectangle',\n",
       "   'flags': {}},\n",
       "  {'label': 'perilla',\n",
       "   'points': [[182.49999999999997, 298.94736842105266],\n",
       "    [344.3421052631579, 437.10526315789474]],\n",
       "   'group_id': 0,\n",
       "   'shape_type': 'rectangle',\n",
       "   'flags': {}},\n",
       "  {'label': 'sesame furikake rice',\n",
       "   'points': [[89.07894736842101, 225.26315789473682],\n",
       "    [258.1578947368421, 428.55263157894734]],\n",
       "   'group_id': 0,\n",
       "   'shape_type': 'rectangle',\n",
       "   'flags': {}},\n",
       "  {'label': 'ごまのふりかけご飯',\n",
       "   'points': [[151.578947368421, 322.63157894736844]],\n",
       "   'group_id': 1,\n",
       "   'shape_type': 'point',\n",
       "   'flags': {}},\n",
       "  {'label': 'トマト',\n",
       "   'points': [[272.63157894736844, 382.5]],\n",
       "   'group_id': 1,\n",
       "   'shape_type': 'point',\n",
       "   'flags': {}},\n",
       "  {'label': '大葉とチーズの肉巻き',\n",
       "   'points': [[258.1578947368421, 381.8421052631579]],\n",
       "   'group_id': 1,\n",
       "   'shape_type': 'point',\n",
       "   'flags': {}},\n",
       "  {'label': 'きのこと人参とキャベツの炒め物',\n",
       "   'points': [[392.36842105263156, 327.89473684210526]],\n",
       "   'group_id': 1,\n",
       "   'shape_type': 'point',\n",
       "   'flags': {}}],\n",
       " 'imagePath': 'aimibento (5).jpg',\n",
       " 'imageData': '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',\n",
       " 'imageHeight': 640,\n",
       " 'imageWidth': 640}"
      ]
     },
     "execution_count": 70,
     "metadata": {},
     "output_type": "execute_result"
    }
   ],
   "source": [
    "json_data_list[json_paths[33]]"
   ]
  },
  {
   "cell_type": "code",
   "execution_count": 20,
   "metadata": {},
   "outputs": [
    {
     "data": {
      "text/plain": [
       "{'label': 'わかめと梅のふりかけご飯',\n",
       " 'points': [[459.47368421052636, 302.89473684210526]],\n",
       " 'group_id': 1,\n",
       " 'shape_type': 'point',\n",
       " 'flags': {}}"
      ]
     },
     "execution_count": 20,
     "metadata": {},
     "output_type": "execute_result"
    }
   ],
   "source": [
    "json_data_list[0]['shapes'][0]"
   ]
  },
  {
   "cell_type": "code",
   "execution_count": 74,
   "metadata": {},
   "outputs": [
    {
     "data": {
      "text/plain": [
       "'ごまのふりかけご飯.トマト.大葉とチーズの肉巻き.きのこと人参とキャベツの炒め物.'"
      ]
     },
     "execution_count": 74,
     "metadata": {},
     "output_type": "execute_result"
    }
   ],
   "source": [
    "# json_data_list[0][\"shapes\"]内の'group_id':が1の'label'を取得\n",
    "label_list = []\n",
    "txt = \"\"\n",
    "for data in json_data_list[json_paths[33]][\"shapes\"]:\n",
    "    if data[\"group_id\"] == 1:\n",
    "        txt = txt + data[\"label\"] + \".\"\n",
    "        label_list.append(data[\"label\"])\n",
    "txt"
   ]
  },
  {
   "cell_type": "code",
   "execution_count": 45,
   "metadata": {},
   "outputs": [
    {
     "data": {
      "text/plain": [
       "'たらこ. ふりかけご飯. 手羽元と大根の煮物. 卵焼き. トマト. アスパラベーコン'"
      ]
     },
     "execution_count": 45,
     "metadata": {},
     "output_type": "execute_result"
    }
   ],
   "source": [
    "# label_list内のテキストをピリオド区切りで結合\n",
    "label = \". \".join(label_list)\n",
    "label"
   ]
  },
  {
   "cell_type": "code",
   "execution_count": 47,
   "metadata": {},
   "outputs": [
    {
     "data": {
      "text/plain": [
       "{'input_ids': tensor([[49406,  4813,   253,  3909,   231,  4813,   497,   269,  4813,   113,\n",
       "         40500, 36218,   239,  4813,   242,   165,    96,   363,   269,   162,\n",
       "           231,   233,   163,   122,   121, 34314,   225, 34671, 23170,   100,\n",
       "           162,   254,   117, 21575,   163,   227,   106,   163,   231,   358,\n",
       "           269,   161,   235,   113,   163,   226,   120,  4813,   491,   269,\n",
       "         42384, 48924,  2429,   486,   269, 26560, 32421,   239, 23007,  2429,\n",
       "           247, 13457,  3909,   111, 26875, 49407]]), 'attention_mask': tensor([[1, 1, 1, 1, 1, 1, 1, 1, 1, 1, 1, 1, 1, 1, 1, 1, 1, 1, 1, 1, 1, 1, 1, 1,\n",
       "         1, 1, 1, 1, 1, 1, 1, 1, 1, 1, 1, 1, 1, 1, 1, 1, 1, 1, 1, 1, 1, 1, 1, 1,\n",
       "         1, 1, 1, 1, 1, 1, 1, 1, 1, 1, 1, 1, 1, 1, 1, 1, 1, 1]])}"
      ]
     },
     "execution_count": 47,
     "metadata": {},
     "output_type": "execute_result"
    }
   ],
   "source": [
    "tokenizer.batch_encode_plus([label], return_tensors=\"pt\")"
   ]
  },
  {
   "attachments": {},
   "cell_type": "markdown",
   "metadata": {},
   "source": [
    "# Resnetの層確認"
   ]
  },
  {
   "cell_type": "code",
   "execution_count": 83,
   "metadata": {},
   "outputs": [
    {
     "data": {
      "text/plain": [
       "ResNet(\n",
       "  (conv1): Conv2d(3, 64, kernel_size=(7, 7), stride=(2, 2), padding=(3, 3), bias=False)\n",
       "  (bn1): BatchNorm2d(64, eps=1e-05, momentum=0.1, affine=True, track_running_stats=True)\n",
       "  (relu): ReLU(inplace=True)\n",
       "  (maxpool): MaxPool2d(kernel_size=3, stride=2, padding=1, dilation=1, ceil_mode=False)\n",
       "  (layer1): Module(\n",
       "    (0): Module(\n",
       "      (conv1): Conv2d(64, 64, kernel_size=(1, 1), stride=(1, 1), bias=False)\n",
       "      (bn1): BatchNorm2d(64, eps=1e-05, momentum=0.1, affine=True, track_running_stats=True)\n",
       "      (relu): ReLU(inplace=True)\n",
       "      (conv2): Conv2d(64, 64, kernel_size=(3, 3), stride=(1, 1), padding=(1, 1), bias=False)\n",
       "      (bn2): BatchNorm2d(64, eps=1e-05, momentum=0.1, affine=True, track_running_stats=True)\n",
       "      (conv3): Conv2d(64, 256, kernel_size=(1, 1), stride=(1, 1), bias=False)\n",
       "      (bn3): BatchNorm2d(256, eps=1e-05, momentum=0.1, affine=True, track_running_stats=True)\n",
       "      (downsample): Module(\n",
       "        (0): Conv2d(64, 256, kernel_size=(1, 1), stride=(1, 1), bias=False)\n",
       "        (1): BatchNorm2d(256, eps=1e-05, momentum=0.1, affine=True, track_running_stats=True)\n",
       "      )\n",
       "    )\n",
       "    (1): Module(\n",
       "      (conv1): Conv2d(256, 64, kernel_size=(1, 1), stride=(1, 1), bias=False)\n",
       "      (bn1): BatchNorm2d(64, eps=1e-05, momentum=0.1, affine=True, track_running_stats=True)\n",
       "      (relu): ReLU(inplace=True)\n",
       "      (conv2): Conv2d(64, 64, kernel_size=(3, 3), stride=(1, 1), padding=(1, 1), bias=False)\n",
       "      (bn2): BatchNorm2d(64, eps=1e-05, momentum=0.1, affine=True, track_running_stats=True)\n",
       "      (conv3): Conv2d(64, 256, kernel_size=(1, 1), stride=(1, 1), bias=False)\n",
       "      (bn3): BatchNorm2d(256, eps=1e-05, momentum=0.1, affine=True, track_running_stats=True)\n",
       "    )\n",
       "    (2): Module(\n",
       "      (conv1): Conv2d(256, 64, kernel_size=(1, 1), stride=(1, 1), bias=False)\n",
       "      (bn1): BatchNorm2d(64, eps=1e-05, momentum=0.1, affine=True, track_running_stats=True)\n",
       "      (relu): ReLU(inplace=True)\n",
       "      (conv2): Conv2d(64, 64, kernel_size=(3, 3), stride=(1, 1), padding=(1, 1), bias=False)\n",
       "      (bn2): BatchNorm2d(64, eps=1e-05, momentum=0.1, affine=True, track_running_stats=True)\n",
       "      (conv3): Conv2d(64, 256, kernel_size=(1, 1), stride=(1, 1), bias=False)\n",
       "      (bn3): BatchNorm2d(256, eps=1e-05, momentum=0.1, affine=True, track_running_stats=True)\n",
       "    )\n",
       "  )\n",
       "  (layer2): Module(\n",
       "    (0): Module(\n",
       "      (conv1): Conv2d(256, 128, kernel_size=(1, 1), stride=(1, 1), bias=False)\n",
       "      (bn1): BatchNorm2d(128, eps=1e-05, momentum=0.1, affine=True, track_running_stats=True)\n",
       "      (relu): ReLU(inplace=True)\n",
       "      (conv2): Conv2d(128, 128, kernel_size=(3, 3), stride=(2, 2), padding=(1, 1), bias=False)\n",
       "      (bn2): BatchNorm2d(128, eps=1e-05, momentum=0.1, affine=True, track_running_stats=True)\n",
       "      (conv3): Conv2d(128, 512, kernel_size=(1, 1), stride=(1, 1), bias=False)\n",
       "      (bn3): BatchNorm2d(512, eps=1e-05, momentum=0.1, affine=True, track_running_stats=True)\n",
       "      (downsample): Module(\n",
       "        (0): Conv2d(256, 512, kernel_size=(1, 1), stride=(2, 2), bias=False)\n",
       "        (1): BatchNorm2d(512, eps=1e-05, momentum=0.1, affine=True, track_running_stats=True)\n",
       "      )\n",
       "    )\n",
       "    (1): Module(\n",
       "      (conv1): Conv2d(512, 128, kernel_size=(1, 1), stride=(1, 1), bias=False)\n",
       "      (bn1): BatchNorm2d(128, eps=1e-05, momentum=0.1, affine=True, track_running_stats=True)\n",
       "      (relu): ReLU(inplace=True)\n",
       "      (conv2): Conv2d(128, 128, kernel_size=(3, 3), stride=(1, 1), padding=(1, 1), bias=False)\n",
       "      (bn2): BatchNorm2d(128, eps=1e-05, momentum=0.1, affine=True, track_running_stats=True)\n",
       "      (conv3): Conv2d(128, 512, kernel_size=(1, 1), stride=(1, 1), bias=False)\n",
       "      (bn3): BatchNorm2d(512, eps=1e-05, momentum=0.1, affine=True, track_running_stats=True)\n",
       "    )\n",
       "    (2): Module(\n",
       "      (conv1): Conv2d(512, 128, kernel_size=(1, 1), stride=(1, 1), bias=False)\n",
       "      (bn1): BatchNorm2d(128, eps=1e-05, momentum=0.1, affine=True, track_running_stats=True)\n",
       "      (relu): ReLU(inplace=True)\n",
       "      (conv2): Conv2d(128, 128, kernel_size=(3, 3), stride=(1, 1), padding=(1, 1), bias=False)\n",
       "      (bn2): BatchNorm2d(128, eps=1e-05, momentum=0.1, affine=True, track_running_stats=True)\n",
       "      (conv3): Conv2d(128, 512, kernel_size=(1, 1), stride=(1, 1), bias=False)\n",
       "      (bn3): BatchNorm2d(512, eps=1e-05, momentum=0.1, affine=True, track_running_stats=True)\n",
       "    )\n",
       "    (3): Module(\n",
       "      (conv1): Conv2d(512, 128, kernel_size=(1, 1), stride=(1, 1), bias=False)\n",
       "      (bn1): BatchNorm2d(128, eps=1e-05, momentum=0.1, affine=True, track_running_stats=True)\n",
       "      (relu): ReLU(inplace=True)\n",
       "      (conv2): Conv2d(128, 128, kernel_size=(3, 3), stride=(1, 1), padding=(1, 1), bias=False)\n",
       "      (bn2): BatchNorm2d(128, eps=1e-05, momentum=0.1, affine=True, track_running_stats=True)\n",
       "      (conv3): Conv2d(128, 512, kernel_size=(1, 1), stride=(1, 1), bias=False)\n",
       "      (bn3): BatchNorm2d(512, eps=1e-05, momentum=0.1, affine=True, track_running_stats=True)\n",
       "    )\n",
       "  )\n",
       "  (layer3): Module(\n",
       "    (0): Module(\n",
       "      (conv1): Conv2d(512, 256, kernel_size=(1, 1), stride=(1, 1), bias=False)\n",
       "      (bn1): BatchNorm2d(256, eps=1e-05, momentum=0.1, affine=True, track_running_stats=True)\n",
       "      (relu): ReLU(inplace=True)\n",
       "      (conv2): Conv2d(256, 256, kernel_size=(3, 3), stride=(2, 2), padding=(1, 1), bias=False)\n",
       "      (bn2): BatchNorm2d(256, eps=1e-05, momentum=0.1, affine=True, track_running_stats=True)\n",
       "      (conv3): Conv2d(256, 1024, kernel_size=(1, 1), stride=(1, 1), bias=False)\n",
       "      (bn3): BatchNorm2d(1024, eps=1e-05, momentum=0.1, affine=True, track_running_stats=True)\n",
       "      (downsample): Module(\n",
       "        (0): Conv2d(512, 1024, kernel_size=(1, 1), stride=(2, 2), bias=False)\n",
       "        (1): BatchNorm2d(1024, eps=1e-05, momentum=0.1, affine=True, track_running_stats=True)\n",
       "      )\n",
       "    )\n",
       "    (1): Module(\n",
       "      (conv1): Conv2d(1024, 256, kernel_size=(1, 1), stride=(1, 1), bias=False)\n",
       "      (bn1): BatchNorm2d(256, eps=1e-05, momentum=0.1, affine=True, track_running_stats=True)\n",
       "      (relu): ReLU(inplace=True)\n",
       "      (conv2): Conv2d(256, 256, kernel_size=(3, 3), stride=(1, 1), padding=(1, 1), bias=False)\n",
       "      (bn2): BatchNorm2d(256, eps=1e-05, momentum=0.1, affine=True, track_running_stats=True)\n",
       "      (conv3): Conv2d(256, 1024, kernel_size=(1, 1), stride=(1, 1), bias=False)\n",
       "      (bn3): BatchNorm2d(1024, eps=1e-05, momentum=0.1, affine=True, track_running_stats=True)\n",
       "    )\n",
       "    (2): Module(\n",
       "      (conv1): Conv2d(1024, 256, kernel_size=(1, 1), stride=(1, 1), bias=False)\n",
       "      (bn1): BatchNorm2d(256, eps=1e-05, momentum=0.1, affine=True, track_running_stats=True)\n",
       "      (relu): ReLU(inplace=True)\n",
       "      (conv2): Conv2d(256, 256, kernel_size=(3, 3), stride=(1, 1), padding=(1, 1), bias=False)\n",
       "      (bn2): BatchNorm2d(256, eps=1e-05, momentum=0.1, affine=True, track_running_stats=True)\n",
       "      (conv3): Conv2d(256, 1024, kernel_size=(1, 1), stride=(1, 1), bias=False)\n",
       "      (bn3): BatchNorm2d(1024, eps=1e-05, momentum=0.1, affine=True, track_running_stats=True)\n",
       "    )\n",
       "    (3): Module(\n",
       "      (conv1): Conv2d(1024, 256, kernel_size=(1, 1), stride=(1, 1), bias=False)\n",
       "      (bn1): BatchNorm2d(256, eps=1e-05, momentum=0.1, affine=True, track_running_stats=True)\n",
       "      (relu): ReLU(inplace=True)\n",
       "      (conv2): Conv2d(256, 256, kernel_size=(3, 3), stride=(1, 1), padding=(1, 1), bias=False)\n",
       "      (bn2): BatchNorm2d(256, eps=1e-05, momentum=0.1, affine=True, track_running_stats=True)\n",
       "      (conv3): Conv2d(256, 1024, kernel_size=(1, 1), stride=(1, 1), bias=False)\n",
       "      (bn3): BatchNorm2d(1024, eps=1e-05, momentum=0.1, affine=True, track_running_stats=True)\n",
       "    )\n",
       "    (4): Module(\n",
       "      (conv1): Conv2d(1024, 256, kernel_size=(1, 1), stride=(1, 1), bias=False)\n",
       "      (bn1): BatchNorm2d(256, eps=1e-05, momentum=0.1, affine=True, track_running_stats=True)\n",
       "      (relu): ReLU(inplace=True)\n",
       "      (conv2): Conv2d(256, 256, kernel_size=(3, 3), stride=(1, 1), padding=(1, 1), bias=False)\n",
       "      (bn2): BatchNorm2d(256, eps=1e-05, momentum=0.1, affine=True, track_running_stats=True)\n",
       "      (conv3): Conv2d(256, 1024, kernel_size=(1, 1), stride=(1, 1), bias=False)\n",
       "      (bn3): BatchNorm2d(1024, eps=1e-05, momentum=0.1, affine=True, track_running_stats=True)\n",
       "    )\n",
       "    (5): Module(\n",
       "      (conv1): Conv2d(1024, 256, kernel_size=(1, 1), stride=(1, 1), bias=False)\n",
       "      (bn1): BatchNorm2d(256, eps=1e-05, momentum=0.1, affine=True, track_running_stats=True)\n",
       "      (relu): ReLU(inplace=True)\n",
       "      (conv2): Conv2d(256, 256, kernel_size=(3, 3), stride=(1, 1), padding=(1, 1), bias=False)\n",
       "      (bn2): BatchNorm2d(256, eps=1e-05, momentum=0.1, affine=True, track_running_stats=True)\n",
       "      (conv3): Conv2d(256, 1024, kernel_size=(1, 1), stride=(1, 1), bias=False)\n",
       "      (bn3): BatchNorm2d(1024, eps=1e-05, momentum=0.1, affine=True, track_running_stats=True)\n",
       "    )\n",
       "  )\n",
       "  (layer4): Module(\n",
       "    (0): Module(\n",
       "      (conv1): Conv2d(1024, 512, kernel_size=(1, 1), stride=(1, 1), bias=False)\n",
       "      (bn1): BatchNorm2d(512, eps=1e-05, momentum=0.1, affine=True, track_running_stats=True)\n",
       "      (relu): ReLU(inplace=True)\n",
       "      (conv2): Conv2d(512, 512, kernel_size=(3, 3), stride=(2, 2), padding=(1, 1), bias=False)\n",
       "      (bn2): BatchNorm2d(512, eps=1e-05, momentum=0.1, affine=True, track_running_stats=True)\n",
       "      (conv3): Conv2d(512, 2048, kernel_size=(1, 1), stride=(1, 1), bias=False)\n",
       "      (bn3): BatchNorm2d(2048, eps=1e-05, momentum=0.1, affine=True, track_running_stats=True)\n",
       "      (downsample): Module(\n",
       "        (0): Conv2d(1024, 2048, kernel_size=(1, 1), stride=(2, 2), bias=False)\n",
       "        (1): BatchNorm2d(2048, eps=1e-05, momentum=0.1, affine=True, track_running_stats=True)\n",
       "      )\n",
       "    )\n",
       "    (1): Module(\n",
       "      (conv1): Conv2d(2048, 512, kernel_size=(1, 1), stride=(1, 1), bias=False)\n",
       "      (bn1): BatchNorm2d(512, eps=1e-05, momentum=0.1, affine=True, track_running_stats=True)\n",
       "      (relu): ReLU(inplace=True)\n",
       "      (conv2): Conv2d(512, 512, kernel_size=(3, 3), stride=(1, 1), padding=(1, 1), bias=False)\n",
       "      (bn2): BatchNorm2d(512, eps=1e-05, momentum=0.1, affine=True, track_running_stats=True)\n",
       "      (conv3): Conv2d(512, 2048, kernel_size=(1, 1), stride=(1, 1), bias=False)\n",
       "      (bn3): BatchNorm2d(2048, eps=1e-05, momentum=0.1, affine=True, track_running_stats=True)\n",
       "    )\n",
       "    (2): Module(\n",
       "      (conv1): Conv2d(2048, 512, kernel_size=(1, 1), stride=(1, 1), bias=False)\n",
       "      (bn1): BatchNorm2d(512, eps=1e-05, momentum=0.1, affine=True, track_running_stats=True)\n",
       "      (relu): ReLU(inplace=True)\n",
       "      (conv2): Conv2d(512, 512, kernel_size=(3, 3), stride=(1, 1), padding=(1, 1), bias=False)\n",
       "      (bn2): BatchNorm2d(512, eps=1e-05, momentum=0.1, affine=True, track_running_stats=True)\n",
       "      (conv3): Conv2d(512, 2048, kernel_size=(1, 1), stride=(1, 1), bias=False)\n",
       "      (bn3): BatchNorm2d(2048, eps=1e-05, momentum=0.1, affine=True, track_running_stats=True)\n",
       "    )\n",
       "  )\n",
       "  (avgpool): AdaptiveAvgPool2d(output_size=(1, 1))\n",
       ")"
      ]
     },
     "execution_count": 83,
     "metadata": {},
     "output_type": "execute_result"
    }
   ],
   "source": [
    "resnet50 = models.resnet50(weights=ResNet50_Weights.DEFAULT)\n",
    "resnet50_feature_extractor = create_feature_extractor(\n",
    "    resnet50, \n",
    "    return_nodes={\"flatten\":\"features\"}\n",
    ")\n",
    "resnet50_feature_extractor"
   ]
  },
  {
   "attachments": {},
   "cell_type": "markdown",
   "metadata": {},
   "source": [
    "# Text encoder確認"
   ]
  },
  {
   "cell_type": "code",
   "execution_count": 1,
   "metadata": {},
   "outputs": [
    {
     "name": "stderr",
     "output_type": "stream",
     "text": [
      "/home/taki/miniconda3/envs/mm-cot/lib/python3.10/site-packages/tqdm/auto.py:21: TqdmWarning: IProgress not found. Please update jupyter and ipywidgets. See https://ipywidgets.readthedocs.io/en/stable/user_install.html\n",
      "  from .autonotebook import tqdm as notebook_tqdm\n"
     ]
    }
   ],
   "source": [
    "from transformers import T5Tokenizer, T5EncoderModel"
   ]
  },
  {
   "cell_type": "code",
   "execution_count": 82,
   "metadata": {},
   "outputs": [
    {
     "name": "stderr",
     "output_type": "stream",
     "text": [
      "Some weights of the model checkpoint at t5-small were not used when initializing T5EncoderModel: ['decoder.block.2.layer.0.SelfAttention.k.weight', 'decoder.block.0.layer.0.SelfAttention.v.weight', 'decoder.block.5.layer.0.SelfAttention.q.weight', 'decoder.block.4.layer.1.EncDecAttention.v.weight', 'decoder.block.0.layer.1.EncDecAttention.k.weight', 'decoder.block.1.layer.1.EncDecAttention.q.weight', 'decoder.block.4.layer.1.layer_norm.weight', 'decoder.block.1.layer.1.layer_norm.weight', 'decoder.block.5.layer.1.EncDecAttention.o.weight', 'decoder.block.4.layer.2.DenseReluDense.wo.weight', 'decoder.block.0.layer.1.EncDecAttention.v.weight', 'decoder.block.2.layer.2.DenseReluDense.wi.weight', 'decoder.block.1.layer.0.SelfAttention.k.weight', 'decoder.block.0.layer.2.DenseReluDense.wi.weight', 'decoder.block.5.layer.2.DenseReluDense.wo.weight', 'decoder.block.4.layer.0.SelfAttention.v.weight', 'decoder.block.2.layer.1.EncDecAttention.v.weight', 'decoder.block.2.layer.1.EncDecAttention.q.weight', 'decoder.block.0.layer.0.SelfAttention.relative_attention_bias.weight', 'decoder.block.3.layer.1.EncDecAttention.k.weight', 'decoder.block.4.layer.2.layer_norm.weight', 'decoder.block.0.layer.2.DenseReluDense.wo.weight', 'decoder.block.5.layer.1.layer_norm.weight', 'decoder.block.3.layer.1.EncDecAttention.v.weight', 'decoder.block.3.layer.0.SelfAttention.v.weight', 'decoder.final_layer_norm.weight', 'decoder.block.1.layer.0.layer_norm.weight', 'decoder.block.4.layer.1.EncDecAttention.q.weight', 'decoder.block.5.layer.1.EncDecAttention.q.weight', 'decoder.block.2.layer.1.EncDecAttention.o.weight', 'decoder.block.5.layer.0.layer_norm.weight', 'decoder.block.3.layer.1.layer_norm.weight', 'decoder.block.2.layer.0.SelfAttention.v.weight', 'decoder.block.4.layer.0.layer_norm.weight', 'decoder.block.1.layer.1.EncDecAttention.v.weight', 'decoder.block.1.layer.2.DenseReluDense.wo.weight', 'decoder.block.3.layer.1.EncDecAttention.q.weight', 'decoder.block.1.layer.1.EncDecAttention.o.weight', 'decoder.block.4.layer.0.SelfAttention.k.weight', 'decoder.block.5.layer.2.DenseReluDense.wi.weight', 'decoder.block.1.layer.2.DenseReluDense.wi.weight', 'decoder.block.3.layer.0.SelfAttention.o.weight', 'decoder.block.2.layer.0.SelfAttention.q.weight', 'decoder.block.0.layer.0.SelfAttention.k.weight', 'decoder.block.3.layer.2.DenseReluDense.wo.weight', 'decoder.block.5.layer.1.EncDecAttention.v.weight', 'decoder.block.3.layer.2.layer_norm.weight', 'decoder.block.0.layer.0.SelfAttention.q.weight', 'decoder.block.5.layer.2.layer_norm.weight', 'decoder.block.0.layer.1.EncDecAttention.o.weight', 'decoder.block.1.layer.1.EncDecAttention.k.weight', 'decoder.block.4.layer.2.DenseReluDense.wi.weight', 'decoder.block.1.layer.0.SelfAttention.v.weight', 'decoder.block.2.layer.2.layer_norm.weight', 'decoder.block.4.layer.1.EncDecAttention.o.weight', 'decoder.block.1.layer.0.SelfAttention.o.weight', 'decoder.block.3.layer.1.EncDecAttention.o.weight', 'decoder.block.0.layer.0.SelfAttention.o.weight', 'decoder.block.0.layer.1.EncDecAttention.q.weight', 'decoder.block.2.layer.2.DenseReluDense.wo.weight', 'decoder.block.3.layer.2.DenseReluDense.wi.weight', 'decoder.block.2.layer.0.SelfAttention.o.weight', 'decoder.block.3.layer.0.layer_norm.weight', 'decoder.block.5.layer.0.SelfAttention.o.weight', 'decoder.block.1.layer.0.SelfAttention.q.weight', 'decoder.block.2.layer.1.layer_norm.weight', 'decoder.block.2.layer.0.layer_norm.weight', 'decoder.block.4.layer.0.SelfAttention.q.weight', 'decoder.block.2.layer.1.EncDecAttention.k.weight', 'decoder.block.4.layer.1.EncDecAttention.k.weight', 'decoder.block.3.layer.0.SelfAttention.q.weight', 'decoder.block.5.layer.0.SelfAttention.k.weight', 'decoder.block.0.layer.1.EncDecAttention.relative_attention_bias.weight', 'decoder.block.4.layer.0.SelfAttention.o.weight', 'decoder.block.0.layer.0.layer_norm.weight', 'decoder.block.5.layer.0.SelfAttention.v.weight', 'decoder.block.1.layer.2.layer_norm.weight', 'decoder.block.0.layer.2.layer_norm.weight', 'decoder.block.5.layer.1.EncDecAttention.k.weight', 'decoder.block.3.layer.0.SelfAttention.k.weight', 'decoder.block.0.layer.1.layer_norm.weight']\n",
      "- This IS expected if you are initializing T5EncoderModel from the checkpoint of a model trained on another task or with another architecture (e.g. initializing a BertForSequenceClassification model from a BertForPreTraining model).\n",
      "- This IS NOT expected if you are initializing T5EncoderModel from the checkpoint of a model that you expect to be exactly identical (initializing a BertForSequenceClassification model from a BertForSequenceClassification model).\n",
      "Some weights of T5EncoderModel were not initialized from the model checkpoint at t5-small and are newly initialized: ['encoder.embed_tokens.weight']\n",
      "You should probably TRAIN this model on a down-stream task to be able to use it for predictions and inference.\n"
     ]
    }
   ],
   "source": [
    "from transformers import T5Tokenizer, T5EncoderModel\n",
    "tokenizer = T5Tokenizer.from_pretrained('t5-small')\n",
    "model = T5EncoderModel.from_pretrained('t5-small')\n",
    "input_ids = tokenizer(\"Studies have been shown that owning a dog is good for you\", return_tensors=\"pt\").input_ids  # Batch size 1\n",
    "outputs = model(input_ids=input_ids).last_hidden_state\n",
    "\n",
    "fc = nn.Linear(model.config.d_model, 512)"
   ]
  },
  {
   "cell_type": "code",
   "execution_count": 83,
   "metadata": {},
   "outputs": [
    {
     "data": {
      "text/plain": [
       "{'input_ids': tensor([[6536,   43,  118, 2008,   24,  293,   53,    3,    9, 1782,   19,  207,\n",
       "           21,   25,    1]]), 'attention_mask': tensor([[1, 1, 1, 1, 1, 1, 1, 1, 1, 1, 1, 1, 1, 1, 1]])}"
      ]
     },
     "execution_count": 83,
     "metadata": {},
     "output_type": "execute_result"
    }
   ],
   "source": [
    "input_ids = tokenizer.batch_encode_plus([\"Studies have been shown that owning a dog is good for you\"], return_tensors=\"pt\")\n",
    "input_ids"
   ]
  },
  {
   "cell_type": "code",
   "execution_count": 84,
   "metadata": {},
   "outputs": [
    {
     "data": {
      "text/plain": [
       "tensor([[[ 0.2828,  0.0979,  0.1090,  ..., -0.2794,  0.2154,  0.0370],\n",
       "         [ 0.1593,  0.0956, -0.0922,  ...,  0.1854,  0.0993,  0.1548],\n",
       "         [ 0.0076,  0.0090, -0.0092,  ...,  0.0050,  0.0019,  0.0076],\n",
       "         ...,\n",
       "         [-0.0119, -0.1228, -0.0638,  ..., -0.0602, -0.1791, -0.0499],\n",
       "         [-0.0342, -0.0511, -0.1488,  ...,  0.3007, -0.2612, -0.1452],\n",
       "         [ 0.0670,  0.1300, -0.0356,  ..., -0.0100,  0.0690, -0.0531]]],\n",
       "       grad_fn=<MulBackward0>)"
      ]
     },
     "execution_count": 84,
     "metadata": {},
     "output_type": "execute_result"
    }
   ],
   "source": [
    "outputs"
   ]
  },
  {
   "cell_type": "code",
   "execution_count": 85,
   "metadata": {},
   "outputs": [
    {
     "data": {
      "text/plain": [
       "tensor([[[-0.1241,  0.0727,  0.1385,  ..., -0.0615,  0.0652, -0.0858],\n",
       "         [-0.0586,  0.0510,  0.0378,  ...,  0.0239,  0.1661, -0.0825],\n",
       "         [-0.0437,  0.0339, -0.0252,  ...,  0.0363,  0.0490,  0.0011],\n",
       "         ...,\n",
       "         [-0.1345, -0.0413, -0.0224,  ...,  0.0640,  0.0319,  0.1138],\n",
       "         [-0.0819,  0.0276, -0.0433,  ...,  0.0740,  0.0393,  0.0673],\n",
       "         [-0.0777,  0.0207,  0.0137,  ...,  0.0294, -0.0024, -0.0178]]],\n",
       "       grad_fn=<ViewBackward0>)"
      ]
     },
     "execution_count": 85,
     "metadata": {},
     "output_type": "execute_result"
    }
   ],
   "source": [
    "fc(outputs)\n"
   ]
  },
  {
   "cell_type": "code",
   "execution_count": 70,
   "metadata": {},
   "outputs": [
    {
     "data": {
      "text/plain": [
       "tensor([[[ 0.2828,  0.0979,  0.1090,  ..., -0.2794,  0.2154,  0.0370],\n",
       "         [ 0.1593,  0.0956, -0.0922,  ...,  0.1854,  0.0993,  0.1548],\n",
       "         [ 0.0076,  0.0090, -0.0092,  ...,  0.0050,  0.0019,  0.0076],\n",
       "         ...,\n",
       "         [-0.0119, -0.1228, -0.0638,  ..., -0.0602, -0.1791, -0.0499],\n",
       "         [-0.0342, -0.0511, -0.1488,  ...,  0.3007, -0.2612, -0.1452],\n",
       "         [ 0.0670,  0.1300, -0.0356,  ..., -0.0100,  0.0690, -0.0531]]],\n",
       "       grad_fn=<MulBackward0>)"
      ]
     },
     "execution_count": 70,
     "metadata": {},
     "output_type": "execute_result"
    }
   ],
   "source": [
    "outputs.last_hidden_state"
   ]
  },
  {
   "cell_type": "code",
   "execution_count": 26,
   "metadata": {},
   "outputs": [
    {
     "data": {
      "text/plain": [
       "odict_keys(['last_hidden_state'])"
      ]
     },
     "execution_count": 26,
     "metadata": {},
     "output_type": "execute_result"
    }
   ],
   "source": [
    "outputs.keys()"
   ]
  },
  {
   "cell_type": "code",
   "execution_count": 51,
   "metadata": {},
   "outputs": [
    {
     "data": {
      "text/plain": [
       "{'input_ids': tensor([[49406,   571,  1089,  8582, 49407]]), 'attention_mask': tensor([[1, 1, 1, 1, 1]])}"
      ]
     },
     "execution_count": 51,
     "metadata": {},
     "output_type": "execute_result"
    }
   ],
   "source": [
    "txt_input"
   ]
  },
  {
   "cell_type": "code",
   "execution_count": 14,
   "metadata": {},
   "outputs": [
    {
     "data": {
      "text/plain": [
       "=========================================================================================================\n",
       "Layer (type:depth-idx)                                  Output Shape              Param #\n",
       "=========================================================================================================\n",
       "T5EncoderModel                                          [1, 15, 512]              --\n",
       "├─T5Stack: 1-1                                          [1, 15, 512]              --\n",
       "│    └─Embedding: 2-1                                   [1, 15, 512]              16,449,536\n",
       "│    └─Dropout: 2-2                                     [1, 15, 512]              --\n",
       "│    └─ModuleList: 2-3                                  --                        --\n",
       "│    │    └─T5Block: 3-1                                [1, 15, 512]              3,147,008\n",
       "│    │    └─T5Block: 3-14                               --                        (recursive)\n",
       "│    │    └─T5Block: 3-3                                --                        (recursive)\n",
       "│    │    └─T5Block: 3-4                                [1, 15, 512]              3,146,752\n",
       "│    │    └─T5Block: 3-14                               --                        (recursive)\n",
       "│    │    └─T5Block: 3-6                                --                        (recursive)\n",
       "│    │    └─T5Block: 3-7                                [1, 15, 512]              3,146,752\n",
       "│    │    └─T5Block: 3-14                               --                        (recursive)\n",
       "│    │    └─T5Block: 3-9                                --                        (recursive)\n",
       "│    │    └─T5Block: 3-10                               [1, 15, 512]              3,146,752\n",
       "│    │    └─T5Block: 3-14                               --                        (recursive)\n",
       "│    │    └─T5Block: 3-12                               --                        (recursive)\n",
       "│    │    └─T5Block: 3-13                               [1, 15, 512]              3,146,752\n",
       "│    │    └─T5Block: 3-14                               --                        (recursive)\n",
       "│    │    └─T5Block: 3-15                               --                        (recursive)\n",
       "│    │    └─T5Block: 3-16                               [1, 15, 512]              3,146,752\n",
       "│    └─T5LayerNorm: 2-4                                 [1, 15, 512]              512\n",
       "│    └─Dropout: 2-5                                     [1, 15, 512]              --\n",
       "=========================================================================================================\n",
       "Total params: 40,573,696\n",
       "Trainable params: 40,573,696\n",
       "Non-trainable params: 0\n",
       "Total mult-adds (M): 35.33\n",
       "=========================================================================================================\n",
       "Input size (MB): 0.00\n",
       "Forward/backward pass size (MB): 4.19\n",
       "Params size (MB): 141.32\n",
       "Estimated Total Size (MB): 145.52\n",
       "========================================================================================================="
      ]
     },
     "execution_count": 14,
     "metadata": {},
     "output_type": "execute_result"
    }
   ],
   "source": [
    "torchinfo.summary(model, input_data=input_ids)"
   ]
  },
  {
   "cell_type": "code",
   "execution_count": null,
   "metadata": {},
   "outputs": [],
   "source": []
  }
 ],
 "metadata": {
  "kernelspec": {
   "display_name": "bentou-guVXyHwZ",
   "language": "python",
   "name": "python3"
  },
  "language_info": {
   "codemirror_mode": {
    "name": "ipython",
    "version": 3
   },
   "file_extension": ".py",
   "mimetype": "text/x-python",
   "name": "python",
   "nbconvert_exporter": "python",
   "pygments_lexer": "ipython3",
   "version": "3.10.11"
  },
  "orig_nbformat": 4
 },
 "nbformat": 4,
 "nbformat_minor": 2
}
